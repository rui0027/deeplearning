{
 "cells": [
  {
   "cell_type": "markdown",
   "metadata": {},
   "source": [
    "# Deep Neural Networks Laboration\n",
    "\n",
    "Data used in this laboration are from the Kitsune Network Attack Dataset, https://archive.ics.uci.edu/ml/datasets/Kitsune+Network+Attack+Dataset . We will focus on the 'Mirai' part of the dataset. Your task is to make a DNN that can classify if each attack is benign or malicious. The dataset has 116 covariates, but to make it a bit more difficult we will remove the first 24 covariates.\n",
    "\n",
    "You need to answer all questions in this notebook."
   ]
  },
  {
   "cell_type": "markdown",
   "metadata": {},
   "source": [
    "# Part 1: Get the data\n",
    "\n",
    "Skip this part if you load stored numpy arrays (Mirai*.npy) (which is recommended)\n",
    "\n",
    "Use `wget` in the terminal of your cloud machine (in the same directory as where you have saved this notebook) to download the data, i.e.\n",
    "\n",
    "wget https://archive.ics.uci.edu/ml/machine-learning-databases/00516/mirai/Mirai_dataset.csv.gz\n",
    "\n",
    "wget https://archive.ics.uci.edu/ml/machine-learning-databases/00516/mirai/Mirai_labels.csv.gz\n",
    "\n",
    "Then unpack the files using `gunzip` in the terminal, i.e.\n",
    "\n",
    "gunzip Mirai_dataset.csv.gz\n",
    "\n",
    "gunzip Mirai_labels.csv.gz"
   ]
  },
  {
   "cell_type": "markdown",
   "metadata": {},
   "source": [
    "# Part 2: Get a graphics card\n",
    "\n",
    "Skip this part if you run on the CPU (recommended)\n",
    "\n",
    "Lets make sure that our script can see the graphics card that will be used. The graphics cards will perform all the time consuming calculations in every training iteration."
   ]
  },
  {
   "cell_type": "code",
   "execution_count": 1,
   "metadata": {},
   "outputs": [],
   "source": [
    "# import os\n",
    "# import warnings\n",
    "\n",
    "# # Ignore FutureWarning from numpy\n",
    "# warnings.simplefilter(action='ignore', category=FutureWarning)\n",
    "\n",
    "# import keras.backend as K\n",
    "# import tensorflow as tf\n",
    "\n",
    "# os.environ[\"CUDA_DEVICE_ORDER\"]=\"PCI_BUS_ID\";\n",
    " \n",
    "# # The GPU id to use, usually either \"0\" or \"1\";\n",
    "# os.environ[\"CUDA_VISIBLE_DEVICES\"]=\"0\";\n",
    "\n",
    "# # Allow growth of GPU memory, otherwise it will always look like all the memory is being used\n",
    "# physical_devices = tf.config.experimental.list_physical_devices('GPU')\n",
    "# tf.config.experimental.set_memory_growth(physical_devices[0], True) "
   ]
  },
  {
   "cell_type": "markdown",
   "metadata": {},
   "source": [
    "# Part 3: Hardware\n",
    "\n",
    "In deep learning, the computer hardware is very important. You should always know what kind of hardware you are working on. Lets pretend that everyone is using an Nvidia RTX 3090 graphics card.\n",
    "\n",
    "Question 1: Google the name of the graphics card, how many CUDA cores does it have?\n",
    "\n",
    "Question 2: How much memory does the graphics card have?\n",
    "\n",
    "Question 3: What is stored in the GPU memory while training a DNN ?"
   ]
  },
  {
   "cell_type": "markdown",
   "metadata": {},
   "source": [
    "A1: It has 10496 CUDA cores [1].\n",
    "\n",
    "A2: It has 24 GB memory [1].\n",
    "\n",
    "A3: Parameters, Optimizer’s variables, Intermediate calculations and Workspace [2].\n",
    "\n",
    "Reference:\n",
    "\n",
    "[1] https://www.nvidia.com/sv-se/geforce/graphics-cards/30-series/rtx-3090-3090ti/\n",
    "\n",
    "[2] https://towardsdatascience.com/how-to-break-gpu-memory-boundaries-even-with-large-batch-sizes-7a9c27a400ce"
   ]
  },
  {
   "cell_type": "markdown",
   "metadata": {},
   "source": [
    "# Part 4: Load the data\n",
    "\n",
    "To make this step easier, directly load the data from saved numpy arrays (.npy) (recommended)\n",
    "\n",
    "\n",
    "Load the dataset from the csv files, it will take some time since it is almost 1.4 GB. (not recommended, unless you want to learn how to do it)\n",
    "\n",
    "We will use the function `genfromtxt` to load the data. (not recommended, unless you want to learn how to do it)\n",
    "\n",
    "https://docs.scipy.org/doc/numpy/reference/generated/numpy.genfromtxt.html\n",
    "\n",
    "Load the data from csv files the first time, then save the data as numpy files for faster loading the next time.\n"
   ]
  },
  {
   "cell_type": "code",
   "execution_count": 2,
   "metadata": {},
   "outputs": [
    {
     "name": "stdout",
     "output_type": "stream",
     "text": [
      "The covariates have size (764137, 92).\n",
      "The labels have size (764137,).\n",
      "number of example 0:  121621\n",
      "number of example 1:  642516\n"
     ]
    }
   ],
   "source": [
    "from numpy import genfromtxt # Not needed if you load data from numpy arrays\n",
    "import numpy as np\n",
    "\n",
    "# Load data from numpy arrays, choose reduced files if the training takes too long\n",
    "X = np.load('Mirai_data.npy')\n",
    "Y = np.load('Mirai_labels.npy')\n",
    "\n",
    "\n",
    "\n",
    "# Remove the first 24 covariates (columns)\n",
    "##\n",
    "X = np.delete(X, np.arange(24), axis=1)\n",
    "print('The covariates have size {}.'.format(X.shape))\n",
    "print('The labels have size {}.'.format(Y.shape))\n",
    "\n",
    "# Print the number of examples of each class\n",
    "print('number of example 0: ', int(len(Y) - np.sum(Y)))\n",
    "print('number of example 1: ',int(np.sum(Y)))\n"
   ]
  },
  {
   "cell_type": "markdown",
   "metadata": {},
   "source": [
    "# Part 5: How good is a naive classifier?\n",
    "\n",
    "Question 4: Given the number of examples from each class, how high classification performance can a naive classifier obtain? The naive classifier will assume that all examples belong to one class. Note: you do not need to make a naive classifier, this is a theoretical question, just to understand how good performance we can obtain by guessing that all examples belong to one class."
   ]
  },
  {
   "cell_type": "code",
   "execution_count": 3,
   "metadata": {},
   "outputs": [
    {
     "name": "stdout",
     "output_type": "stream",
     "text": [
      "[[False False False ... False False False]\n",
      " [False False False ... False False False]\n",
      " [False False False ... False False False]\n",
      " ...\n",
      " [False False False ... False False False]\n",
      " [False False False ... False False False]\n",
      " [False False False ... False False False]]\n",
      "0\n",
      "0\n"
     ]
    }
   ],
   "source": [
    "# It is common to have NaNs in the data, lets check for it. Hint: np.isnan()\n",
    "print(np.isnan(X))\n",
    "\n",
    "# Print the number of NaNs (not a number) in the labels\n",
    "print(np.count_nonzero(np.isnan(Y)))\n",
    "\n",
    "# Print the number of NaNs in the covariates\n",
    "print(np.count_nonzero(np.isnan(X)))"
   ]
  },
  {
   "cell_type": "markdown",
   "metadata": {},
   "source": [
    "# Part 6: Preprocessing\n",
    "\n",
    "Lets do some simple preprocessing"
   ]
  },
  {
   "cell_type": "code",
   "execution_count": 20,
   "metadata": {},
   "outputs": [
    {
     "name": "stdout",
     "output_type": "stream",
     "text": [
      "[-2.61570467e-17  2.91009930e-16  1.75706916e-16  1.58299880e-16\n",
      "  5.57025141e-16  7.98938304e-17  1.11434784e-16  5.60409843e-16\n",
      "  2.42359497e-16 -5.41924166e-17]\n",
      "[1. 1. 1. 1. 1. 1. 1. 1. 1. 1.]\n"
     ]
    }
   ],
   "source": [
    "# Convert covariates to floats\n",
    "X.astype(float)\n",
    "\n",
    "# Convert labels to integers\n",
    "Y.astype(int)\n",
    "\n",
    "# Remove mean of each covariate (column)\n",
    "mean = np.mean(X, axis = 0) #axis = 0 means along the column and axis = 1 means working along the row\n",
    "X = X - mean\n",
    "\n",
    "# Divide each covariate (column) by its standard deviation\n",
    "sd = np.std(X, axis = 0)\n",
    "X = X / sd\n",
    "\n",
    "# Check that mean is 0 and standard deviation is 1 for all covariates, by printing mean and std\n",
    "print(np.mean(X, axis=0)[0:10])\n",
    "print(np.std(X, axis=0)[0:10])"
   ]
  },
  {
   "cell_type": "markdown",
   "metadata": {},
   "source": [
    "# Part 7: Split the dataset\n",
    "\n",
    "Use the first 70% of the dataset for training, leave the other 30% for validation and test, call the variables\n",
    "\n",
    "Xtrain (70%)\n",
    "\n",
    "Xtemp  (30%)\n",
    "\n",
    "Ytrain (70%)\n",
    "\n",
    "Ytemp  (30%)\n",
    "\n",
    "We use a function from scikit learn.\n",
    "https://scikit-learn.org/stable/modules/generated/sklearn.model_selection.train_test_split.html\n"
   ]
  },
  {
   "cell_type": "code",
   "execution_count": 21,
   "metadata": {},
   "outputs": [
    {
     "name": "stdout",
     "output_type": "stream",
     "text": [
      "number of example 0 in Ytrain:  85248\n",
      "number of example 1 in Ytrain:  449647\n",
      "number of example 0 in Ytemp:  36373\n",
      "number of example 1 in Ytemp:  192869\n"
     ]
    }
   ],
   "source": [
    "from sklearn.model_selection import train_test_split\n",
    "\n",
    "# Your code\n",
    "\n",
    "Xtrain, Xtemp, Ytrain, Ytemp = train_test_split(X, Y, test_size=0.3, random_state=42)\n",
    "\n",
    "# Print the number of examples of each class, for the training data and the remaining 30%\n",
    "##\n",
    "print('number of example 0 in Ytrain: ', int(len(Ytrain) - np.sum(Ytrain)))\n",
    "print('number of example 1 in Ytrain: ',int(np.sum(Ytrain)))\n",
    "\n",
    "print('number of example 0 in Ytemp: ', int(len(Ytemp) - np.sum(Ytemp)))\n",
    "print('number of example 1 in Ytemp: ',int(np.sum(Ytemp)))"
   ]
  },
  {
   "cell_type": "markdown",
   "metadata": {},
   "source": [
    "#  Part 8: Split non-training data data into validation and test\n",
    "Now split your non-training data (Xtemp, Ytemp) into 50% validation (Xval, Yval) and 50% testing (Xtest, Ytest), we use a function from scikit learn. In total this gives us 70% for training, 15% for validation, 15% for test.\n",
    "\n",
    "https://scikit-learn.org/stable/modules/generated/sklearn.model_selection.train_test_split.html\n",
    "\n",
    "Do all variables (Xtrain,Ytrain), (Xval,Yval), (Xtest,Ytest) have the shape that you expect?"
   ]
  },
  {
   "cell_type": "code",
   "execution_count": 22,
   "metadata": {
    "pycharm": {
     "name": "#%%\n"
    }
   },
   "outputs": [
    {
     "name": "stdout",
     "output_type": "stream",
     "text": [
      "The validation and test data have size (114621, 92), (114621, 92), (114621,) and (114621,)\n",
      "number of example 0 in Ytemp:  18027\n",
      "number of example 1 in Ytemp:  96594\n",
      "number of example 0 in Ytemp:  18346\n",
      "number of example 1 in Ytemp:  96275\n"
     ]
    }
   ],
   "source": [
    "from sklearn.model_selection import train_test_split\n",
    "##\n",
    "Xval, Xtest, Yval, Ytest = train_test_split(Xtemp, Ytemp, test_size=0.5, random_state=12345)\n",
    "\n",
    "\n",
    "print('The validation and test data have size {}, {}, {} and {}'.format(Xval.shape, Xtest.shape, Yval.shape, Ytest.shape))\n",
    "\n",
    "##\n",
    "print('number of example 0 in Ytemp: ', int(len(Ytest) - np.sum(Ytest)))\n",
    "print('number of example 1 in Ytemp: ',int(np.sum(Ytest)))\n",
    "print('number of example 0 in Ytemp: ', int(len(Yval) - np.sum(Yval)))\n",
    "print('number of example 1 in Ytemp: ',int(np.sum(Yval)))"
   ]
  },
  {
   "cell_type": "markdown",
   "metadata": {},
   "source": [
    "Answer: The funciton will plit arrays or matrices into random train and test subsets.\n",
    "All variables have the shape that we expect, the number of different classes is the same.\n"
   ]
  },
  {
   "cell_type": "markdown",
   "metadata": {},
   "source": [
    "# Part 9: DNN classification\n",
    "\n",
    "Finish this code to create a first version of the classifier using a DNN. Start with a simple network with 2 dense layers (with 20 nodes each), using sigmoid activation functions. The final dense layer should have a single node and a sigmoid activation function. We start with the SGD optimizer.\n",
    "\n",
    "For different parts of this notebook you need to go back here, add more things, and re-run this cell to re-define the build function.\n",
    "\n",
    "Relevant functions are\n",
    "\n",
    "`model.add()`, adds a layer to the network\n",
    "\n",
    "`Dense()`, a dense network layer\n",
    "\n",
    "`model.compile()`, compile the model, add \" metrics=['accuracy'] \" to print the classification accuracy during the training\n",
    "\n",
    "See https://keras.io/layers/core/ for information on how the `Dense()` function works\n",
    "\n",
    "Import a relevant cost / loss function for binary classification from keras.losses (https://keras.io/losses/)\n",
    "\n",
    "See the following links for how to compile, train and evaluate the model\n",
    "\n",
    "https://keras.io/api/models/model_training_apis/#compile-method\n",
    "\n",
    "https://keras.io/api/models/model_training_apis/#fit-method\n",
    "\n",
    "https://keras.io/api/models/model_training_apis/#evaluate-method\n"
   ]
  },
  {
   "cell_type": "code",
   "execution_count": 23,
   "metadata": {},
   "outputs": [],
   "source": [
    "from keras.models import Sequential, Model\n",
    "from keras.layers import Input, Dense, BatchNormalization, Dropout\n",
    "# from tensorflow.keras.optimizers import SGD\n",
    "##\n",
    "from keras.optimizers import SGD, Adam\n",
    "from keras.losses import binary_crossentropy\n",
    "\n",
    "# Set seed from random number generator, for better comparisons\n",
    "from numpy.random import seed\n",
    "seed(123)\n",
    "\n",
    "def build_DNN(input_shape, n_layers, n_nodes, act_fun='sigmoid', optimizer='sgd', learning_rate=0.01, \n",
    "              use_bn=False, use_dropout=False, use_custom_dropout=False):\n",
    "    \n",
    "    # Setup optimizer, depending on input parameter string\n",
    "    if optimizer == 'sgd':\n",
    "        optim = SGD(lr = learning_rate)\n",
    "    elif optimizer == \"Adam\":\n",
    "        optim  = Adam(learning_rate=learning_rate)\n",
    "    # Setup a sequential model\n",
    "    model = Sequential()\n",
    "\n",
    "    # Add layers to the model, using the input parameters of the build_DNN function\n",
    "    \n",
    "    # Add first layer, requires input shape\n",
    "    model.add(Dense(20,input_shape = input_shape,activation = act_fun ))\n",
    "    if use_bn:\n",
    "        model.add(BatchNormalization())\n",
    "    if use_dropout:\n",
    "        model.add(Dropout(rate = 0.5))\n",
    "    if use_custom_dropout:\n",
    "        model.add(myDropout(rate = 0.5))\n",
    "    # Add remaining layers, do not require input shape\n",
    "    for i in range(n_layers-1):\n",
    "        model.add(Dense(20,activation = act_fun))\n",
    "        if use_bn:\n",
    "            model.add(BatchNormalization())\n",
    "        if use_dropout:\n",
    "            model.add(Dropout(rate = 0.5))\n",
    "        if use_custom_dropout:\n",
    "            model.add(myDropout(rate = 0.5))\n",
    "\n",
    "    # Add final layer\n",
    "    model.add(Dense(1,activation = act_fun))\n",
    "\n",
    "    # Compile model\n",
    "    model.compile(optim,loss=binary_crossentropy,metrics=['accuracy'])\n",
    "\n",
    "    return model"
   ]
  },
  {
   "cell_type": "code",
   "execution_count": 24,
   "metadata": {},
   "outputs": [],
   "source": [
    "# Lets define a help function for plotting the training results\n",
    "\n",
    "import matplotlib.pyplot as plt\n",
    "def plot_results(history):\n",
    "    \n",
    "    val_loss = history.history['val_loss']\n",
    "    acc = history.history['accuracy']\n",
    "    loss = history.history['loss']\n",
    "    val_acc = history.history['val_accuracy']\n",
    "    \n",
    "    plt.figure(figsize=(10,4))\n",
    "    plt.xlabel('Epochs')\n",
    "    plt.ylabel('Loss')\n",
    "    plt.plot(loss)\n",
    "    plt.plot(val_loss)\n",
    "    plt.legend(['Training','Validation'])\n",
    "\n",
    "    plt.figure(figsize=(10,4))\n",
    "    plt.xlabel('Epochs')\n",
    "    plt.ylabel('Accuracy')\n",
    "    plt.plot(acc)\n",
    "    plt.plot(val_acc)\n",
    "    plt.legend(['Training','Validation'])\n",
    "\n",
    "    plt.show()"
   ]
  },
  {
   "cell_type": "markdown",
   "metadata": {},
   "source": [
    "# Part 10: Train the DNN\n",
    "\n",
    "Time to train the DNN, we start simple with 2 layers with 20 nodes each, learning rate 0.1.\n",
    "\n",
    "Relevant functions\n",
    "\n",
    "`build_DNN`, the function we defined in Part 9, call it with the parameters you want to use\n",
    "\n",
    "`model.fit()`, train the model with some training data\n",
    "\n",
    "`model.evaluate()`, apply the trained model to some test data\n",
    "\n",
    "See the following links for how to train and evaluate the model\n",
    "\n",
    "https://keras.io/api/models/model_training_apis/#fit-method\n",
    "\n",
    "https://keras.io/api/models/model_training_apis/#evaluate-method\n"
   ]
  },
  {
   "cell_type": "markdown",
   "metadata": {},
   "source": [
    "### 2 layers, 20 nodes"
   ]
  },
  {
   "cell_type": "code",
   "execution_count": 25,
   "metadata": {
    "scrolled": true
   },
   "outputs": [
    {
     "name": "stderr",
     "output_type": "stream",
     "text": [
      "2022-04-21 15:43:31.005416: I tensorflow/core/platform/cpu_feature_guard.cc:145] This TensorFlow binary is optimized with Intel(R) MKL-DNN to use the following CPU instructions in performance critical operations:  SSE4.1 SSE4.2\n",
      "To enable them in non-MKL-DNN operations, rebuild TensorFlow with the appropriate compiler flags.\n",
      "2022-04-21 15:43:31.007865: I tensorflow/core/common_runtime/process_util.cc:115] Creating new thread pool with default inter op setting: 8. Tune using inter_op_parallelism_threads for best performance.\n"
     ]
    },
    {
     "name": "stdout",
     "output_type": "stream",
     "text": [
      "Train on 534895 samples, validate on 114621 samples\n",
      "Epoch 1/20\n",
      "534895/534895 [==============================] - 1s 3us/step - loss: 0.4482 - accuracy: 0.8274 - val_loss: 0.4039 - val_accuracy: 0.8399\n",
      "Epoch 2/20\n",
      "534895/534895 [==============================] - 1s 2us/step - loss: 0.3803 - accuracy: 0.8406 - val_loss: 0.3558 - val_accuracy: 0.8399\n",
      "Epoch 3/20\n",
      "534895/534895 [==============================] - 1s 2us/step - loss: 0.3290 - accuracy: 0.8406 - val_loss: 0.3019 - val_accuracy: 0.8399\n",
      "Epoch 4/20\n",
      "534895/534895 [==============================] - 1s 2us/step - loss: 0.2773 - accuracy: 0.8406 - val_loss: 0.2546 - val_accuracy: 0.8399\n",
      "Epoch 5/20\n",
      "534895/534895 [==============================] - 1s 2us/step - loss: 0.2383 - accuracy: 0.8504 - val_loss: 0.2240 - val_accuracy: 0.8591\n",
      "Epoch 6/20\n",
      "534895/534895 [==============================] - 1s 2us/step - loss: 0.2151 - accuracy: 0.8731 - val_loss: 0.2070 - val_accuracy: 0.8965\n",
      "Epoch 7/20\n",
      "534895/534895 [==============================] - 1s 2us/step - loss: 0.2023 - accuracy: 0.9018 - val_loss: 0.1974 - val_accuracy: 0.9057\n",
      "Epoch 8/20\n",
      "534895/534895 [==============================] - 1s 2us/step - loss: 0.1948 - accuracy: 0.9048 - val_loss: 0.1915 - val_accuracy: 0.9059\n",
      "Epoch 9/20\n",
      "534895/534895 [==============================] - 1s 2us/step - loss: 0.1900 - accuracy: 0.9052 - val_loss: 0.1875 - val_accuracy: 0.9064\n",
      "Epoch 10/20\n",
      "534895/534895 [==============================] - 1s 2us/step - loss: 0.1866 - accuracy: 0.9054 - val_loss: 0.1846 - val_accuracy: 0.9066\n",
      "Epoch 11/20\n",
      "534895/534895 [==============================] - 1s 2us/step - loss: 0.1841 - accuracy: 0.9055 - val_loss: 0.1823 - val_accuracy: 0.9068\n",
      "Epoch 12/20\n",
      "534895/534895 [==============================] - 1s 2us/step - loss: 0.1820 - accuracy: 0.9058 - val_loss: 0.1804 - val_accuracy: 0.9070\n",
      "Epoch 13/20\n",
      "534895/534895 [==============================] - 1s 2us/step - loss: 0.1803 - accuracy: 0.9061 - val_loss: 0.1788 - val_accuracy: 0.9075\n",
      "Epoch 14/20\n",
      "534895/534895 [==============================] - 1s 2us/step - loss: 0.1788 - accuracy: 0.9067 - val_loss: 0.1773 - val_accuracy: 0.9080\n",
      "Epoch 15/20\n",
      "534895/534895 [==============================] - 1s 2us/step - loss: 0.1775 - accuracy: 0.9071 - val_loss: 0.1761 - val_accuracy: 0.9085\n",
      "Epoch 16/20\n",
      "534895/534895 [==============================] - 1s 2us/step - loss: 0.1763 - accuracy: 0.9075 - val_loss: 0.1749 - val_accuracy: 0.9089\n",
      "Epoch 17/20\n",
      "534895/534895 [==============================] - 1s 2us/step - loss: 0.1753 - accuracy: 0.9077 - val_loss: 0.1738 - val_accuracy: 0.9091\n",
      "Epoch 18/20\n",
      "534895/534895 [==============================] - 1s 2us/step - loss: 0.1743 - accuracy: 0.9080 - val_loss: 0.1729 - val_accuracy: 0.9092\n",
      "Epoch 19/20\n",
      "534895/534895 [==============================] - 1s 2us/step - loss: 0.1734 - accuracy: 0.9081 - val_loss: 0.1720 - val_accuracy: 0.9093\n",
      "Epoch 20/20\n",
      "534895/534895 [==============================] - 1s 2us/step - loss: 0.1725 - accuracy: 0.9084 - val_loss: 0.1712 - val_accuracy: 0.9095\n"
     ]
    }
   ],
   "source": [
    "# Setup some training parameters\n",
    "batch_size = 10000\n",
    "epochs = 20\n",
    "\n",
    "input_shape = (X.shape[1],)\n",
    "n_layers = 2\n",
    "n_nodes = 20\n",
    "\n",
    "# Build the model\n",
    "model1 = build_DNN(input_shape, n_layers, n_nodes,learning_rate = 0.1)\n",
    "\n",
    "# Train the model, provide training data and validation data\n",
    "history1 = model1.fit(Xtrain,Ytrain,epochs = epochs,validation_data = (Xval,Yval),batch_size=batch_size)"
   ]
  },
  {
   "cell_type": "code",
   "execution_count": 26,
   "metadata": {},
   "outputs": [
    {
     "name": "stdout",
     "output_type": "stream",
     "text": [
      "114621/114621 [==============================] - 1s 13us/step\n",
      "Test loss: 0.1704\n",
      "Test accuracy: 0.9093\n"
     ]
    }
   ],
   "source": [
    "# Evaluate the model on the test data\n",
    "score = model1.evaluate(Xtest,Ytest)\n",
    "\n",
    "print('Test loss: %.4f' % score[0])\n",
    "print('Test accuracy: %.4f' % score[1])"
   ]
  },
  {
   "cell_type": "code",
   "execution_count": 27,
   "metadata": {},
   "outputs": [
    {
     "data": {
      "image/png": "[encoded data removed]",
      "text/plain": [
       "<Figure size 720x288 with 1 Axes>"
      ]
     },
     "metadata": {
      "needs_background": "light"
     },
     "output_type": "display_data"
    },
    {
     "data": {
      "image/png": "[encoded data removed]",
      "text/plain": [
       "<Figure size 720x288 with 1 Axes>"
      ]
     },
     "metadata": {
      "needs_background": "light"
     },
     "output_type": "display_data"
    }
   ],
   "source": [
    "# Plot the history from the training run\n",
    "plot_results(history1)"
   ]
  },
  {
   "cell_type": "markdown",
   "metadata": {},
   "source": [
    "# Part 11: More questions\n",
    "\n",
    "Question 5: What happens if you add several Dense layers without specifying the activation function?\n",
    "\n",
    "Question 6: How are the weights in each dense layer initialized as default? How are the bias weights initialized?\n"
   ]
  },
  {
   "cell_type": "markdown",
   "metadata": {},
   "source": [
    "# Part 12: Balancing the classes\n",
    "\n",
    "This dataset is rather unbalanced, we need to define class weights so that the training pays more attention to the class with fewer samples. We use a function in scikit learn\n",
    "\n",
    "https://scikit-learn.org/stable/modules/generated/sklearn.utils.class_weight.compute_class_weight.html\n",
    "\n",
    "You need to call the function something like this\n",
    "\n",
    "class_weights = class_weight.compute_class_weight(class_weight = , classes = , y = )\n",
    "\n",
    "otherwise it will complain"
   ]
  },
  {
   "cell_type": "code",
   "execution_count": 28,
   "metadata": {},
   "outputs": [
    {
     "name": "stdout",
     "output_type": "stream",
     "text": [
      "[3.14146817 0.59464434]\n"
     ]
    }
   ],
   "source": [
    "from sklearn.utils import class_weight\n",
    "\n",
    "# Calculate class weights\n",
    "class_weights = class_weight.compute_class_weight(\"balanced\", np.unique(Ytest), Y)\n",
    "\n",
    "\n",
    "# Print the class weights\n",
    "print(class_weights)\n",
    "# Keras wants the weights in this form, uncomment and change value1 and value2 to your weights, \n",
    "# or get them from the array that is returned from class_weight\n",
    "\n",
    "#class_weights = {0: value1,\n",
    "#                 1: value2}\n"
   ]
  },
  {
   "cell_type": "markdown",
   "metadata": {},
   "source": [
    "### 2 layers, 20 nodes, class weights"
   ]
  },
  {
   "cell_type": "code",
   "execution_count": 29,
   "metadata": {
    "scrolled": true
   },
   "outputs": [
    {
     "name": "stdout",
     "output_type": "stream",
     "text": [
      "Train on 534895 samples, validate on 114621 samples\n",
      "Epoch 1/20\n",
      "534895/534895 [==============================] - 1s 3us/step - loss: 0.4154 - accuracy: 0.8406 - val_loss: 0.3948 - val_accuracy: 0.8399\n",
      "Epoch 2/20\n",
      "534895/534895 [==============================] - 1s 2us/step - loss: 0.3716 - accuracy: 0.8406 - val_loss: 0.3474 - val_accuracy: 0.8399\n",
      "Epoch 3/20\n",
      "534895/534895 [==============================] - 1s 2us/step - loss: 0.3205 - accuracy: 0.8406 - val_loss: 0.2934 - val_accuracy: 0.8399\n",
      "Epoch 4/20\n",
      "534895/534895 [==============================] - 1s 2us/step - loss: 0.2697 - accuracy: 0.8435 - val_loss: 0.2481 - val_accuracy: 0.8524\n",
      "Epoch 5/20\n",
      "534895/534895 [==============================] - 1s 2us/step - loss: 0.2334 - accuracy: 0.8611 - val_loss: 0.2205 - val_accuracy: 0.8729\n",
      "Epoch 6/20\n",
      "534895/534895 [==============================] - 1s 2us/step - loss: 0.2128 - accuracy: 0.8802 - val_loss: 0.2056 - val_accuracy: 0.8964\n",
      "Epoch 7/20\n",
      "534895/534895 [==============================] - 1s 2us/step - loss: 0.2016 - accuracy: 0.9016 - val_loss: 0.1971 - val_accuracy: 0.9052\n",
      "Epoch 8/20\n",
      "534895/534895 [==============================] - 1s 2us/step - loss: 0.1949 - accuracy: 0.9043 - val_loss: 0.1918 - val_accuracy: 0.9057\n",
      "Epoch 9/20\n",
      "534895/534895 [==============================] - 1s 2us/step - loss: 0.1906 - accuracy: 0.9048 - val_loss: 0.1881 - val_accuracy: 0.9063\n",
      "Epoch 10/20\n",
      "534895/534895 [==============================] - 1s 2us/step - loss: 0.1874 - accuracy: 0.9052 - val_loss: 0.1852 - val_accuracy: 0.9066\n",
      "Epoch 11/20\n",
      "534895/534895 [==============================] - 1s 2us/step - loss: 0.1849 - accuracy: 0.9054 - val_loss: 0.1830 - val_accuracy: 0.9069\n",
      "Epoch 12/20\n",
      "534895/534895 [==============================] - 1s 2us/step - loss: 0.1828 - accuracy: 0.9057 - val_loss: 0.1810 - val_accuracy: 0.9072\n",
      "Epoch 13/20\n",
      "534895/534895 [==============================] - 1s 2us/step - loss: 0.1811 - accuracy: 0.9059 - val_loss: 0.1794 - val_accuracy: 0.9075\n",
      "Epoch 14/20\n",
      "534895/534895 [==============================] - 1s 2us/step - loss: 0.1796 - accuracy: 0.9063 - val_loss: 0.1779 - val_accuracy: 0.9078\n",
      "Epoch 15/20\n",
      "534895/534895 [==============================] - 1s 2us/step - loss: 0.1782 - accuracy: 0.9066 - val_loss: 0.1766 - val_accuracy: 0.9081\n",
      "Epoch 16/20\n",
      "534895/534895 [==============================] - 1s 2us/step - loss: 0.1770 - accuracy: 0.9070 - val_loss: 0.1755 - val_accuracy: 0.9083\n",
      "Epoch 17/20\n",
      "534895/534895 [==============================] - 1s 2us/step - loss: 0.1759 - accuracy: 0.9073 - val_loss: 0.1744 - val_accuracy: 0.9086\n",
      "Epoch 18/20\n",
      "534895/534895 [==============================] - 1s 2us/step - loss: 0.1750 - accuracy: 0.9075 - val_loss: 0.1735 - val_accuracy: 0.9087\n",
      "Epoch 19/20\n",
      "534895/534895 [==============================] - 1s 2us/step - loss: 0.1741 - accuracy: 0.9077 - val_loss: 0.1726 - val_accuracy: 0.9089\n",
      "Epoch 20/20\n",
      "534895/534895 [==============================] - 1s 2us/step - loss: 0.1732 - accuracy: 0.9080 - val_loss: 0.1718 - val_accuracy: 0.9094\n"
     ]
    }
   ],
   "source": [
    "# Setup some training parameters\n",
    "batch_size = 10000\n",
    "epochs = 20\n",
    "input_shape = (X.shape[1],)\n",
    "\n",
    "# Build and train model\n",
    "model2 = build_DNN(input_shape, n_layers, n_nodes, learning_rate = 0.1)\n",
    "\n",
    "history2 = model2.fit(Xtrain,Ytrain,epochs = epochs,validation_data = (Xval,Yval),batch_size=batch_size,class_weight = class_weights)\n"
   ]
  },
  {
   "cell_type": "code",
   "execution_count": 30,
   "metadata": {},
   "outputs": [
    {
     "name": "stdout",
     "output_type": "stream",
     "text": [
      "114621/114621 [==============================] - 1s 13us/step\n",
      "Test loss: 0.1711\n",
      "Test accuracy: 0.9088\n"
     ]
    }
   ],
   "source": [
    "# Evaluate model on test data\n",
    "score = model2.evaluate(Xtest,Ytest)\n",
    "print('Test loss: %.4f' % score[0])\n",
    "print('Test accuracy: %.4f' % score[1])"
   ]
  },
  {
   "cell_type": "code",
   "execution_count": 31,
   "metadata": {},
   "outputs": [
    {
     "data": {
      "image/png": "[encoded data removed]",
      "text/plain": [
       "<Figure size 720x288 with 1 Axes>"
      ]
     },
     "metadata": {
      "needs_background": "light"
     },
     "output_type": "display_data"
    },
    {
     "data": {
      "image/png": "[encoded data removed]",
      "text/plain": [
       "<Figure size 720x288 with 1 Axes>"
      ]
     },
     "metadata": {
      "needs_background": "light"
     },
     "output_type": "display_data"
    }
   ],
   "source": [
    "plot_results(history2)"
   ]
  },
  {
   "cell_type": "markdown",
   "metadata": {},
   "source": [
    "# Part 13: More questions\n",
    "\n",
    "Skip questions 8 and 9 if you run on the CPU (recommended)\n",
    "\n",
    "Question 7: Why do we have to use a batch size? Why can't we simply use all data at once? This is more relevant for even larger datasets.\n",
    "\n",
    "Question 8: How busy is the GPU for a batch size of 100? How much GPU memory is used? Hint: run 'nvidia-smi' on the computer a few times during training.\n",
    "\n",
    "Question 9: What is the processing time for one training epoch when the batch size is 100? What is the processing time for one epoch when the batch size is 1,000? What is the processing time for one epoch when the batch size is 10,000? Explain the results. \n",
    "\n",
    "Question 10: How many times are the weights in the DNN updated in each training epoch if the batch size is 100? How many times are the weights in the DNN updated in each training epoch if the batch size is 1,000? How many times are the weights in the DNN updated in each training epoch if the batch size is 10,000?  \n",
    "\n",
    "Question 11: What limits how large the batch size can be?\n",
    "\n",
    "Question 12: Generally speaking, how is the learning rate related to the batch size? If the batch size is decreased, how should the learning rate be changed?\n",
    "\n",
    "Lets use a batch size of 10,000 from now on, and a learning rate of 0.1."
   ]
  },
  {
   "cell_type": "markdown",
   "metadata": {},
   "source": [
    "# Part 14: Increasing the complexity\n",
    "\n",
    "Lets try some different configurations of number of layers and number of nodes per layer.\n",
    "\n",
    "Question 13: How many trainable parameters does the network with 4 dense layers with 50 nodes each have, compared to the initial network with 2 layers and 20 nodes per layer? Hint: use model.summary()"
   ]
  },
  {
   "cell_type": "markdown",
   "metadata": {},
   "source": [
    "### 4 layers, 20 nodes, class weights"
   ]
  },
  {
   "cell_type": "code",
   "execution_count": 34,
   "metadata": {
    "scrolled": true
   },
   "outputs": [
    {
     "name": "stdout",
     "output_type": "stream",
     "text": [
      "Train on 534895 samples, validate on 114621 samples\n",
      "Epoch 1/20\n",
      "534895/534895 [==============================] - 2s 3us/step - loss: 0.4630 - accuracy: 0.8154 - val_loss: 0.4395 - val_accuracy: 0.8399\n",
      "Epoch 2/20\n",
      "534895/534895 [==============================] - 1s 3us/step - loss: 0.4383 - accuracy: 0.8406 - val_loss: 0.4393 - val_accuracy: 0.8399\n",
      "Epoch 3/20\n",
      "534895/534895 [==============================] - 1s 3us/step - loss: 0.4381 - accuracy: 0.8406 - val_loss: 0.4391 - val_accuracy: 0.8399\n",
      "Epoch 4/20\n",
      "534895/534895 [==============================] - 1s 3us/step - loss: 0.4379 - accuracy: 0.8406 - val_loss: 0.4389 - val_accuracy: 0.8399\n",
      "Epoch 5/20\n",
      "534895/534895 [==============================] - 1s 3us/step - loss: 0.4377 - accuracy: 0.8406 - val_loss: 0.4387 - val_accuracy: 0.8399\n",
      "Epoch 6/20\n",
      "534895/534895 [==============================] - 1s 3us/step - loss: 0.4374 - accuracy: 0.8406 - val_loss: 0.4384 - val_accuracy: 0.8399\n",
      "Epoch 7/20\n",
      "534895/534895 [==============================] - 2s 3us/step - loss: 0.4372 - accuracy: 0.8406 - val_loss: 0.4381 - val_accuracy: 0.8399\n",
      "Epoch 8/20\n",
      "534895/534895 [==============================] - 1s 3us/step - loss: 0.4369 - accuracy: 0.8406 - val_loss: 0.4378 - val_accuracy: 0.8399\n",
      "Epoch 9/20\n",
      "534895/534895 [==============================] - 1s 3us/step - loss: 0.4365 - accuracy: 0.8406 - val_loss: 0.4375 - val_accuracy: 0.8399\n",
      "Epoch 10/20\n",
      "534895/534895 [==============================] - 1s 3us/step - loss: 0.4362 - accuracy: 0.8406 - val_loss: 0.4371 - val_accuracy: 0.8399\n",
      "Epoch 11/20\n",
      "534895/534895 [==============================] - 1s 3us/step - loss: 0.4357 - accuracy: 0.8406 - val_loss: 0.4366 - val_accuracy: 0.8399\n",
      "Epoch 12/20\n",
      "534895/534895 [==============================] - 1s 3us/step - loss: 0.4352 - accuracy: 0.8406 - val_loss: 0.4361 - val_accuracy: 0.8399\n",
      "Epoch 13/20\n",
      "534895/534895 [==============================] - 1s 3us/step - loss: 0.4347 - accuracy: 0.8406 - val_loss: 0.4354 - val_accuracy: 0.8399\n",
      "Epoch 14/20\n",
      "534895/534895 [==============================] - 1s 3us/step - loss: 0.4340 - accuracy: 0.8406 - val_loss: 0.4347 - val_accuracy: 0.8399\n",
      "Epoch 15/20\n",
      "534895/534895 [==============================] - 1s 3us/step - loss: 0.4332 - accuracy: 0.8406 - val_loss: 0.4338 - val_accuracy: 0.8399\n",
      "Epoch 16/20\n",
      "534895/534895 [==============================] - 1s 3us/step - loss: 0.4322 - accuracy: 0.8406 - val_loss: 0.4327 - val_accuracy: 0.8399\n",
      "Epoch 17/20\n",
      "534895/534895 [==============================] - 1s 3us/step - loss: 0.4310 - accuracy: 0.8406 - val_loss: 0.4314 - val_accuracy: 0.8399\n",
      "Epoch 18/20\n",
      "534895/534895 [==============================] - 1s 3us/step - loss: 0.4295 - accuracy: 0.8406 - val_loss: 0.4298 - val_accuracy: 0.8399\n",
      "Epoch 19/20\n",
      "534895/534895 [==============================] - 1s 3us/step - loss: 0.4277 - accuracy: 0.8406 - val_loss: 0.4277 - val_accuracy: 0.8399\n",
      "Epoch 20/20\n",
      "534895/534895 [==============================] - 1s 3us/step - loss: 0.4254 - accuracy: 0.8406 - val_loss: 0.4250 - val_accuracy: 0.8399\n"
     ]
    }
   ],
   "source": [
    "# Setup some training parameters\n",
    "batch_size = 10000\n",
    "epochs = 20\n",
    "input_shape = (X.shape[1],)\n",
    "n_layers = 4\n",
    "n_nodes = 20\n",
    "\n",
    "# Build and train model\n",
    "model3 = build_DNN(input_shape, n_layers, n_nodes,learning_rate = 0.1)\n",
    "\n",
    "\n",
    "history3 = model3.fit(Xtrain,Ytrain,epochs = epochs,validation_data = (Xval,Yval),batch_size=batch_size,class_weight = class_weights)\n"
   ]
  },
  {
   "cell_type": "code",
   "execution_count": 35,
   "metadata": {},
   "outputs": [
    {
     "name": "stdout",
     "output_type": "stream",
     "text": [
      "114621/114621 [==============================] - 2s 15us/step\n",
      "Test loss: 0.4206\n",
      "Test accuracy: 0.8427\n"
     ]
    }
   ],
   "source": [
    "# Evaluate model on test data\n",
    "score = model3.evaluate(Xtest,Ytest)\n",
    "\n",
    "print('Test loss: %.4f' % score[0])\n",
    "print('Test accuracy: %.4f' % score[1])"
   ]
  },
  {
   "cell_type": "code",
   "execution_count": 36,
   "metadata": {},
   "outputs": [
    {
     "data": {
      "image/png": "[encoded data removed]",
      "text/plain": [
       "<Figure size 720x288 with 1 Axes>"
      ]
     },
     "metadata": {
      "needs_background": "light"
     },
     "output_type": "display_data"
    },
    {
     "data": {
      "image/png": "[encoded data removed]",
      "text/plain": [
       "<Figure size 720x288 with 1 Axes>"
      ]
     },
     "metadata": {
      "needs_background": "light"
     },
     "output_type": "display_data"
    }
   ],
   "source": [
    "plot_results(history3)"
   ]
  },
  {
   "cell_type": "markdown",
   "metadata": {},
   "source": [
    "### 2 layers, 50 nodes, class weights"
   ]
  },
  {
   "cell_type": "code",
   "execution_count": 37,
   "metadata": {
    "scrolled": true
   },
   "outputs": [
    {
     "name": "stdout",
     "output_type": "stream",
     "text": [
      "Train on 534895 samples, validate on 114621 samples\n",
      "Epoch 1/20\n",
      "534895/534895 [==============================] - 1s 3us/step - loss: 0.4231 - accuracy: 0.8406 - val_loss: 0.4075 - val_accuracy: 0.8399\n",
      "Epoch 2/20\n",
      "534895/534895 [==============================] - 1s 2us/step - loss: 0.3898 - accuracy: 0.8406 - val_loss: 0.3715 - val_accuracy: 0.8399\n",
      "Epoch 3/20\n",
      "534895/534895 [==============================] - 1s 2us/step - loss: 0.3487 - accuracy: 0.8406 - val_loss: 0.3248 - val_accuracy: 0.8399\n",
      "Epoch 4/20\n",
      "534895/534895 [==============================] - 1s 2us/step - loss: 0.2999 - accuracy: 0.8406 - val_loss: 0.2759 - val_accuracy: 0.8399\n",
      "Epoch 5/20\n",
      "534895/534895 [==============================] - 1s 2us/step - loss: 0.2563 - accuracy: 0.8427 - val_loss: 0.2389 - val_accuracy: 0.8506\n",
      "Epoch 6/20\n",
      "534895/534895 [==============================] - 1s 2us/step - loss: 0.2271 - accuracy: 0.8589 - val_loss: 0.2168 - val_accuracy: 0.8761\n",
      "Epoch 7/20\n",
      "534895/534895 [==============================] - 1s 2us/step - loss: 0.2103 - accuracy: 0.8859 - val_loss: 0.2043 - val_accuracy: 0.8957\n",
      "Epoch 8/20\n",
      "534895/534895 [==============================] - 1s 2us/step - loss: 0.2007 - accuracy: 0.8978 - val_loss: 0.1968 - val_accuracy: 0.9034\n",
      "Epoch 9/20\n",
      "534895/534895 [==============================] - 1s 2us/step - loss: 0.1947 - accuracy: 0.9027 - val_loss: 0.1919 - val_accuracy: 0.9042\n",
      "Epoch 10/20\n",
      "534895/534895 [==============================] - 1s 2us/step - loss: 0.1906 - accuracy: 0.9033 - val_loss: 0.1884 - val_accuracy: 0.9045\n",
      "Epoch 11/20\n",
      "534895/534895 [==============================] - 1s 2us/step - loss: 0.1876 - accuracy: 0.9038 - val_loss: 0.1857 - val_accuracy: 0.9051\n",
      "Epoch 12/20\n",
      "534895/534895 [==============================] - 1s 2us/step - loss: 0.1852 - accuracy: 0.9042 - val_loss: 0.1835 - val_accuracy: 0.9057\n",
      "Epoch 13/20\n",
      "534895/534895 [==============================] - 1s 2us/step - loss: 0.1832 - accuracy: 0.9048 - val_loss: 0.1816 - val_accuracy: 0.9064\n",
      "Epoch 14/20\n",
      "534895/534895 [==============================] - 1s 2us/step - loss: 0.1815 - accuracy: 0.9054 - val_loss: 0.1800 - val_accuracy: 0.9070\n",
      "Epoch 15/20\n",
      "534895/534895 [==============================] - 1s 2us/step - loss: 0.1800 - accuracy: 0.9061 - val_loss: 0.1786 - val_accuracy: 0.9075\n",
      "Epoch 16/20\n",
      "534895/534895 [==============================] - 1s 2us/step - loss: 0.1787 - accuracy: 0.9068 - val_loss: 0.1773 - val_accuracy: 0.9083\n",
      "Epoch 17/20\n",
      "534895/534895 [==============================] - 1s 2us/step - loss: 0.1775 - accuracy: 0.9073 - val_loss: 0.1762 - val_accuracy: 0.9087\n",
      "Epoch 18/20\n",
      "534895/534895 [==============================] - 1s 2us/step - loss: 0.1765 - accuracy: 0.9077 - val_loss: 0.1752 - val_accuracy: 0.9089\n",
      "Epoch 19/20\n",
      "534895/534895 [==============================] - 1s 2us/step - loss: 0.1755 - accuracy: 0.9079 - val_loss: 0.1742 - val_accuracy: 0.9090\n",
      "Epoch 20/20\n",
      "534895/534895 [==============================] - 1s 2us/step - loss: 0.1746 - accuracy: 0.9080 - val_loss: 0.1734 - val_accuracy: 0.9092\n"
     ]
    }
   ],
   "source": [
    "# Setup some training parameters\n",
    "batch_size = 10000\n",
    "epochs = 20\n",
    "input_shape = (X.shape[1],)\n",
    "n_layers = 2\n",
    "n_nodes = 50\n",
    "\n",
    "# Build and train model\n",
    "model4 = build_DNN(input_shape, n_layers, n_nodes,learning_rate = 0.1)\n",
    "\n",
    "\n",
    "history4 = model4.fit(Xtrain,Ytrain,epochs = epochs,validation_data = (Xval,Yval),batch_size=batch_size,class_weight = class_weights)\n"
   ]
  },
  {
   "cell_type": "code",
   "execution_count": 38,
   "metadata": {},
   "outputs": [
    {
     "name": "stdout",
     "output_type": "stream",
     "text": [
      "114621/114621 [==============================] - 2s 14us/step\n",
      "Test loss: 0.1725\n",
      "Test accuracy: 0.9085\n"
     ]
    }
   ],
   "source": [
    "# Evaluate model on test data\n",
    "score = model4.evaluate(Xtest,Ytest)\n",
    "\n",
    "print('Test loss: %.4f' % score[0])\n",
    "print('Test accuracy: %.4f' % score[1])"
   ]
  },
  {
   "cell_type": "code",
   "execution_count": 39,
   "metadata": {},
   "outputs": [
    {
     "data": {
      "image/png": "[encoded data removed]",
      "text/plain": [
       "<Figure size 720x288 with 1 Axes>"
      ]
     },
     "metadata": {
      "needs_background": "light"
     },
     "output_type": "display_data"
    },
    {
     "data": {
      "image/png": "[encoded data removed]",
      "text/plain": [
       "<Figure size 720x288 with 1 Axes>"
      ]
     },
     "metadata": {
      "needs_background": "light"
     },
     "output_type": "display_data"
    }
   ],
   "source": [
    "plot_results(history4)"
   ]
  },
  {
   "cell_type": "markdown",
   "metadata": {},
   "source": [
    "### 4 layers, 50 nodes, class weights"
   ]
  },
  {
   "cell_type": "code",
   "execution_count": 40,
   "metadata": {
    "scrolled": true
   },
   "outputs": [
    {
     "name": "stdout",
     "output_type": "stream",
     "text": [
      "Train on 534895 samples, validate on 114621 samples\n",
      "Epoch 1/20\n",
      "534895/534895 [==============================] - 2s 4us/step - loss: 0.4524 - accuracy: 0.8406 - val_loss: 0.4399 - val_accuracy: 0.8399\n",
      "Epoch 2/20\n",
      "534895/534895 [==============================] - 2s 3us/step - loss: 0.4387 - accuracy: 0.8406 - val_loss: 0.4397 - val_accuracy: 0.8399\n",
      "Epoch 3/20\n",
      "534895/534895 [==============================] - 2s 3us/step - loss: 0.4385 - accuracy: 0.8406 - val_loss: 0.4395 - val_accuracy: 0.8399\n",
      "Epoch 4/20\n",
      "534895/534895 [==============================] - 1s 3us/step - loss: 0.4383 - accuracy: 0.8406 - val_loss: 0.4394 - val_accuracy: 0.8399\n",
      "Epoch 5/20\n",
      "534895/534895 [==============================] - 2s 3us/step - loss: 0.4382 - accuracy: 0.8406 - val_loss: 0.4392 - val_accuracy: 0.8399\n",
      "Epoch 6/20\n",
      "534895/534895 [==============================] - 2s 3us/step - loss: 0.4380 - accuracy: 0.8406 - val_loss: 0.4390 - val_accuracy: 0.8399\n",
      "Epoch 7/20\n",
      "534895/534895 [==============================] - 2s 3us/step - loss: 0.4378 - accuracy: 0.8406 - val_loss: 0.4388 - val_accuracy: 0.8399\n",
      "Epoch 8/20\n",
      "534895/534895 [==============================] - 1s 3us/step - loss: 0.4376 - accuracy: 0.8406 - val_loss: 0.4386 - val_accuracy: 0.8399\n",
      "Epoch 9/20\n",
      "534895/534895 [==============================] - 1s 3us/step - loss: 0.4373 - accuracy: 0.8406 - val_loss: 0.4383 - val_accuracy: 0.8399\n",
      "Epoch 10/20\n",
      "534895/534895 [==============================] - 1s 3us/step - loss: 0.4370 - accuracy: 0.8406 - val_loss: 0.4380 - val_accuracy: 0.8399\n",
      "Epoch 11/20\n",
      "534895/534895 [==============================] - 1s 3us/step - loss: 0.4367 - accuracy: 0.8406 - val_loss: 0.4377 - val_accuracy: 0.8399\n",
      "Epoch 12/20\n",
      "534895/534895 [==============================] - 1s 3us/step - loss: 0.4364 - accuracy: 0.8406 - val_loss: 0.4373 - val_accuracy: 0.8399\n",
      "Epoch 13/20\n",
      "534895/534895 [==============================] - 1s 3us/step - loss: 0.4360 - accuracy: 0.8406 - val_loss: 0.4369 - val_accuracy: 0.8399\n",
      "Epoch 14/20\n",
      "534895/534895 [==============================] - 1s 3us/step - loss: 0.4355 - accuracy: 0.8406 - val_loss: 0.4364 - val_accuracy: 0.8399\n",
      "Epoch 15/20\n",
      "534895/534895 [==============================] - 1s 3us/step - loss: 0.4350 - accuracy: 0.8406 - val_loss: 0.4358 - val_accuracy: 0.8399\n",
      "Epoch 16/20\n",
      "534895/534895 [==============================] - 1s 3us/step - loss: 0.4343 - accuracy: 0.8406 - val_loss: 0.4351 - val_accuracy: 0.8399\n",
      "Epoch 17/20\n",
      "534895/534895 [==============================] - 1s 3us/step - loss: 0.4336 - accuracy: 0.8406 - val_loss: 0.4343 - val_accuracy: 0.8399\n",
      "Epoch 18/20\n",
      "534895/534895 [==============================] - 1s 3us/step - loss: 0.4326 - accuracy: 0.8406 - val_loss: 0.4332 - val_accuracy: 0.8399\n",
      "Epoch 19/20\n",
      "534895/534895 [==============================] - 1s 3us/step - loss: 0.4315 - accuracy: 0.8406 - val_loss: 0.4320 - val_accuracy: 0.8399\n",
      "Epoch 20/20\n",
      "534895/534895 [==============================] - 1s 3us/step - loss: 0.4301 - accuracy: 0.8406 - val_loss: 0.4304 - val_accuracy: 0.8399\n"
     ]
    }
   ],
   "source": [
    "# Setup some training parameters\n",
    "batch_size = 10000\n",
    "epochs = 20\n",
    "input_shape = (X.shape[1],)\n",
    "n_layers = 4\n",
    "n_nodes = 50\n",
    "\n",
    "# Build and train model\n",
    "model5 = build_DNN(input_shape, n_layers, n_nodes,learning_rate = 0.1)\n",
    "\n",
    "\n",
    "history5 = model5.fit(Xtrain,Ytrain,epochs = epochs,validation_data = (Xval,Yval),batch_size=batch_size,class_weight = class_weights)"
   ]
  },
  {
   "cell_type": "code",
   "execution_count": 41,
   "metadata": {},
   "outputs": [
    {
     "name": "stdout",
     "output_type": "stream",
     "text": [
      "114621/114621 [==============================] - 2s 15us/step\n",
      "Test loss: 0.4258\n",
      "Test accuracy: 0.8427\n"
     ]
    }
   ],
   "source": [
    "# Evaluate model on test data\n",
    "score = model5.evaluate(Xtest,Ytest)\n",
    "\n",
    "print('Test loss: %.4f' % score[0])\n",
    "print('Test accuracy: %.4f' % score[1])"
   ]
  },
  {
   "cell_type": "code",
   "execution_count": 42,
   "metadata": {},
   "outputs": [
    {
     "data": {
      "image/png": "[encoded data removed]",
      "text/plain": [
       "<Figure size 720x288 with 1 Axes>"
      ]
     },
     "metadata": {
      "needs_background": "light"
     },
     "output_type": "display_data"
    },
    {
     "data": {
      "image/png": "[encoded data removed]",
      "text/plain": [
       "<Figure size 720x288 with 1 Axes>"
      ]
     },
     "metadata": {
      "needs_background": "light"
     },
     "output_type": "display_data"
    }
   ],
   "source": [
    "plot_results(history5)"
   ]
  },
  {
   "cell_type": "markdown",
   "metadata": {},
   "source": [
    "# Part 15: Batch normalization\n",
    "\n",
    "Now add batch normalization after each dense layer in `build_DNN`. Remember to import BatchNormalization from keras.layers. \n",
    "\n",
    "See https://keras.io/layers/normalization/ for information about how to call the function.\n",
    "\n",
    "Question 14: Why is batch normalization important when training deep networks?"
   ]
  },
  {
   "cell_type": "markdown",
   "metadata": {},
   "source": [
    "### 2 layers, 20 nodes, class weights, batch normalization"
   ]
  },
  {
   "cell_type": "code",
   "execution_count": 44,
   "metadata": {
    "scrolled": true
   },
   "outputs": [
    {
     "name": "stdout",
     "output_type": "stream",
     "text": [
      "Train on 534895 samples, validate on 114621 samples\n",
      "Epoch 1/20\n",
      "534895/534895 [==============================] - 3s 6us/step - loss: 0.3170 - accuracy: 0.8858 - val_loss: 0.4114 - val_accuracy: 0.8399\n",
      "Epoch 2/20\n",
      "534895/534895 [==============================] - 2s 4us/step - loss: 0.1943 - accuracy: 0.9103 - val_loss: 0.3801 - val_accuracy: 0.8399\n",
      "Epoch 3/20\n",
      "534895/534895 [==============================] - 2s 4us/step - loss: 0.1779 - accuracy: 0.9120 - val_loss: 0.3591 - val_accuracy: 0.8399\n",
      "Epoch 4/20\n",
      "534895/534895 [==============================] - 2s 4us/step - loss: 0.1707 - accuracy: 0.9131 - val_loss: 0.3236 - val_accuracy: 0.8399\n",
      "Epoch 5/20\n",
      "534895/534895 [==============================] - 2s 4us/step - loss: 0.1665 - accuracy: 0.9136 - val_loss: 0.2736 - val_accuracy: 0.8400\n",
      "Epoch 6/20\n",
      "534895/534895 [==============================] - 2s 4us/step - loss: 0.1636 - accuracy: 0.9141 - val_loss: 0.2257 - val_accuracy: 0.8483\n",
      "Epoch 7/20\n",
      "534895/534895 [==============================] - 2s 4us/step - loss: 0.1614 - accuracy: 0.9146 - val_loss: 0.1892 - val_accuracy: 0.8671\n",
      "Epoch 8/20\n",
      "534895/534895 [==============================] - 2s 4us/step - loss: 0.1597 - accuracy: 0.9151 - val_loss: 0.1703 - val_accuracy: 0.8935\n",
      "Epoch 9/20\n",
      "534895/534895 [==============================] - 2s 4us/step - loss: 0.1583 - accuracy: 0.9155 - val_loss: 0.1635 - val_accuracy: 0.9076\n",
      "Epoch 10/20\n",
      "534895/534895 [==============================] - 2s 4us/step - loss: 0.1570 - accuracy: 0.9159 - val_loss: 0.1575 - val_accuracy: 0.9143\n",
      "Epoch 11/20\n",
      "534895/534895 [==============================] - 2s 4us/step - loss: 0.1560 - accuracy: 0.9162 - val_loss: 0.1545 - val_accuracy: 0.9179\n",
      "Epoch 12/20\n",
      "534895/534895 [==============================] - 2s 4us/step - loss: 0.1549 - accuracy: 0.9167 - val_loss: 0.1528 - val_accuracy: 0.9182\n",
      "Epoch 13/20\n",
      "534895/534895 [==============================] - 2s 4us/step - loss: 0.1540 - accuracy: 0.9169 - val_loss: 0.1521 - val_accuracy: 0.9189\n",
      "Epoch 14/20\n",
      "534895/534895 [==============================] - 2s 4us/step - loss: 0.1529 - accuracy: 0.9176 - val_loss: 0.1521 - val_accuracy: 0.9189\n",
      "Epoch 15/20\n",
      "534895/534895 [==============================] - 2s 4us/step - loss: 0.1523 - accuracy: 0.9177 - val_loss: 0.1515 - val_accuracy: 0.9197\n",
      "Epoch 16/20\n",
      "534895/534895 [==============================] - 2s 4us/step - loss: 0.1518 - accuracy: 0.9180 - val_loss: 0.1504 - val_accuracy: 0.9201\n",
      "Epoch 17/20\n",
      "534895/534895 [==============================] - 2s 4us/step - loss: 0.1512 - accuracy: 0.9183 - val_loss: 0.1493 - val_accuracy: 0.9191\n",
      "Epoch 18/20\n",
      "534895/534895 [==============================] - 2s 4us/step - loss: 0.1504 - accuracy: 0.9186 - val_loss: 0.1483 - val_accuracy: 0.9204\n",
      "Epoch 19/20\n",
      "534895/534895 [==============================] - 2s 4us/step - loss: 0.1497 - accuracy: 0.9188 - val_loss: 0.1478 - val_accuracy: 0.9209\n",
      "Epoch 20/20\n",
      "534895/534895 [==============================] - 2s 4us/step - loss: 0.1491 - accuracy: 0.9192 - val_loss: 0.1492 - val_accuracy: 0.9195\n"
     ]
    }
   ],
   "source": [
    "# Setup some training parameters\n",
    "batch_size = 10000\n",
    "epochs = 20\n",
    "input_shape = (X.shape[1],)\n",
    "n_layers = 2\n",
    "n_nodes = 20\n",
    "\n",
    "# Build and train model\n",
    "model6 = build_DNN(input_shape, n_layers, n_nodes,learning_rate = 0.1,use_bn = True)\n",
    "\n",
    "\n",
    "history6 = model6.fit(Xtrain,Ytrain,epochs = epochs,validation_data = (Xval,Yval),batch_size=batch_size,class_weight = class_weights)"
   ]
  },
  {
   "cell_type": "code",
   "execution_count": 45,
   "metadata": {},
   "outputs": [
    {
     "name": "stdout",
     "output_type": "stream",
     "text": [
      "114621/114621 [==============================] - 2s 19us/step\n",
      "Test loss: 0.1499\n",
      "Test accuracy: 0.9187\n"
     ]
    }
   ],
   "source": [
    "# Evaluate model on test data\n",
    "score = model6.evaluate(Xtest,Ytest)\n",
    "\n",
    "print('Test loss: %.4f' % score[0])\n",
    "print('Test accuracy: %.4f' % score[1])"
   ]
  },
  {
   "cell_type": "code",
   "execution_count": 46,
   "metadata": {},
   "outputs": [
    {
     "data": {
      "image/png": "[encoded data removed]",
      "text/plain": [
       "<Figure size 720x288 with 1 Axes>"
      ]
     },
     "metadata": {
      "needs_background": "light"
     },
     "output_type": "display_data"
    },
    {
     "data": {
      "image/png": "[encoded data removed]",
      "text/plain": [
       "<Figure size 720x288 with 1 Axes>"
      ]
     },
     "metadata": {
      "needs_background": "light"
     },
     "output_type": "display_data"
    }
   ],
   "source": [
    "plot_results(history6)"
   ]
  },
  {
   "cell_type": "markdown",
   "metadata": {},
   "source": [
    "# Part 16: Activation function\n",
    "\n",
    "Try changing the activation function in each layer from sigmoid to ReLU, write down the test accuracy.\n",
    "\n",
    "Note: the last layer should still have a sigmoid activation function.\n",
    "\n",
    "https://keras.io/api/layers/activations/"
   ]
  },
  {
   "cell_type": "markdown",
   "metadata": {},
   "source": [
    "### 2 layers, 20 nodes, class weights, ReLU, no batch normalization"
   ]
  },
  {
   "cell_type": "code",
   "execution_count": 47,
   "metadata": {
    "scrolled": true
   },
   "outputs": [
    {
     "name": "stdout",
     "output_type": "stream",
     "text": [
      "Train on 534895 samples, validate on 114621 samples\n",
      "Epoch 1/20\n",
      "534895/534895 [==============================] - 1s 2us/step - loss: 2.3021 - accuracy: 0.0197 - val_loss: 2.4542 - val_accuracy: 0.0000e+00\n",
      "Epoch 2/20\n",
      "534895/534895 [==============================] - 1s 2us/step - loss: 2.4437 - accuracy: 0.0000e+00 - val_loss: 2.4542 - val_accuracy: 0.0000e+00\n",
      "Epoch 3/20\n",
      "534895/534895 [==============================] - 1s 2us/step - loss: 2.4437 - accuracy: 0.0000e+00 - val_loss: 2.4542 - val_accuracy: 0.0000e+00\n",
      "Epoch 4/20\n",
      "534895/534895 [==============================] - 1s 2us/step - loss: 2.4437 - accuracy: 0.0000e+00 - val_loss: 2.4542 - val_accuracy: 0.0000e+00\n",
      "Epoch 5/20\n",
      "534895/534895 [==============================] - 1s 2us/step - loss: 2.4437 - accuracy: 0.0000e+00 - val_loss: 2.4542 - val_accuracy: 0.0000e+00\n",
      "Epoch 6/20\n",
      "534895/534895 [==============================] - 1s 2us/step - loss: 2.4437 - accuracy: 0.0000e+00 - val_loss: 2.4542 - val_accuracy: 0.0000e+00\n",
      "Epoch 7/20\n",
      "534895/534895 [==============================] - 1s 2us/step - loss: 2.4437 - accuracy: 0.0000e+00 - val_loss: 2.4542 - val_accuracy: 0.0000e+00\n",
      "Epoch 8/20\n",
      "534895/534895 [==============================] - 1s 2us/step - loss: 2.4437 - accuracy: 0.0000e+00 - val_loss: 2.4542 - val_accuracy: 0.0000e+00\n",
      "Epoch 9/20\n",
      "534895/534895 [==============================] - 1s 2us/step - loss: 2.4437 - accuracy: 0.0000e+00 - val_loss: 2.4542 - val_accuracy: 0.0000e+00\n",
      "Epoch 10/20\n",
      "534895/534895 [==============================] - 1s 2us/step - loss: 2.4437 - accuracy: 0.0000e+00 - val_loss: 2.4542 - val_accuracy: 0.0000e+00\n",
      "Epoch 11/20\n",
      "534895/534895 [==============================] - 1s 2us/step - loss: 2.4437 - accuracy: 0.0000e+00 - val_loss: 2.4542 - val_accuracy: 0.0000e+00\n",
      "Epoch 12/20\n",
      "534895/534895 [==============================] - 1s 2us/step - loss: 2.4437 - accuracy: 0.0000e+00 - val_loss: 2.4542 - val_accuracy: 0.0000e+00\n",
      "Epoch 13/20\n",
      "534895/534895 [==============================] - 1s 2us/step - loss: 2.4437 - accuracy: 0.0000e+00 - val_loss: 2.4542 - val_accuracy: 0.0000e+00\n",
      "Epoch 14/20\n",
      "534895/534895 [==============================] - 1s 2us/step - loss: 2.4437 - accuracy: 0.0000e+00 - val_loss: 2.4542 - val_accuracy: 0.0000e+00\n",
      "Epoch 15/20\n",
      "534895/534895 [==============================] - 1s 2us/step - loss: 2.4437 - accuracy: 0.0000e+00 - val_loss: 2.4542 - val_accuracy: 0.0000e+00\n",
      "Epoch 16/20\n",
      "534895/534895 [==============================] - 1s 2us/step - loss: 2.4437 - accuracy: 0.0000e+00 - val_loss: 2.4542 - val_accuracy: 0.0000e+00\n",
      "Epoch 17/20\n",
      "534895/534895 [==============================] - 1s 2us/step - loss: 2.4437 - accuracy: 0.0000e+00 - val_loss: 2.4542 - val_accuracy: 0.0000e+00\n",
      "Epoch 18/20\n",
      "534895/534895 [==============================] - 1s 2us/step - loss: 2.4437 - accuracy: 0.0000e+00 - val_loss: 2.4542 - val_accuracy: 0.0000e+00\n",
      "Epoch 19/20\n",
      "534895/534895 [==============================] - 1s 2us/step - loss: 2.4437 - accuracy: 0.0000e+00 - val_loss: 2.4542 - val_accuracy: 0.0000e+00\n",
      "Epoch 20/20\n",
      "534895/534895 [==============================] - 1s 2us/step - loss: 2.4437 - accuracy: 0.0000e+00 - val_loss: 2.4542 - val_accuracy: 0.0000e+00\n"
     ]
    }
   ],
   "source": [
    "# Setup some training parameters\n",
    "batch_size = 10000\n",
    "epochs = 20\n",
    "input_shape = (X.shape[1],)\n",
    "n_layers = 2\n",
    "n_nodes = 20\n",
    "\n",
    "# Build and train model\n",
    "model7 = build_DNN(input_shape, n_layers, n_nodes,learning_rate = 0.1,act_fun = \"relu\")\n",
    "\n",
    "history7 = model7.fit(Xtrain,Ytrain,epochs = epochs,validation_data = (Xval,Yval),batch_size=batch_size,class_weight = class_weights)"
   ]
  },
  {
   "cell_type": "code",
   "execution_count": 48,
   "metadata": {},
   "outputs": [
    {
     "name": "stdout",
     "output_type": "stream",
     "text": [
      "114621/114621 [==============================] - 1s 13us/step\n",
      "Test loss: 2.4115\n",
      "Test accuracy: 0.0000\n"
     ]
    }
   ],
   "source": [
    "# Evaluate model on test data\n",
    "score = model7.evaluate(Xtest,Ytest)\n",
    "\n",
    "print('Test loss: %.4f' % score[0])\n",
    "print('Test accuracy: %.4f' % score[1])"
   ]
  },
  {
   "cell_type": "code",
   "execution_count": 49,
   "metadata": {},
   "outputs": [
    {
     "data": {
      "image/png": "[encoded data removed]",
      "text/plain": [
       "<Figure size 720x288 with 1 Axes>"
      ]
     },
     "metadata": {
      "needs_background": "light"
     },
     "output_type": "display_data"
    },
    {
     "data": {
      "image/png": "[encoded data removed]",
      "text/plain": [
       "<Figure size 720x288 with 1 Axes>"
      ]
     },
     "metadata": {
      "needs_background": "light"
     },
     "output_type": "display_data"
    }
   ],
   "source": [
    "plot_results(history7)"
   ]
  },
  {
   "cell_type": "markdown",
   "metadata": {},
   "source": [
    "# Part 17: Optimizer\n",
    "\n",
    "Try changing the optimizer from SGD to Adam (with learning rate 0.1 as before). Remember to import the Adam optimizer from keras.optimizers. \n",
    "\n",
    "https://keras.io/optimizers/\n"
   ]
  },
  {
   "cell_type": "markdown",
   "metadata": {},
   "source": [
    "### 2 layers, 20 nodes, class weights, Adam optimizer, no batch normalization, sigmoid activations"
   ]
  },
  {
   "cell_type": "code",
   "execution_count": 50,
   "metadata": {
    "scrolled": true
   },
   "outputs": [
    {
     "name": "stdout",
     "output_type": "stream",
     "text": [
      "Train on 534895 samples, validate on 114621 samples\n",
      "Epoch 1/20\n",
      "534895/534895 [==============================] - 2s 3us/step - loss: 0.1965 - accuracy: 0.8988 - val_loss: 0.1577 - val_accuracy: 0.9170\n",
      "Epoch 2/20\n",
      "534895/534895 [==============================] - 1s 2us/step - loss: 0.1560 - accuracy: 0.9172 - val_loss: 0.1517 - val_accuracy: 0.9200\n",
      "Epoch 3/20\n",
      "534895/534895 [==============================] - 1s 2us/step - loss: 0.1504 - accuracy: 0.9191 - val_loss: 0.1470 - val_accuracy: 0.9209\n",
      "Epoch 4/20\n",
      "534895/534895 [==============================] - 1s 2us/step - loss: 0.1446 - accuracy: 0.9206 - val_loss: 0.1420 - val_accuracy: 0.9222\n",
      "Epoch 5/20\n",
      "534895/534895 [==============================] - 1s 2us/step - loss: 0.1417 - accuracy: 0.9215 - val_loss: 0.1393 - val_accuracy: 0.9228\n",
      "Epoch 6/20\n",
      "534895/534895 [==============================] - 1s 2us/step - loss: 0.1389 - accuracy: 0.9234 - val_loss: 0.1346 - val_accuracy: 0.9274\n",
      "Epoch 7/20\n",
      "534895/534895 [==============================] - 1s 2us/step - loss: 0.1358 - accuracy: 0.9260 - val_loss: 0.1335 - val_accuracy: 0.9279\n",
      "Epoch 8/20\n",
      "534895/534895 [==============================] - 1s 2us/step - loss: 0.1314 - accuracy: 0.9286 - val_loss: 0.1302 - val_accuracy: 0.9301\n",
      "Epoch 9/20\n",
      "534895/534895 [==============================] - 1s 2us/step - loss: 0.1267 - accuracy: 0.9319 - val_loss: 0.1235 - val_accuracy: 0.9355\n",
      "Epoch 10/20\n",
      "534895/534895 [==============================] - 1s 2us/step - loss: 0.1238 - accuracy: 0.9344 - val_loss: 0.1206 - val_accuracy: 0.9362\n",
      "Epoch 11/20\n",
      "534895/534895 [==============================] - 1s 2us/step - loss: 0.1221 - accuracy: 0.9344 - val_loss: 0.1178 - val_accuracy: 0.9381\n",
      "Epoch 12/20\n",
      "534895/534895 [==============================] - 3s 5us/step - loss: 0.1192 - accuracy: 0.9362 - val_loss: 0.1161 - val_accuracy: 0.9379\n",
      "Epoch 13/20\n",
      "534895/534895 [==============================] - 1s 2us/step - loss: 0.1192 - accuracy: 0.9359 - val_loss: 0.1170 - val_accuracy: 0.9374\n",
      "Epoch 14/20\n",
      "534895/534895 [==============================] - 1s 2us/step - loss: 0.1170 - accuracy: 0.9366 - val_loss: 0.1168 - val_accuracy: 0.9367\n",
      "Epoch 15/20\n",
      "534895/534895 [==============================] - 1s 2us/step - loss: 0.1160 - accuracy: 0.9373 - val_loss: 0.1172 - val_accuracy: 0.9367\n",
      "Epoch 16/20\n",
      "534895/534895 [==============================] - 1s 2us/step - loss: 0.1162 - accuracy: 0.9369 - val_loss: 0.1145 - val_accuracy: 0.9382\n",
      "Epoch 17/20\n",
      "534895/534895 [==============================] - 1s 2us/step - loss: 0.1163 - accuracy: 0.9371 - val_loss: 0.1175 - val_accuracy: 0.9362\n",
      "Epoch 18/20\n",
      "534895/534895 [==============================] - 1s 2us/step - loss: 0.1166 - accuracy: 0.9365 - val_loss: 0.1155 - val_accuracy: 0.9371\n",
      "Epoch 19/20\n",
      "534895/534895 [==============================] - 1s 2us/step - loss: 0.1200 - accuracy: 0.9352 - val_loss: 0.1157 - val_accuracy: 0.9380\n",
      "Epoch 20/20\n",
      "534895/534895 [==============================] - 1s 2us/step - loss: 0.1147 - accuracy: 0.9374 - val_loss: 0.1134 - val_accuracy: 0.9384\n"
     ]
    }
   ],
   "source": [
    "# Setup some training parameters\n",
    "batch_size = 10000\n",
    "epochs = 20\n",
    "input_shape = (X.shape[1],)\n",
    "n_layers = 2\n",
    "n_nodes = 20\n",
    "\n",
    "\n",
    "# Build and train model\n",
    "model8 = build_DNN(input_shape, n_layers, n_nodes,learning_rate = 0.1,optimizer = \"Adam\")\n",
    "\n",
    "history8 = model8.fit(Xtrain,Ytrain,epochs = epochs,validation_data = (Xval,Yval),batch_size=batch_size,class_weight = class_weights)"
   ]
  },
  {
   "cell_type": "code",
   "execution_count": 51,
   "metadata": {},
   "outputs": [
    {
     "name": "stdout",
     "output_type": "stream",
     "text": [
      "114621/114621 [==============================] - 1s 13us/step\n",
      "Test loss: 0.1129\n",
      "Test accuracy: 0.9382\n"
     ]
    }
   ],
   "source": [
    "# Evaluate model on test data\n",
    "score = model8.evaluate(Xtest,Ytest)\n",
    "\n",
    "print('Test loss: %.4f' % score[0])\n",
    "print('Test accuracy: %.4f' % score[1])"
   ]
  },
  {
   "cell_type": "code",
   "execution_count": 52,
   "metadata": {},
   "outputs": [
    {
     "data": {
      "image/png": "[encoded data removed]",
      "text/plain": [
       "<Figure size 720x288 with 1 Axes>"
      ]
     },
     "metadata": {
      "needs_background": "light"
     },
     "output_type": "display_data"
    },
    {
     "data": {
      "image/png": "[encoded data removed]",
      "text/plain": [
       "<Figure size 720x288 with 1 Axes>"
      ]
     },
     "metadata": {
      "needs_background": "light"
     },
     "output_type": "display_data"
    }
   ],
   "source": [
    "plot_results(history8)"
   ]
  },
  {
   "cell_type": "markdown",
   "metadata": {},
   "source": [
    "# Part 18: Dropout regularization\n",
    "\n",
    "Dropout is a type of regularization that can improve accuracy for validation and test data. \n",
    "\n",
    "Add a Dropout layer after each Dense layer (but not after the final dense layer) in `build_DNN`, with a dropout probability of 50%. Remember to first import the Dropout layer from keras.layers\n",
    "\n",
    "See https://keras.io/api/layers/regularization_layers/dropout/ for how the Dropout layer works.\n",
    "\n",
    "---\n",
    "\n",
    "Question 15: How does the validation accuracy change when adding dropout?\n",
    "\n",
    "Question 16: How does the test accuracy change when adding dropout?"
   ]
  },
  {
   "cell_type": "markdown",
   "metadata": {},
   "source": [
    "### 2 layers, 20 nodes, class weights, dropout, SGD optimizer, no batch normalization, sigmoid activations"
   ]
  },
  {
   "cell_type": "code",
   "execution_count": 53,
   "metadata": {
    "scrolled": true
   },
   "outputs": [
    {
     "name": "stdout",
     "output_type": "stream",
     "text": [
      "Train on 534895 samples, validate on 114621 samples\n",
      "Epoch 1/20\n",
      "534895/534895 [==============================] - 2s 4us/step - loss: 0.4793 - accuracy: 0.8148 - val_loss: 0.4146 - val_accuracy: 0.8399\n",
      "Epoch 2/20\n",
      "534895/534895 [==============================] - 2s 3us/step - loss: 0.4347 - accuracy: 0.8396 - val_loss: 0.3950 - val_accuracy: 0.8399\n",
      "Epoch 3/20\n",
      "534895/534895 [==============================] - 2s 3us/step - loss: 0.4137 - accuracy: 0.8402 - val_loss: 0.3724 - val_accuracy: 0.8399\n",
      "Epoch 4/20\n",
      "534895/534895 [==============================] - 2s 3us/step - loss: 0.3922 - accuracy: 0.8411 - val_loss: 0.3453 - val_accuracy: 0.8399\n",
      "Epoch 5/20\n",
      "534895/534895 [==============================] - 2s 3us/step - loss: 0.3689 - accuracy: 0.8428 - val_loss: 0.3151 - val_accuracy: 0.8399\n",
      "Epoch 6/20\n",
      "534895/534895 [==============================] - 2s 3us/step - loss: 0.3463 - accuracy: 0.8459 - val_loss: 0.2859 - val_accuracy: 0.8399\n",
      "Epoch 7/20\n",
      "534895/534895 [==============================] - 2s 3us/step - loss: 0.3254 - accuracy: 0.8493 - val_loss: 0.2612 - val_accuracy: 0.8399\n",
      "Epoch 8/20\n",
      "534895/534895 [==============================] - 2s 3us/step - loss: 0.3080 - accuracy: 0.8531 - val_loss: 0.2419 - val_accuracy: 0.8399\n",
      "Epoch 9/20\n",
      "534895/534895 [==============================] - 2s 3us/step - loss: 0.2937 - accuracy: 0.8564 - val_loss: 0.2278 - val_accuracy: 0.8399\n",
      "Epoch 10/20\n",
      "534895/534895 [==============================] - 2s 3us/step - loss: 0.2820 - accuracy: 0.8592 - val_loss: 0.2175 - val_accuracy: 0.8494\n",
      "Epoch 11/20\n",
      "534895/534895 [==============================] - 2s 3us/step - loss: 0.2745 - accuracy: 0.8603 - val_loss: 0.2103 - val_accuracy: 0.8588\n",
      "Epoch 12/20\n",
      "534895/534895 [==============================] - 2s 3us/step - loss: 0.2672 - accuracy: 0.8622 - val_loss: 0.2048 - val_accuracy: 0.8714\n",
      "Epoch 13/20\n",
      "534895/534895 [==============================] - 2s 3us/step - loss: 0.2618 - accuracy: 0.8633 - val_loss: 0.2006 - val_accuracy: 0.8850\n",
      "Epoch 14/20\n",
      "534895/534895 [==============================] - 2s 3us/step - loss: 0.2568 - accuracy: 0.8643 - val_loss: 0.1976 - val_accuracy: 0.8901\n",
      "Epoch 15/20\n",
      "534895/534895 [==============================] - 2s 3us/step - loss: 0.2522 - accuracy: 0.8656 - val_loss: 0.1950 - val_accuracy: 0.9041\n",
      "Epoch 16/20\n",
      "534895/534895 [==============================] - 2s 3us/step - loss: 0.2486 - accuracy: 0.8664 - val_loss: 0.1929 - val_accuracy: 0.9051\n",
      "Epoch 17/20\n",
      "534895/534895 [==============================] - 2s 3us/step - loss: 0.2457 - accuracy: 0.8672 - val_loss: 0.1913 - val_accuracy: 0.9051\n",
      "Epoch 18/20\n",
      "534895/534895 [==============================] - 2s 3us/step - loss: 0.2423 - accuracy: 0.8683 - val_loss: 0.1900 - val_accuracy: 0.9051\n",
      "Epoch 19/20\n",
      "534895/534895 [==============================] - 2s 3us/step - loss: 0.2396 - accuracy: 0.8687 - val_loss: 0.1886 - val_accuracy: 0.9050\n",
      "Epoch 20/20\n",
      "534895/534895 [==============================] - 2s 3us/step - loss: 0.2379 - accuracy: 0.8687 - val_loss: 0.1875 - val_accuracy: 0.9050\n"
     ]
    }
   ],
   "source": [
    "# Setup some training parameters\n",
    "batch_size = 10000\n",
    "epochs = 20\n",
    "input_shape = (X.shape[1],)\n",
    "n_layers = 2\n",
    "n_nodes = 20\n",
    "# Build and train model\n",
    "model9 = build_DNN(input_shape, n_layers, n_nodes,learning_rate = 0.1,use_dropout = True)\n",
    "\n",
    "history9 = model9.fit(Xtrain,Ytrain,epochs = epochs,validation_data = (Xval,Yval),batch_size=batch_size,class_weight = class_weights)"
   ]
  },
  {
   "cell_type": "code",
   "execution_count": 54,
   "metadata": {},
   "outputs": [
    {
     "name": "stdout",
     "output_type": "stream",
     "text": [
      "114621/114621 [==============================] - 1s 13us/step\n",
      "Test loss: 0.1129\n",
      "Test accuracy: 0.9382\n"
     ]
    }
   ],
   "source": [
    "# Evaluate model on test data\n",
    "score = model8.evaluate(Xtest,Ytest)\n",
    "\n",
    "print('Test loss: %.4f' % score[0])\n",
    "print('Test accuracy: %.4f' % score[1])"
   ]
  },
  {
   "cell_type": "code",
   "execution_count": 55,
   "metadata": {},
   "outputs": [
    {
     "data": {
      "image/png": "[encoded data removed]",
      "text/plain": [
       "<Figure size 720x288 with 1 Axes>"
      ]
     },
     "metadata": {
      "needs_background": "light"
     },
     "output_type": "display_data"
    },
    {
     "data": {
      "image/png": "[encoded data removed]",
      "text/plain": [
       "<Figure size 720x288 with 1 Axes>"
      ]
     },
     "metadata": {
      "needs_background": "light"
     },
     "output_type": "display_data"
    }
   ],
   "source": [
    "plot_results(history9)"
   ]
  },
  {
   "cell_type": "markdown",
   "metadata": {},
   "source": [
    "# Part 19: Improving performance\n",
    "\n",
    "Spend some time (30 - 90 minutes) playing with the network architecture (number of layers, number of nodes per layer, activation function) and other hyper parameters (optimizer, learning rate, batch size, number of epochs, degree of regularization). For example, try a much deeper network. How much does the training time increase for a network with 10 layers?\n",
    "\n",
    "Question 17: How high classification accuracy can you achieve for the test data? What is your best configuration?"
   ]
  },
  {
   "cell_type": "code",
   "execution_count": 56,
   "metadata": {
    "scrolled": true
   },
   "outputs": [
    {
     "name": "stdout",
     "output_type": "stream",
     "text": [
      "Train on 534895 samples, validate on 114621 samples\n",
      "Epoch 1/23\n",
      "534895/534895 [==============================] - 16s 30us/step - loss: 0.1601 - accuracy: 0.9131 - val_loss: 0.1407 - val_accuracy: 0.9238\n",
      "Epoch 2/23\n",
      "534895/534895 [==============================] - 14s 27us/step - loss: 0.1329 - accuracy: 0.9272 - val_loss: 0.1403 - val_accuracy: 0.9207\n",
      "Epoch 3/23\n",
      "534895/534895 [==============================] - 15s 28us/step - loss: 0.1227 - accuracy: 0.9333 - val_loss: 0.1249 - val_accuracy: 0.9325\n",
      "Epoch 4/23\n",
      "534895/534895 [==============================] - 15s 27us/step - loss: 0.1181 - accuracy: 0.9362 - val_loss: 0.1393 - val_accuracy: 0.9340\n",
      "Epoch 5/23\n",
      "534895/534895 [==============================] - 14s 27us/step - loss: 0.1159 - accuracy: 0.9376 - val_loss: 0.1160 - val_accuracy: 0.9407\n",
      "Epoch 6/23\n",
      "534895/534895 [==============================] - 16s 29us/step - loss: 0.1135 - accuracy: 0.9393 - val_loss: 0.1197 - val_accuracy: 0.9257\n",
      "Epoch 7/23\n",
      "534895/534895 [==============================] - 18s 34us/step - loss: 0.1110 - accuracy: 0.9417 - val_loss: 0.1560 - val_accuracy: 0.9268\n",
      "Epoch 8/23\n",
      "534895/534895 [==============================] - 19s 36us/step - loss: 0.1102 - accuracy: 0.9416 - val_loss: 0.2409 - val_accuracy: 0.9283\n",
      "Epoch 9/23\n",
      "534895/534895 [==============================] - 17s 33us/step - loss: 0.1081 - accuracy: 0.9431 - val_loss: 0.1393 - val_accuracy: 0.9273\n",
      "Epoch 10/23\n",
      "534895/534895 [==============================] - 19s 35us/step - loss: 0.1081 - accuracy: 0.9432 - val_loss: 0.1274 - val_accuracy: 0.9404\n",
      "Epoch 11/23\n",
      "534895/534895 [==============================] - 16s 31us/step - loss: 0.1069 - accuracy: 0.9435 - val_loss: 0.1002 - val_accuracy: 0.9492\n",
      "Epoch 12/23\n",
      "534895/534895 [==============================] - 16s 31us/step - loss: 0.1061 - accuracy: 0.9439 - val_loss: 0.1272 - val_accuracy: 0.9302\n",
      "Epoch 13/23\n",
      "534895/534895 [==============================] - 16s 30us/step - loss: 0.1061 - accuracy: 0.9442 - val_loss: 0.1036 - val_accuracy: 0.9464\n",
      "Epoch 14/23\n",
      "534895/534895 [==============================] - 17s 31us/step - loss: 0.1053 - accuracy: 0.9444 - val_loss: 0.1489 - val_accuracy: 0.9283\n",
      "Epoch 15/23\n",
      "534895/534895 [==============================] - 16s 30us/step - loss: 0.1048 - accuracy: 0.9447 - val_loss: 0.1110 - val_accuracy: 0.9372\n",
      "Epoch 16/23\n",
      "534895/534895 [==============================] - 18s 33us/step - loss: 0.1052 - accuracy: 0.9445 - val_loss: 0.1940 - val_accuracy: 0.9294\n",
      "Epoch 17/23\n",
      "534895/534895 [==============================] - 17s 31us/step - loss: 0.1044 - accuracy: 0.9450 - val_loss: 0.1406 - val_accuracy: 0.9387\n",
      "Epoch 18/23\n",
      "534895/534895 [==============================] - 17s 32us/step - loss: 0.1045 - accuracy: 0.9453 - val_loss: 0.2816 - val_accuracy: 0.9287\n",
      "Epoch 19/23\n",
      "534895/534895 [==============================] - 18s 33us/step - loss: 0.1036 - accuracy: 0.9458 - val_loss: 0.0984 - val_accuracy: 0.9494\n",
      "Epoch 20/23\n",
      "534895/534895 [==============================] - 18s 33us/step - loss: 0.1051 - accuracy: 0.9442 - val_loss: 0.1400 - val_accuracy: 0.9286\n",
      "Epoch 21/23\n",
      "534895/534895 [==============================] - 16s 30us/step - loss: 0.1059 - accuracy: 0.9439 - val_loss: 0.1138 - val_accuracy: 0.9329\n",
      "Epoch 22/23\n",
      "534895/534895 [==============================] - 17s 31us/step - loss: 0.1040 - accuracy: 0.9457 - val_loss: 0.1629 - val_accuracy: 0.9308\n",
      "Epoch 23/23\n",
      "534895/534895 [==============================] - 18s 34us/step - loss: 0.1054 - accuracy: 0.9439 - val_loss: 0.2054 - val_accuracy: 0.9296\n"
     ]
    }
   ],
   "source": [
    "# Find your best configuration for the DNN\n",
    "# Setup some training parameters\n",
    "batch_size = 500\n",
    "epochs = 23\n",
    "\n",
    "input_shape = (X.shape[1],)\n",
    "n_layers = 3\n",
    "n_nodes = 100\n",
    "\n",
    "# Build and train DNN\n",
    "model10 = build_DNN(input_shape, n_layers, n_nodes, learning_rate = 0.01, use_bn = True, optimizer = \"Adam\")\n",
    "\n",
    "history10 = model10.fit(Xtrain, Ytrain, epochs = epochs, validation_data = (Xval,Yval), batch_size = batch_size, class_weight = class_weights)"
   ]
  },
  {
   "cell_type": "code",
   "execution_count": 57,
   "metadata": {},
   "outputs": [
    {
     "name": "stdout",
     "output_type": "stream",
     "text": [
      "114621/114621 [==============================] - 15s 133us/step\n",
      "Test loss: 0.2014\n",
      "Test accuracy: 0.9300\n"
     ]
    }
   ],
   "source": [
    "# Evaluate DNN on test data\n",
    "score = model10.evaluate(Xtest,Ytest)\n",
    "\n",
    "print('Test loss: %.4f' % score[0])\n",
    "print('Test accuracy: %.4f' % score[1])"
   ]
  },
  {
   "cell_type": "markdown",
   "metadata": {},
   "source": [
    "# Part 20: Dropout uncertainty\n",
    "\n",
    "Dropout can also be used during testing, to obtain an estimate of the model uncertainty. Since dropout will randomly remove connections, the network will produce different results every time the same (test) data is put into the network. This technique is called Monte Carlo dropout. For more information, see this paper http://proceedings.mlr.press/v48/gal16.pdf\n",
    "\n",
    "To achieve this, we need to redefine the Keras Dropout call by running the cell below, and use 'myDropout' in each call to Dropout, in the cell that defines the DNN. The `build_DNN` function takes two boolean arguments, use_dropout and use_custom_dropout, add a standard Dropout layer if use_dropout is true, add a myDropout layer if use_custom_dropout is true.\n",
    "\n",
    "Run the same test data through the trained network 100 times, with dropout turned on. \n",
    "\n",
    "Question 18: What is the mean and the standard deviation of the test accuracy?"
   ]
  },
  {
   "cell_type": "code",
   "execution_count": 58,
   "metadata": {},
   "outputs": [],
   "source": [
    "import keras.backend as K\n",
    "import keras\n",
    "\n",
    "class myDropout(keras.layers.Dropout):\n",
    "    \"\"\"Applies Dropout to the input.\n",
    "    Dropout consists in randomly setting\n",
    "    a fraction `rate` of input units to 0 at each update during training time,\n",
    "    which helps prevent overfitting.\n",
    "    # Arguments\n",
    "        rate: float between 0 and 1. Fraction of the input units to drop.\n",
    "        noise_shape: 1D integer tensor representing the shape of the\n",
    "            binary dropout mask that will be multiplied with the input.\n",
    "            For instance, if your inputs have shape\n",
    "            `(batch_size, timesteps, features)` and\n",
    "            you want the dropout mask to be the same for all timesteps,\n",
    "            you can use `noise_shape=(batch_size, 1, features)`.\n",
    "        seed: A Python integer to use as random seed.\n",
    "    # References\n",
    "        - [Dropout: A Simple Way to Prevent Neural Networks from Overfitting](\n",
    "           http://www.jmlr.org/papers/volume15/srivastava14a/srivastava14a.pdf)\n",
    "    \"\"\"\n",
    "    def __init__(self, rate, training=True, noise_shape=None, seed=None, **kwargs):\n",
    "        super(myDropout, self).__init__(rate, noise_shape=None, seed=None,**kwargs)\n",
    "        self.training = training\n",
    "\n",
    "        \n",
    "    def call(self, inputs, training=None):\n",
    "        if 0. < self.rate < 1.:\n",
    "            noise_shape = self._get_noise_shape(inputs)\n",
    "\n",
    "            def dropped_inputs():\n",
    "                return K.dropout(inputs, self.rate, noise_shape,\n",
    "                                 seed=self.seed)\n",
    "            if not training: \n",
    "                return K.in_train_phase(dropped_inputs, inputs, training=self.training)\n",
    "            return K.in_train_phase(dropped_inputs, inputs, training=training)\n",
    "        return inputs"
   ]
  },
  {
   "cell_type": "markdown",
   "metadata": {},
   "source": [
    "### Your best config, custom dropout"
   ]
  },
  {
   "cell_type": "code",
   "execution_count": 59,
   "metadata": {
    "scrolled": true
   },
   "outputs": [
    {
     "name": "stdout",
     "output_type": "stream",
     "text": [
      "Train on 534895 samples, validate on 114621 samples\n",
      "Epoch 1/23\n",
      "534895/534895 [==============================] - 20s 37us/step - loss: 0.1842 - accuracy: 0.9030 - val_loss: 0.1612 - val_accuracy: 0.9166\n",
      "Epoch 2/23\n",
      "534895/534895 [==============================] - 18s 33us/step - loss: 0.1648 - accuracy: 0.9128 - val_loss: 0.1593 - val_accuracy: 0.9172\n",
      "Epoch 3/23\n",
      "534895/534895 [==============================] - 23s 42us/step - loss: 0.1640 - accuracy: 0.9138 - val_loss: 0.1603 - val_accuracy: 0.9170\n",
      "Epoch 4/23\n",
      "534895/534895 [==============================] - 21s 39us/step - loss: 0.1632 - accuracy: 0.9138 - val_loss: 0.1582 - val_accuracy: 0.9171\n",
      "Epoch 5/23\n",
      "534895/534895 [==============================] - 19s 35us/step - loss: 0.1615 - accuracy: 0.9148 - val_loss: 0.1583 - val_accuracy: 0.9169\n",
      "Epoch 6/23\n",
      "534895/534895 [==============================] - 19s 36us/step - loss: 0.1607 - accuracy: 0.9153 - val_loss: 0.1577 - val_accuracy: 0.9177\n",
      "Epoch 7/23\n",
      "534895/534895 [==============================] - 20s 38us/step - loss: 0.1606 - accuracy: 0.9154 - val_loss: 0.1578 - val_accuracy: 0.9176\n",
      "Epoch 8/23\n",
      "534895/534895 [==============================] - 21s 38us/step - loss: 0.1602 - accuracy: 0.9160 - val_loss: 0.1577 - val_accuracy: 0.9182\n",
      "Epoch 9/23\n",
      "534895/534895 [==============================] - 20s 38us/step - loss: 0.1601 - accuracy: 0.9160 - val_loss: 0.1574 - val_accuracy: 0.9176\n",
      "Epoch 10/23\n",
      "534895/534895 [==============================] - 19s 36us/step - loss: 0.1598 - accuracy: 0.9164 - val_loss: 0.1568 - val_accuracy: 0.9186\n",
      "Epoch 11/23\n",
      "534895/534895 [==============================] - 20s 38us/step - loss: 0.1594 - accuracy: 0.9165 - val_loss: 0.1568 - val_accuracy: 0.9188\n",
      "Epoch 12/23\n",
      "534895/534895 [==============================] - 21s 39us/step - loss: 0.1593 - accuracy: 0.9169 - val_loss: 0.1565 - val_accuracy: 0.9194\n",
      "Epoch 13/23\n",
      "534895/534895 [==============================] - 20s 38us/step - loss: 0.1594 - accuracy: 0.9170 - val_loss: 0.1567 - val_accuracy: 0.9191\n",
      "Epoch 14/23\n",
      "534895/534895 [==============================] - 20s 37us/step - loss: 0.1589 - accuracy: 0.9175 - val_loss: 0.1566 - val_accuracy: 0.9192\n",
      "Epoch 15/23\n",
      "534895/534895 [==============================] - 21s 40us/step - loss: 0.1587 - accuracy: 0.9173 - val_loss: 0.1562 - val_accuracy: 0.9191\n",
      "Epoch 16/23\n",
      "534895/534895 [==============================] - 21s 40us/step - loss: 0.1588 - accuracy: 0.9174 - val_loss: 0.1564 - val_accuracy: 0.9189\n",
      "Epoch 17/23\n",
      "534895/534895 [==============================] - 20s 37us/step - loss: 0.1588 - accuracy: 0.9174 - val_loss: 0.1568 - val_accuracy: 0.9184\n",
      "Epoch 18/23\n",
      "534895/534895 [==============================] - 20s 38us/step - loss: 0.1590 - accuracy: 0.9175 - val_loss: 0.1561 - val_accuracy: 0.9194\n",
      "Epoch 19/23\n",
      "534895/534895 [==============================] - 21s 39us/step - loss: 0.1591 - accuracy: 0.9175 - val_loss: 0.1567 - val_accuracy: 0.9193\n",
      "Epoch 20/23\n",
      "534895/534895 [==============================] - 21s 39us/step - loss: 0.1587 - accuracy: 0.9177 - val_loss: 0.1566 - val_accuracy: 0.9199\n",
      "Epoch 21/23\n",
      "534895/534895 [==============================] - 20s 37us/step - loss: 0.1585 - accuracy: 0.9179 - val_loss: 0.1570 - val_accuracy: 0.9192\n",
      "Epoch 22/23\n",
      "534895/534895 [==============================] - 21s 39us/step - loss: 0.1582 - accuracy: 0.9179 - val_loss: 0.1561 - val_accuracy: 0.9194\n",
      "Epoch 23/23\n",
      "534895/534895 [==============================] - 22s 42us/step - loss: 0.1585 - accuracy: 0.9178 - val_loss: 0.1577 - val_accuracy: 0.9195\n"
     ]
    }
   ],
   "source": [
    "# Your best training parameters\n",
    "batch_size = 500\n",
    "epochs = 23\n",
    "\n",
    "input_shape = (X.shape[1],)\n",
    "n_layers = 3\n",
    "n_nodes = 100\n",
    "\n",
    "# Build and train model\n",
    "model11 = build_DNN(input_shape, n_layers, n_nodes, learning_rate = 0.01, use_bn = True, optimizer = \"Adam\",use_custom_dropout = True)\n",
    "\n",
    "history11 = model11.fit(Xtrain, Ytrain, epochs = epochs, validation_data = (Xval,Yval), batch_size = batch_size, class_weight = class_weights)"
   ]
  },
  {
   "cell_type": "code",
   "execution_count": 60,
   "metadata": {},
   "outputs": [
    {
     "name": "stdout",
     "output_type": "stream",
     "text": [
      "114621/114621 [==============================] - 5s 42us/step\n",
      "Test accuracy: 0.9192\n"
     ]
    }
   ],
   "source": [
    "# Run this cell a few times to evalute the model on test data, \n",
    "# if you get slightly different test accuracy every time, Dropout during testing is working\n",
    "\n",
    "# Evaluate model on test data\n",
    "score = model11.evaluate(Xtest, Ytest)\n",
    "                       \n",
    "print('Test accuracy: %.4f' % score[1])"
   ]
  },
  {
   "cell_type": "code",
   "execution_count": 63,
   "metadata": {},
   "outputs": [
    {
     "name": "stdout",
     "output_type": "stream",
     "text": [
      "0.9189534199237823\n",
      "0.00014910431838592792\n"
     ]
    }
   ],
   "source": [
    "# Run the testing 100 times, and save the accuracies in an array\n",
    "accuracy_array = np.empty(100)\n",
    "for i in range(100):\n",
    "    score = model11.evaluate(Xtest,Ytest,verbose = 0)\n",
    "    accuracy_array[i] = score[1]\n",
    "    \n",
    "# Calculate and print mean and std of accuracies\n",
    "print(np.mean(accuracy_array))\n",
    "print(np.std(accuracy_array))\n"
   ]
  },
  {
   "cell_type": "markdown",
   "metadata": {},
   "source": [
    "# Part 21: Cross validation uncertainty\n",
    "\n",
    "Cross validation (CV) is often used to evaluate a model, by training and testing using different subsets of the data it is possible to get the uncertainty as the standard deviation over folds. We here use a help function from scikit-learn to setup the CV, see https://scikit-learn.org/stable/modules/generated/sklearn.model_selection.StratifiedKFold.html . Use 10 folds with shuffling, random state 1234. \n",
    "\n",
    "Note: We here assume that you have found the best hyper parameters, so here the data are only split into training and testing, no validation.\n",
    "\n",
    "---\n",
    "\n",
    "Question 19: What is the mean and the standard deviation of the test accuracy?\n",
    "\n",
    "Question 20: What is the main advantage of dropout compared to CV for estimating test uncertainty? The difference may not be so large in this notebook, but imagine that you have a network that takes 24 hours to train."
   ]
  },
  {
   "cell_type": "code",
   "execution_count": 65,
   "metadata": {},
   "outputs": [
    {
     "name": "stdout",
     "output_type": "stream",
     "text": [
      "K : 1\n",
      "K : 2\n",
      "K : 3\n",
      "K : 4\n",
      "K : 5\n",
      "K : 6\n",
      "K : 7\n",
      "K : 8\n",
      "K : 9\n",
      "K : 10\n",
      "0.9395922303199769\n",
      "0.007093931722136662\n"
     ]
    }
   ],
   "source": [
    "from sklearn.model_selection import StratifiedKFold\n",
    "\n",
    "batch_size = 500\n",
    "epochs = 23\n",
    "\n",
    "input_shape = (X.shape[1],)\n",
    "n_layers = 3\n",
    "n_nodes = 100\n",
    "accuracy_array1 = np.empty(10)\n",
    "\n",
    "# Define 10-fold cross validation\n",
    "KForlds = StratifiedKFold(10,True,1234)\n",
    "index = 0\n",
    "\n",
    "# Loop over cross validation folds\n",
    "for train_index, test_index in KForlds.split(X, Y):\n",
    "    print(\"K : {}\".format (index + 1))\n",
    "    newXtrain = X[train_index,:]\n",
    "    newYtrain = Y[train_index]\n",
    "        \n",
    "    newXtest = X[test_index,:]\n",
    "    newYtest = Y[test_index]\n",
    "    # Calculate class weights for current split\n",
    "    class_weights = class_weight.compute_class_weight(\"balanced\", np.unique(newYtrain), newYtrain)\n",
    "\n",
    "    # Rebuild the DNN model, to not continue training on the previously trained model\n",
    "    model = build_DNN(input_shape, n_layers, n_nodes, learning_rate = 0.01, use_bn = True, optimizer = \"Adam\")\n",
    "\n",
    "    # Fit the model with training set and class weights for this fold\n",
    "    history11 = model.fit(newXtrain, newYtrain, epochs = epochs, batch_size = batch_size, class_weight = class_weights,verbose = 0)\n",
    "\n",
    "    # Evaluate the model using the test set for this fold\n",
    "    score = model.evaluate(Xtest,Ytest,verbose = 0)\n",
    "\n",
    "    # Save the test accuracy in an array\n",
    "    accuracy_array1[index] = score[1]\n",
    "    index = index + 1\n",
    "# Calculate and print mean and std of accuracies\n",
    "print(np.mean(accuracy_array1))\n",
    "print(np.std(accuracy_array1))\n"
   ]
  },
  {
   "cell_type": "markdown",
   "metadata": {},
   "source": [
    "# Part 22: DNN regression\n",
    "\n",
    "A similar DNN can be used for regression, instead of classification.\n",
    "\n",
    "Question 21: How would you change the DNN in order to use it for regression instead?"
   ]
  },
  {
   "cell_type": "markdown",
   "metadata": {},
   "source": [
    "## Report\n",
    "\n",
    "Send in this jupyter notebook, with answers to all questions."
   ]
  }
 ],
 "metadata": {
  "kernelspec": {
   "display_name": "Python 3 (ipykernel)",
   "language": "python",
   "name": "python3"
  },
  "language_info": {
   "codemirror_mode": {
    "name": "ipython",
    "version": 3
   },
   "file_extension": ".py",
   "mimetype": "text/x-python",
   "name": "python",
   "nbconvert_exporter": "python",
   "pygments_lexer": "ipython3",
   "version": "3.7.11"
  }
 },
 "nbformat": 4,
 "nbformat_minor": 4
}
