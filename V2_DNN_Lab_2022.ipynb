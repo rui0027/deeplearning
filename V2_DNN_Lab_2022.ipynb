{
 "cells": [
  {
   "cell_type": "markdown",
   "metadata": {},
   "source": [
    "# Deep Neural Networks Laboration\n",
    "\n",
    "Data used in this laboration are from the Kitsune Network Attack Dataset, https://archive.ics.uci.edu/ml/datasets/Kitsune+Network+Attack+Dataset . We will focus on the 'Mirai' part of the dataset. Your task is to make a DNN that can classify if each attack is benign or malicious. The dataset has 116 covariates, but to make it a bit more difficult we will remove the first 24 covariates.\n",
    "\n",
    "You need to answer all questions in this notebook."
   ]
  },
  {
   "cell_type": "markdown",
   "metadata": {},
   "source": [
    "# Part 1: Get the data\n",
    "\n",
    "Skip this part if you load stored numpy arrays (Mirai*.npy) (which is recommended)\n",
    "\n",
    "Use `wget` in the terminal of your cloud machine (in the same directory as where you have saved this notebook) to download the data, i.e.\n",
    "\n",
    "wget https://archive.ics.uci.edu/ml/machine-learning-databases/00516/mirai/Mirai_dataset.csv.gz\n",
    "\n",
    "wget https://archive.ics.uci.edu/ml/machine-learning-databases/00516/mirai/Mirai_labels.csv.gz\n",
    "\n",
    "Then unpack the files using `gunzip` in the terminal, i.e.\n",
    "\n",
    "gunzip Mirai_dataset.csv.gz\n",
    "\n",
    "gunzip Mirai_labels.csv.gz"
   ]
  },
  {
   "cell_type": "markdown",
   "metadata": {},
   "source": [
    "# Part 2: Get a graphics card\n",
    "\n",
    "Skip this part if you run on the CPU (recommended)\n",
    "\n",
    "Lets make sure that our script can see the graphics card that will be used. The graphics cards will perform all the time consuming calculations in every training iteration."
   ]
  },
  {
   "cell_type": "code",
   "execution_count": 3,
   "metadata": {},
   "outputs": [],
   "source": [
    "# import os\n",
    "# import warnings\n",
    "\n",
    "# # Ignore FutureWarning from numpy\n",
    "# warnings.simplefilter(action='ignore', category=FutureWarning)\n",
    "\n",
    "# import keras.backend as K\n",
    "# import tensorflow as tf\n",
    "\n",
    "# os.environ[\"CUDA_DEVICE_ORDER\"]=\"PCI_BUS_ID\";\n",
    " \n",
    "# # The GPU id to use, usually either \"0\" or \"1\";\n",
    "# os.environ[\"CUDA_VISIBLE_DEVICES\"]=\"0\";\n",
    "\n",
    "# # Allow growth of GPU memory, otherwise it will always look like all the memory is being used\n",
    "# physical_devices = tf.config.experimental.list_physical_devices('GPU')\n",
    "# tf.config.experimental.set_memory_growth(physical_devices[0], True) "
   ]
  },
  {
   "cell_type": "markdown",
   "metadata": {},
   "source": [
    "# Part 3: Hardware\n",
    "\n",
    "In deep learning, the computer hardware is very important. You should always know what kind of hardware you are working on. Lets pretend that everyone is using an Nvidia RTX 3090 graphics card.\n",
    "\n",
    "Question 1: Google the name of the graphics card, how many CUDA cores does it have?\n",
    "\n",
    "Question 2: How much memory does the graphics card have?\n",
    "\n",
    "Question 3: What is stored in the GPU memory while training a DNN ?"
   ]
  },
  {
   "cell_type": "markdown",
   "metadata": {},
   "source": [
    "Answer 1: It has 10496 CUDA cores [1].\n",
    "\n",
    "Answer 2: It has 24 GB memory [1].\n",
    "\n",
    "Answer 3: Parameters, Optimizer’s variables, Intermediate calculations and Workspace [2].\n",
    "\n",
    "Reference:\n",
    "\n",
    "[1] https://www.nvidia.com/sv-se/geforce/graphics-cards/30-series/rtx-3090-3090ti/\n",
    "\n",
    "[2] https://towardsdatascience.com/how-to-break-gpu-memory-boundaries-even-with-large-batch-sizes-7a9c27a400ce"
   ]
  },
  {
   "cell_type": "markdown",
   "metadata": {},
   "source": [
    "# Part 4: Load the data\n",
    "\n",
    "To make this step easier, directly load the data from saved numpy arrays (.npy) (recommended)\n",
    "\n",
    "\n",
    "Load the dataset from the csv files, it will take some time since it is almost 1.4 GB. (not recommended, unless you want to learn how to do it)\n",
    "\n",
    "We will use the function `genfromtxt` to load the data. (not recommended, unless you want to learn how to do it)\n",
    "\n",
    "https://docs.scipy.org/doc/numpy/reference/generated/numpy.genfromtxt.html\n",
    "\n",
    "Load the data from csv files the first time, then save the data as numpy files for faster loading the next time.\n"
   ]
  },
  {
   "cell_type": "code",
   "execution_count": 2,
   "metadata": {},
   "outputs": [
    {
     "name": "stdout",
     "output_type": "stream",
     "text": [
      "The covariates have size (191035, 92).\n",
      "The labels have size (191035,).\n",
      "\n",
      "number of class 0 in Y:  30406\n",
      "number of class 1 in Y:  160629\n"
     ]
    }
   ],
   "source": [
    "# from numpy import genfromtxt # Not needed if you load data from numpy arrays\n",
    "import numpy as np\n",
    "\n",
    "# Load data from numpy arrays, choose reduced files if the training takes too long\n",
    "X = np.load('Mirai_data_quarter.npy')\n",
    "Y = np.load('Mirai_labels_quarter.npy')\n",
    "\n",
    "# Remove the first 24 covariates (columns)\n",
    "X = np.delete(X, np.arange(24), axis=1)\n",
    "\n",
    "print('The covariates have size {}.'.format(X.shape))\n",
    "print('The labels have size {}.'.format(Y.shape))\n",
    "\n",
    "print()\n",
    "# Print the number of examples of each class\n",
    "print('number of class 0 in Y: ', int(len(Y) - np.sum(Y)))\n",
    "print('number of class 1 in Y: ',int(np.sum(Y)))\n"
   ]
  },
  {
   "cell_type": "markdown",
   "metadata": {},
   "source": [
    "# Part 5: How good is a naive classifier?\n",
    "\n",
    "Question 4: Given the number of examples from each class, how high classification performance can a naive classifier obtain? The naive classifier will assume that all examples belong to one class. Note: you do not need to make a naive classifier, this is a theoretical question, just to understand how good performance we can obtain by guessing that all examples belong to one class."
   ]
  },
  {
   "cell_type": "code",
   "execution_count": 407,
   "metadata": {
    "scrolled": true
   },
   "outputs": [
    {
     "name": "stdout",
     "output_type": "stream",
     "text": [
      "the number of NaNs in the labels: 0\n",
      "the number of NaNs in the covariates: 0\n",
      "\n",
      "Assuming that all examples belong to class 1, \n",
      "the accuracy:  0.8408354490014919\n"
     ]
    }
   ],
   "source": [
    "# It is common to have NaNs in the data, lets check for it. Hint: np.isnan()\n",
    "\n",
    "# Print the number of NaNs (not a number) in the labels\n",
    "print('the number of NaNs in the labels:', sum(np.isnan(Y)))\n",
    "\n",
    "# Print the number of NaNs in the covariates\n",
    "print('the number of NaNs in the covariates:',sum(sum(np.isnan(X))))\n",
    "\n",
    "#\n",
    "print()\n",
    "print('Assuming that all examples belong to class 1, \\nthe accuracy: ',int(np.sum(Y)) / len(Y))"
   ]
  },
  {
   "cell_type": "markdown",
   "metadata": {},
   "source": [
    "Answer 4:\n",
    "\n",
    "The highest classification performance of a naive classifier is: the number of correct classifications is as large as the number of the class. The accuracy, which is 0.84 in this case."
   ]
  },
  {
   "cell_type": "markdown",
   "metadata": {},
   "source": [
    "# Part 6: Preprocessing\n",
    "\n",
    "Lets do some simple preprocessing"
   ]
  },
  {
   "cell_type": "code",
   "execution_count": 3,
   "metadata": {},
   "outputs": [
    {
     "name": "stdout",
     "output_type": "stream",
     "text": [
      "[-2.52921747e-17  2.05908058e-16  6.55216103e-16  2.41019548e-17\n",
      " -2.30902678e-16  1.02477941e-15  2.97554997e-18 -4.85312200e-16\n",
      " -7.42102163e-16 -2.32092898e-17  1.19021999e-16 -1.41338624e-18\n",
      " -9.89370365e-18 -1.28692536e-17  3.23144727e-16  1.71391678e-16\n",
      "  8.06374042e-17 -2.23761358e-16  2.64080060e-18 -6.73218181e-18\n",
      "  2.59616735e-17 -1.06286645e-15  9.19444941e-16  4.10625896e-17\n",
      " -6.97468913e-16  9.67053740e-19 -5.80232244e-18  1.78532998e-17\n",
      " -4.44547166e-16  3.82060616e-16  1.35685079e-16  4.80253765e-16\n",
      " -1.01912586e-17 -5.71305594e-17 -1.13070899e-17 -1.94005858e-16\n",
      " -1.76152558e-16 -5.23696795e-17 -4.11816116e-16  5.02124058e-18\n",
      " -1.24973099e-17 -1.96386298e-17 -4.90073080e-16  2.60360622e-18\n",
      "  1.33899749e-18  3.21954507e-16 -1.50265274e-17  4.87246308e-18\n",
      " -1.06227134e-15 -8.18276242e-18 -2.41019548e-17 -4.42761836e-16\n",
      " -1.27948649e-17  3.12432747e-17 -1.99956958e-16  1.60679698e-17\n",
      "  4.43356946e-17 -6.66523193e-17 -4.04674796e-16  1.69606348e-17\n",
      "  1.48182389e-16 -1.39106961e-17  1.17394745e-18 -2.34324560e-18\n",
      " -8.33153992e-18 -6.95088473e-16 -7.43887493e-19 -2.86843017e-16\n",
      " -7.43887493e-19 -3.71943746e-20  4.46332496e-18 -4.23123206e-16\n",
      "  5.63569164e-16 -8.03398492e-18  7.26034193e-16 -1.24973099e-17\n",
      " -9.06612882e-19 -3.01274435e-18 -5.53452295e-17  8.11730032e-16\n",
      "  4.83526870e-17 -3.79680176e-16 -1.93410748e-18  4.46332496e-19\n",
      " -4.76087995e-18 -2.57087517e-16 -1.43421509e-16  2.08288498e-18\n",
      "  4.07055236e-16  6.32304369e-18 -5.98829432e-18  4.38893621e-18]\n",
      "[1. 1. 1. 1. 1. 1. 1. 1. 1. 1. 1. 1. 1. 1. 1. 1. 1. 1. 1. 1. 1. 1. 1. 1.\n",
      " 1. 1. 1. 1. 1. 1. 1. 1. 1. 1. 1. 1. 1. 1. 1. 1. 1. 1. 1. 1. 1. 1. 1. 1.\n",
      " 1. 1. 1. 1. 1. 1. 1. 1. 1. 1. 1. 1. 1. 1. 1. 1. 1. 1. 1. 1. 1. 1. 1. 1.\n",
      " 1. 1. 1. 1. 1. 1. 1. 1. 1. 1. 1. 1. 1. 1. 1. 1. 1. 1. 1. 1.]\n"
     ]
    }
   ],
   "source": [
    "# Convert covariates to floats\n",
    "X.astype(float)\n",
    "\n",
    "# Convert labels to integers\n",
    "Y.astype(int)\n",
    "\n",
    "# Remove mean of each covariate (column)\n",
    "X = X - np.mean(X, axis = 0) # axis = 0 means along the column and axis = 1 means working along the row\n",
    "\n",
    "# Divide each covariate (column) by its standard deviation\n",
    "X = X / np.std(X, axis = 0)\n",
    "\n",
    "# Check that mean is 0 and standard deviation is 1 for all covariates, by printing mean and std\n",
    "print(np.mean(X, axis=0))\n",
    "print(np.std(X, axis=0))"
   ]
  },
  {
   "cell_type": "markdown",
   "metadata": {},
   "source": [
    "# Part 7: Split the dataset\n",
    "\n",
    "Use the first 70% of the dataset for training, leave the other 30% for validation and test, call the variables\n",
    "\n",
    "Xtrain (70%)\n",
    "\n",
    "Xtemp  (30%)\n",
    "\n",
    "Ytrain (70%)\n",
    "\n",
    "Ytemp  (30%)\n",
    "\n",
    "We use a function from scikit learn.\n",
    "https://scikit-learn.org/stable/modules/generated/sklearn.model_selection.train_test_split.html\n"
   ]
  },
  {
   "cell_type": "code",
   "execution_count": 4,
   "metadata": {},
   "outputs": [
    {
     "name": "stdout",
     "output_type": "stream",
     "text": [
      "Xtrain has size (133724, 92).\n",
      "Ytrain has size (133724,).\n",
      "Xtemp has size (57311, 92).\n",
      "Ytemp has size (57311,).\n",
      "\n",
      "number of class 0 in Ytrain:  21387\n",
      "number of class 1 in Ytrain:  112337\n",
      "\n",
      "number of class 0 in Ytemp:  9019\n",
      "number of class 1 in Ytemp:  48292\n"
     ]
    }
   ],
   "source": [
    "from sklearn.model_selection import train_test_split\n",
    "\n",
    "# Your code\n",
    "Xtrain, Xtemp, Ytrain, Ytemp = train_test_split(X, Y, test_size=0.3, shuffle=True, random_state=42)\n",
    "\n",
    "print('Xtrain has size {}.'.format(Xtrain.shape))\n",
    "print('Ytrain has size {}.'.format(Ytrain.shape))\n",
    "\n",
    "print('Xtemp has size {}.'.format(Xtemp.shape))\n",
    "print('Ytemp has size {}.'.format(Ytemp.shape))\n",
    "\n",
    "# Print the number of examples of each class, for the training data and the remaining 30%\n",
    "print()\n",
    "print('number of class 0 in Ytrain: ', int(len(Ytrain) - np.sum(Ytrain)))\n",
    "print('number of class 1 in Ytrain: ',int(np.sum(Ytrain)))\n",
    "print()\n",
    "print('number of class 0 in Ytemp: ', int(len(Ytemp) - np.sum(Ytemp)))\n",
    "print('number of class 1 in Ytemp: ',int(np.sum(Ytemp)))"
   ]
  },
  {
   "cell_type": "markdown",
   "metadata": {},
   "source": [
    "#  Part 8: Split non-training data data into validation and test\n",
    "Now split your non-training data (Xtemp, Ytemp) into 50% validation (Xval, Yval) and 50% testing (Xtest, Ytest), we use a function from scikit learn. In total this gives us 70% for training, 15% for validation, 15% for test.\n",
    "\n",
    "https://scikit-learn.org/stable/modules/generated/sklearn.model_selection.train_test_split.html\n",
    "\n",
    "Do all variables (Xtrain,Ytrain), (Xval,Yval), (Xtest,Ytest) have the shape that you expect?"
   ]
  },
  {
   "cell_type": "code",
   "execution_count": 5,
   "metadata": {
    "pycharm": {
     "name": "#%%\n"
    }
   },
   "outputs": [
    {
     "name": "stdout",
     "output_type": "stream",
     "text": [
      "The validation and test data have size (28655, 92), (28656, 92), (28655,) and (28656,)\n"
     ]
    }
   ],
   "source": [
    "from sklearn.model_selection import train_test_split\n",
    "\n",
    "Xval, Xtest, Yval, Ytest = train_test_split(Xtemp, Ytemp, test_size=0.5, random_state=42, shuffle=True)\n",
    "\n",
    "\n",
    "print('The validation and test data have size {}, {}, {} and {}'.format(Xval.shape, Xtest.shape, Yval.shape, Ytest.shape))\n",
    "\n"
   ]
  },
  {
   "cell_type": "markdown",
   "metadata": {},
   "source": [
    "Answer: \n",
    "All variables have the shape that we expect.\n"
   ]
  },
  {
   "cell_type": "markdown",
   "metadata": {},
   "source": [
    "# Part 9: DNN classification\n",
    "\n",
    "Finish this code to create a first version of the classifier using a DNN. Start with a simple network with 2 dense layers (with 20 nodes each), using sigmoid activation functions. The final dense layer should have a single node and a sigmoid activation function. We start with the SGD optimizer.\n",
    "\n",
    "For different parts of this notebook you need to go back here, add more things, and re-run this cell to re-define the build function.\n",
    "\n",
    "Relevant functions are\n",
    "\n",
    "`model.add()`, adds a layer to the network\n",
    "\n",
    "`Dense()`, a dense network layer\n",
    "\n",
    "`model.compile()`, compile the model, add \" metrics=['accuracy'] \" to print the classification accuracy during the training\n",
    "\n",
    "See https://keras.io/layers/core/ for information on how the `Dense()` function works\n",
    "\n",
    "Import a relevant cost / loss function for binary classification from keras.losses (https://keras.io/losses/)\n",
    "\n",
    "See the following links for how to compile, train and evaluate the model\n",
    "\n",
    "https://keras.io/api/models/model_training_apis/#compile-method\n",
    "\n",
    "https://keras.io/api/models/model_training_apis/#fit-method\n",
    "\n",
    "https://keras.io/api/models/model_training_apis/#evaluate-method\n"
   ]
  },
  {
   "cell_type": "code",
   "execution_count": 6,
   "metadata": {},
   "outputs": [],
   "source": [
    "from keras.models import Sequential, Model\n",
    "from keras.layers import Input, Dense,  BatchNormalization, Dropout\n",
    "from tensorflow.keras.optimizers import SGD, Adam\n",
    "from keras.losses import binary_crossentropy\n",
    "\n",
    "# Set seed from random number generator, for better comparisons\n",
    "from numpy.random import seed\n",
    "seed(123)\n",
    "\n",
    "\n",
    "def build_DNN(input_shape, n_layers, n_nodes, act_fun='sigmoid', optimizer='sgd', learning_rate=0.01, \n",
    "              use_bn=False, use_dropout=False, use_custom_dropout=False):\n",
    "    \n",
    "    # Setup optimizer, depending on input parameter string\n",
    "    if optimizer == 'sgd':\n",
    "        opt = SGD(lr=learning_rate,decay=1e-6, momentum=0.9, nesterov=True)\n",
    "    if optimizer == 'Adam':\n",
    "        opt = Adam(lr=learning_rate)\n",
    "        \n",
    "    # Setup a sequential model\n",
    "    model = Sequential()\n",
    "\n",
    "    # Add layers to the model, using the input parameters of the build_DNN function\n",
    "    \n",
    "    # Add first layer, requires input shape\n",
    "    model.add(Dense(n_nodes, input_shape = (input_shape,), activation = act_fun))\n",
    "        \n",
    "    # Add remaining layers, do not require input shape\n",
    "    for i in range(n_layers-1):\n",
    "        model.add(Dense(n_nodes, activation = act_fun))\n",
    "        \n",
    "        if use_bn == True:\n",
    "            model.add(BatchNormalization())\n",
    "        if use_dropout == True:\n",
    "            model.add(Dropout(rate = 0.25))\n",
    "        if use_custom_dropout == True:\n",
    "            model.add(myDropout(rate = 0.25))\n",
    "\n",
    "    # Add final layer\n",
    "    model.add(Dense(1, activation = 'sigmoid'))\n",
    "\n",
    "    # Compile model\n",
    "    model.compile(optimizer=opt, loss=binary_crossentropy, metrics=['accuracy'])\n",
    "\n",
    "    return model"
   ]
  },
  {
   "cell_type": "code",
   "execution_count": 7,
   "metadata": {},
   "outputs": [],
   "source": [
    "# Lets define a help function for plotting the training results\n",
    "\n",
    "import matplotlib.pyplot as plt\n",
    "def plot_results(history):\n",
    "    \n",
    "    val_loss = history.history['val_loss']\n",
    "    acc = history.history['accuracy']\n",
    "    loss = history.history['loss']\n",
    "    val_acc = history.history['val_accuracy']\n",
    "    \n",
    "    plt.figure(figsize=(10,4))\n",
    "    plt.xlabel('Epochs')\n",
    "    plt.ylabel('Loss')\n",
    "    plt.plot(loss)\n",
    "    plt.plot(val_loss)\n",
    "    plt.legend(['Training','Validation'])\n",
    "\n",
    "    plt.figure(figsize=(10,4))\n",
    "    plt.xlabel('Epochs')\n",
    "    plt.ylabel('Accuracy')\n",
    "    plt.plot(acc)\n",
    "    plt.plot(val_acc)\n",
    "    plt.legend(['Training','Validation'])\n",
    "\n",
    "    plt.show()"
   ]
  },
  {
   "cell_type": "markdown",
   "metadata": {},
   "source": [
    "# Part 10: Train the DNN\n",
    "\n",
    "Time to train the DNN, we start simple with 2 layers with 20 nodes each, learning rate 0.1.\n",
    "\n",
    "Relevant functions\n",
    "\n",
    "`build_DNN`, the function we defined in Part 9, call it with the parameters you want to use\n",
    "\n",
    "`model.fit()`, train the model with some training data\n",
    "\n",
    "`model.evaluate()`, apply the trained model to some test data\n",
    "\n",
    "See the following links for how to train and evaluate the model\n",
    "\n",
    "https://keras.io/api/models/model_training_apis/#fit-method\n",
    "\n",
    "https://keras.io/api/models/model_training_apis/#evaluate-method\n"
   ]
  },
  {
   "cell_type": "markdown",
   "metadata": {},
   "source": [
    "### 2 layers, 20 nodes"
   ]
  },
  {
   "cell_type": "code",
   "execution_count": 422,
   "metadata": {
    "scrolled": true
   },
   "outputs": [
    {
     "name": "stdout",
     "output_type": "stream",
     "text": [
      "Train on 133724 samples, validate on 28655 samples\n",
      "Epoch 1/20\n",
      "133724/133724 [==============================] - 1s 4us/step - loss: 0.4716 - accuracy: 0.8401 - val_loss: 0.4398 - val_accuracy: 0.8433\n",
      "Epoch 2/20\n",
      "133724/133724 [==============================] - 0s 2us/step - loss: 0.4379 - accuracy: 0.8401 - val_loss: 0.4270 - val_accuracy: 0.8433\n",
      "Epoch 3/20\n",
      "133724/133724 [==============================] - 0s 2us/step - loss: 0.4284 - accuracy: 0.8401 - val_loss: 0.4174 - val_accuracy: 0.8433\n",
      "Epoch 4/20\n",
      "133724/133724 [==============================] - 0s 2us/step - loss: 0.4184 - accuracy: 0.8401 - val_loss: 0.4078 - val_accuracy: 0.8433\n",
      "Epoch 5/20\n",
      "133724/133724 [==============================] - 0s 2us/step - loss: 0.4086 - accuracy: 0.8401 - val_loss: 0.3981 - val_accuracy: 0.8433\n",
      "Epoch 6/20\n",
      "133724/133724 [==============================] - 0s 2us/step - loss: 0.3985 - accuracy: 0.8401 - val_loss: 0.3878 - val_accuracy: 0.8433\n",
      "Epoch 7/20\n",
      "133724/133724 [==============================] - 0s 2us/step - loss: 0.3877 - accuracy: 0.8401 - val_loss: 0.3767 - val_accuracy: 0.8433\n",
      "Epoch 8/20\n",
      "133724/133724 [==============================] - 0s 2us/step - loss: 0.3762 - accuracy: 0.8401 - val_loss: 0.3647 - val_accuracy: 0.8433\n",
      "Epoch 9/20\n",
      "133724/133724 [==============================] - 0s 2us/step - loss: 0.3637 - accuracy: 0.8401 - val_loss: 0.3519 - val_accuracy: 0.8433\n",
      "Epoch 10/20\n",
      "133724/133724 [==============================] - 0s 2us/step - loss: 0.3503 - accuracy: 0.8401 - val_loss: 0.3382 - val_accuracy: 0.8433\n",
      "Epoch 11/20\n",
      "133724/133724 [==============================] - 0s 2us/step - loss: 0.3362 - accuracy: 0.8401 - val_loss: 0.3240 - val_accuracy: 0.8433\n",
      "Epoch 12/20\n",
      "133724/133724 [==============================] - 0s 2us/step - loss: 0.3216 - accuracy: 0.8401 - val_loss: 0.3094 - val_accuracy: 0.8433\n",
      "Epoch 13/20\n",
      "133724/133724 [==============================] - 0s 2us/step - loss: 0.3070 - accuracy: 0.8401 - val_loss: 0.2951 - val_accuracy: 0.8433\n",
      "Epoch 14/20\n",
      "133724/133724 [==============================] - 0s 2us/step - loss: 0.2926 - accuracy: 0.8401 - val_loss: 0.2812 - val_accuracy: 0.8433\n",
      "Epoch 15/20\n",
      "133724/133724 [==============================] - 0s 2us/step - loss: 0.2790 - accuracy: 0.8401 - val_loss: 0.2682 - val_accuracy: 0.8433\n",
      "Epoch 16/20\n",
      "133724/133724 [==============================] - 0s 2us/step - loss: 0.2663 - accuracy: 0.8401 - val_loss: 0.2564 - val_accuracy: 0.8433\n",
      "Epoch 17/20\n",
      "133724/133724 [==============================] - 0s 2us/step - loss: 0.2550 - accuracy: 0.8404 - val_loss: 0.2460 - val_accuracy: 0.8464\n",
      "Epoch 18/20\n",
      "133724/133724 [==============================] - 0s 2us/step - loss: 0.2450 - accuracy: 0.8481 - val_loss: 0.2368 - val_accuracy: 0.8532\n",
      "Epoch 19/20\n",
      "133724/133724 [==============================] - 0s 2us/step - loss: 0.2364 - accuracy: 0.8524 - val_loss: 0.2290 - val_accuracy: 0.8570\n",
      "Epoch 20/20\n",
      "133724/133724 [==============================] - 0s 2us/step - loss: 0.2290 - accuracy: 0.8578 - val_loss: 0.2224 - val_accuracy: 0.8643\n"
     ]
    }
   ],
   "source": [
    "# Setup some training parameters\n",
    "batch_size = 10000\n",
    "epochs = 20\n",
    "\n",
    "input_shape = 92\n",
    "\n",
    "# Build the model\n",
    "model1 = build_DNN(input_shape=input_shape, n_layers=2, n_nodes=20, act_fun='sigmoid', optimizer='sgd', learning_rate=0.01, \n",
    "              use_bn=False, use_dropout=False, use_custom_dropout=False)\n",
    "\n",
    "# Train the model, provide training data and validation data\n",
    "history1 = model1.fit(x=Xtrain, y=Ytrain, batch_size=batch_size, epochs = epochs, verbose=1, validation_data = (Xval,Yval))\n",
    "\n"
   ]
  },
  {
   "cell_type": "code",
   "execution_count": 423,
   "metadata": {},
   "outputs": [
    {
     "name": "stdout",
     "output_type": "stream",
     "text": [
      "28656/28656 [==============================] - 0s 13us/step\n",
      "Test loss: 0.2240\n",
      "Test accuracy: 0.8670\n"
     ]
    }
   ],
   "source": [
    "# Evaluate the model on the test data\n",
    "score = model1.evaluate(Xtest, Ytest)\n",
    "\n",
    "print('Test loss: %.4f' % score[0])\n",
    "print('Test accuracy: %.4f' % score[1])"
   ]
  },
  {
   "cell_type": "code",
   "execution_count": 424,
   "metadata": {},
   "outputs": [
    {
     "data": {
      "image/png": "[encoded data removed]",
      "text/plain": [
       "<Figure size 720x288 with 1 Axes>"
      ]
     },
     "metadata": {
      "needs_background": "light"
     },
     "output_type": "display_data"
    },
    {
     "data": {
      "image/png": "[encoded data removed]",
      "text/plain": [
       "<Figure size 720x288 with 1 Axes>"
      ]
     },
     "metadata": {
      "needs_background": "light"
     },
     "output_type": "display_data"
    }
   ],
   "source": [
    "# Plot the history from the training run\n",
    "plot_results(history1)"
   ]
  },
  {
   "cell_type": "markdown",
   "metadata": {},
   "source": [
    "# Part 11: More questions\n",
    "\n",
    "Question 5: What happens if you add several Dense layers without specifying the activation function?\n",
    "\n",
    "Question 6: How are the weights in each dense layer initialized as default? How are the bias weights initialized?\n"
   ]
  },
  {
   "cell_type": "markdown",
   "metadata": {},
   "source": [
    "Answer 5: If we don't add the avtivation functions after the Dense layers, the neural network will be a linear mapping from input matrix to output matrix. It will be unable to solve many complicated problems.\n",
    "\n",
    "Answer 6: The default initializer of weights is 'glorot_uniform'. The default initializer of bias is 'zeros'.\n"
   ]
  },
  {
   "cell_type": "markdown",
   "metadata": {},
   "source": [
    "# Part 12: Balancing the classes\n",
    "\n",
    "This dataset is rather unbalanced, we need to define class weights so that the training pays more attention to the class with fewer samples. We use a function in scikit learn\n",
    "\n",
    "https://scikit-learn.org/stable/modules/generated/sklearn.utils.class_weight.compute_class_weight.html\n",
    "\n",
    "You need to call the function something like this\n",
    "\n",
    "class_weights = class_weight.compute_class_weight(class_weight = , classes = , y = )\n",
    "\n",
    "otherwise it will complain"
   ]
  },
  {
   "cell_type": "code",
   "execution_count": 8,
   "metadata": {},
   "outputs": [
    {
     "name": "stdout",
     "output_type": "stream",
     "text": [
      "[3.12629167 0.59519125]\n"
     ]
    }
   ],
   "source": [
    "from sklearn.utils import class_weight\n",
    "\n",
    "# Calculate class weights\n",
    "class_weights = class_weight.compute_class_weight(class_weight=\"balanced\", classes=np.unique(Ytrain), y=Ytrain)\n",
    "\n",
    "\n",
    "# Print the class weights\n",
    "print(class_weights)\n",
    "# Keras wants the weights in this form, uncomment and change value1 and value2 to your weights, \n",
    "# or get them from the array that is returned from class_weight\n",
    "\n",
    "#class_weights = {0: class_weights[0],\n",
    "#                 1: class_weights[1]}\n"
   ]
  },
  {
   "cell_type": "markdown",
   "metadata": {},
   "source": [
    "### 2 layers, 20 nodes, class weights"
   ]
  },
  {
   "cell_type": "code",
   "execution_count": 426,
   "metadata": {
    "scrolled": true
   },
   "outputs": [
    {
     "name": "stdout",
     "output_type": "stream",
     "text": [
      "Train on 133724 samples, validate on 28655 samples\n",
      "Epoch 1/20\n",
      "133724/133724 [==============================] - 1s 4us/step - loss: 0.4306 - accuracy: 0.8401 - val_loss: 0.4221 - val_accuracy: 0.8433\n",
      "Epoch 2/20\n",
      "133724/133724 [==============================] - 0s 2us/step - loss: 0.4243 - accuracy: 0.8401 - val_loss: 0.4145 - val_accuracy: 0.8433\n",
      "Epoch 3/20\n",
      "133724/133724 [==============================] - 0s 2us/step - loss: 0.4163 - accuracy: 0.8401 - val_loss: 0.4061 - val_accuracy: 0.8433\n",
      "Epoch 4/20\n",
      "133724/133724 [==============================] - 0s 2us/step - loss: 0.4076 - accuracy: 0.8401 - val_loss: 0.3972 - val_accuracy: 0.8433\n",
      "Epoch 5/20\n",
      "133724/133724 [==============================] - 0s 2us/step - loss: 0.3982 - accuracy: 0.8401 - val_loss: 0.3876 - val_accuracy: 0.8433\n",
      "Epoch 6/20\n",
      "133724/133724 [==============================] - 0s 2us/step - loss: 0.3882 - accuracy: 0.8401 - val_loss: 0.3771 - val_accuracy: 0.8433\n",
      "Epoch 7/20\n",
      "133724/133724 [==============================] - 0s 2us/step - loss: 0.3773 - accuracy: 0.8401 - val_loss: 0.3659 - val_accuracy: 0.8433\n",
      "Epoch 8/20\n",
      "133724/133724 [==============================] - 0s 2us/step - loss: 0.3654 - accuracy: 0.8401 - val_loss: 0.3537 - val_accuracy: 0.8433\n",
      "Epoch 9/20\n",
      "133724/133724 [==============================] - 0s 2us/step - loss: 0.3528 - accuracy: 0.8401 - val_loss: 0.3407 - val_accuracy: 0.8433\n",
      "Epoch 10/20\n",
      "133724/133724 [==============================] - 0s 2us/step - loss: 0.3393 - accuracy: 0.8401 - val_loss: 0.3271 - val_accuracy: 0.8433\n",
      "Epoch 11/20\n",
      "133724/133724 [==============================] - 0s 2us/step - loss: 0.3254 - accuracy: 0.8401 - val_loss: 0.3131 - val_accuracy: 0.8433\n",
      "Epoch 12/20\n",
      "133724/133724 [==============================] - 0s 2us/step - loss: 0.3112 - accuracy: 0.8401 - val_loss: 0.2991 - val_accuracy: 0.8433\n",
      "Epoch 13/20\n",
      "133724/133724 [==============================] - 0s 2us/step - loss: 0.2972 - accuracy: 0.8401 - val_loss: 0.2855 - val_accuracy: 0.8433\n",
      "Epoch 14/20\n",
      "133724/133724 [==============================] - 0s 2us/step - loss: 0.2837 - accuracy: 0.8401 - val_loss: 0.2727 - val_accuracy: 0.8433\n",
      "Epoch 15/20\n",
      "133724/133724 [==============================] - 0s 2us/step - loss: 0.2710 - accuracy: 0.8401 - val_loss: 0.2608 - val_accuracy: 0.8433\n",
      "Epoch 16/20\n",
      "133724/133724 [==============================] - 0s 2us/step - loss: 0.2595 - accuracy: 0.8401 - val_loss: 0.2500 - val_accuracy: 0.8433\n",
      "Epoch 17/20\n",
      "133724/133724 [==============================] - 0s 2us/step - loss: 0.2492 - accuracy: 0.8411 - val_loss: 0.2406 - val_accuracy: 0.8477\n",
      "Epoch 18/20\n",
      "133724/133724 [==============================] - 0s 2us/step - loss: 0.2402 - accuracy: 0.8518 - val_loss: 0.2324 - val_accuracy: 0.8623\n",
      "Epoch 19/20\n",
      "133724/133724 [==============================] - 0s 2us/step - loss: 0.2324 - accuracy: 0.8624 - val_loss: 0.2255 - val_accuracy: 0.8681\n",
      "Epoch 20/20\n",
      "133724/133724 [==============================] - 0s 2us/step - loss: 0.2259 - accuracy: 0.8684 - val_loss: 0.2196 - val_accuracy: 0.8752\n"
     ]
    }
   ],
   "source": [
    "# Setup some training parameters\n",
    "batch_size = 10000\n",
    "epochs = 20\n",
    "input_shape = 92\n",
    "\n",
    "# Build and train model\n",
    "model2 = build_DNN(input_shape=input_shape, n_layers=2, n_nodes=20, act_fun='sigmoid', optimizer='sgd', learning_rate=0.01, \n",
    "              use_bn=False, use_dropout=False, use_custom_dropout=False)\n",
    "\n",
    "history2 = model2.fit(Xtrain, Ytrain, epochs=20, batch_size=10000, verbose=1, validation_data=(Xval,Yval), class_weight=class_weights)\n",
    "\n"
   ]
  },
  {
   "cell_type": "code",
   "execution_count": 427,
   "metadata": {},
   "outputs": [
    {
     "name": "stdout",
     "output_type": "stream",
     "text": [
      "28656/28656 [==============================] - 0s 14us/step\n",
      "Test loss: 0.2211\n",
      "Test accuracy: 0.8749\n"
     ]
    }
   ],
   "source": [
    "# Evaluate model on test data\n",
    "score = model2.evaluate(Xtest,Ytest)\n",
    "print('Test loss: %.4f' % score[0])\n",
    "print('Test accuracy: %.4f' % score[1])"
   ]
  },
  {
   "cell_type": "code",
   "execution_count": 428,
   "metadata": {},
   "outputs": [
    {
     "data": {
      "image/png": "[encoded data removed]",
      "text/plain": [
       "<Figure size 720x288 with 1 Axes>"
      ]
     },
     "metadata": {
      "needs_background": "light"
     },
     "output_type": "display_data"
    },
    {
     "data": {
      "image/png": "[encoded data removed]",
      "text/plain": [
       "<Figure size 720x288 with 1 Axes>"
      ]
     },
     "metadata": {
      "needs_background": "light"
     },
     "output_type": "display_data"
    }
   ],
   "source": [
    "plot_results(history2)"
   ]
  },
  {
   "cell_type": "markdown",
   "metadata": {},
   "source": [
    "# Part 13: More questions\n",
    "\n",
    "Skip questions 8 and 9 if you run on the CPU (recommended)\n",
    "\n",
    "Question 7: Why do we have to use a batch size? Why can't we simply use all data at once? This is more relevant for even larger datasets.\n",
    "\n",
    "Question 8: How busy is the GPU for a batch size of 100? How much GPU memory is used? Hint: run 'nvidia-smi' on the computer a few times during training.\n",
    "\n",
    "Question 9: What is the processing time for one training epoch when the batch size is 100? What is the processing time for one epoch when the batch size is 1,000? What is the processing time for one epoch when the batch size is 10,000? Explain the results. \n",
    "\n",
    "Question 10: How many times are the weights in the DNN updated in each training epoch if the batch size is 100? How many times are the weights in the DNN updated in each training epoch if the batch size is 1,000? How many times are the weights in the DNN updated in each training epoch if the batch size is 10,000?  \n",
    "\n",
    "Question 11: What limits how large the batch size can be?\n",
    "\n",
    "Question 12: Generally speaking, how is the learning rate related to the batch size? If the batch size is decreased, how should the learning rate be changed?\n",
    "\n",
    "Lets use a batch size of 10,000 from now on, and a learning rate of 0.1."
   ]
  },
  {
   "cell_type": "markdown",
   "metadata": {},
   "source": [
    "Answer 7: Using a batch size can save memory space and make the training faster. For larger datasets, if we use full dataset, the computation of the gradient of parameters will take more time because it will be evaluated for each summand on each sample. If we use batch size, the computation of the gradient will be evaluated on the batches.\n",
    "\n",
    "Answer 10: The weights in the DNN updated n_sample/100, n_sample/1000, n_sample/10000 times respectively.\n",
    "\n",
    "Answer 11: The size of training dataset limits the batch size.\n",
    "\n",
    "Answer 12: The learning rate and the batch size are independent hyperparameters. If the batch size is decreased, we can increase learning rate to make convergence quicker."
   ]
  },
  {
   "cell_type": "markdown",
   "metadata": {},
   "source": [
    "# Part 14: Increasing the complexity\n",
    "\n",
    "Lets try some different configurations of number of layers and number of nodes per layer.\n",
    "\n",
    "Question 13: How many trainable parameters does the network with 4 dense layers with 50 nodes each have, compared to the initial network with 2 layers and 20 nodes per layer? Hint: use model.summary()"
   ]
  },
  {
   "cell_type": "markdown",
   "metadata": {},
   "source": [
    "Answer 13: The network with 4 dense layers with 50 nodes each has 12351 trainable parameters. The network with 2 layers and 20 nodes each has 2301 trainable parameters."
   ]
  },
  {
   "cell_type": "code",
   "execution_count": 429,
   "metadata": {},
   "outputs": [
    {
     "name": "stdout",
     "output_type": "stream",
     "text": [
      "Model: \"sequential_113\"\n",
      "_________________________________________________________________\n",
      "Layer (type)                 Output Shape              Param #   \n",
      "=================================================================\n",
      "dense_327 (Dense)            (None, 20)                1860      \n",
      "_________________________________________________________________\n",
      "dense_328 (Dense)            (None, 20)                420       \n",
      "_________________________________________________________________\n",
      "dense_329 (Dense)            (None, 1)                 21        \n",
      "=================================================================\n",
      "Total params: 2,301\n",
      "Trainable params: 2,301\n",
      "Non-trainable params: 0\n",
      "_________________________________________________________________\n",
      "None\n",
      "Model: \"sequential_114\"\n",
      "_________________________________________________________________\n",
      "Layer (type)                 Output Shape              Param #   \n",
      "=================================================================\n",
      "dense_330 (Dense)            (None, 50)                4650      \n",
      "_________________________________________________________________\n",
      "dense_331 (Dense)            (None, 50)                2550      \n",
      "_________________________________________________________________\n",
      "dense_332 (Dense)            (None, 50)                2550      \n",
      "_________________________________________________________________\n",
      "dense_333 (Dense)            (None, 50)                2550      \n",
      "_________________________________________________________________\n",
      "dense_334 (Dense)            (None, 1)                 51        \n",
      "=================================================================\n",
      "Total params: 12,351\n",
      "Trainable params: 12,351\n",
      "Non-trainable params: 0\n",
      "_________________________________________________________________\n",
      "None\n"
     ]
    }
   ],
   "source": [
    "model3 = build_DNN(input_shape=input_shape,n_layers=4, n_nodes=50, act_fun='sigmoid', optimizer='sgd', learning_rate=0.01, \n",
    "              use_bn=False, use_dropout=False, use_custom_dropout=False)\n",
    "\n",
    "print(model2.summary())\n",
    "print(model3.summary())"
   ]
  },
  {
   "cell_type": "markdown",
   "metadata": {},
   "source": [
    "### 4 layers, 20 nodes, class weights"
   ]
  },
  {
   "cell_type": "code",
   "execution_count": 430,
   "metadata": {
    "scrolled": true
   },
   "outputs": [
    {
     "name": "stdout",
     "output_type": "stream",
     "text": [
      "Train on 133724 samples, validate on 28655 samples\n",
      "Epoch 1/20\n",
      "133724/133724 [==============================] - 1s 5us/step - loss: 0.5383 - accuracy: 0.7380 - val_loss: 0.4466 - val_accuracy: 0.8433\n",
      "Epoch 2/20\n",
      "133724/133724 [==============================] - 0s 3us/step - loss: 0.4442 - accuracy: 0.8401 - val_loss: 0.4336 - val_accuracy: 0.8433\n",
      "Epoch 3/20\n",
      "133724/133724 [==============================] - 0s 3us/step - loss: 0.4395 - accuracy: 0.8401 - val_loss: 0.4336 - val_accuracy: 0.8433\n",
      "Epoch 4/20\n",
      "133724/133724 [==============================] - 0s 3us/step - loss: 0.4388 - accuracy: 0.8401 - val_loss: 0.4332 - val_accuracy: 0.8433\n",
      "Epoch 5/20\n",
      "133724/133724 [==============================] - 0s 3us/step - loss: 0.4386 - accuracy: 0.8401 - val_loss: 0.4330 - val_accuracy: 0.8433\n",
      "Epoch 6/20\n",
      "133724/133724 [==============================] - 0s 3us/step - loss: 0.4382 - accuracy: 0.8401 - val_loss: 0.4325 - val_accuracy: 0.8433\n",
      "Epoch 7/20\n",
      "133724/133724 [==============================] - 0s 3us/step - loss: 0.4378 - accuracy: 0.8401 - val_loss: 0.4323 - val_accuracy: 0.8433\n",
      "Epoch 8/20\n",
      "133724/133724 [==============================] - 0s 3us/step - loss: 0.4373 - accuracy: 0.8401 - val_loss: 0.4314 - val_accuracy: 0.8433\n",
      "Epoch 9/20\n",
      "133724/133724 [==============================] - 0s 3us/step - loss: 0.4364 - accuracy: 0.8401 - val_loss: 0.4306 - val_accuracy: 0.8433\n",
      "Epoch 10/20\n",
      "133724/133724 [==============================] - 0s 3us/step - loss: 0.4353 - accuracy: 0.8401 - val_loss: 0.4291 - val_accuracy: 0.8433\n",
      "Epoch 11/20\n",
      "133724/133724 [==============================] - 0s 3us/step - loss: 0.4337 - accuracy: 0.8401 - val_loss: 0.4272 - val_accuracy: 0.8433\n",
      "Epoch 12/20\n",
      "133724/133724 [==============================] - 0s 3us/step - loss: 0.4313 - accuracy: 0.8401 - val_loss: 0.4242 - val_accuracy: 0.8433\n",
      "Epoch 13/20\n",
      "133724/133724 [==============================] - 0s 3us/step - loss: 0.4276 - accuracy: 0.8401 - val_loss: 0.4194 - val_accuracy: 0.8433\n",
      "Epoch 14/20\n",
      "133724/133724 [==============================] - 0s 3us/step - loss: 0.4212 - accuracy: 0.8401 - val_loss: 0.4109 - val_accuracy: 0.8433\n",
      "Epoch 15/20\n",
      "133724/133724 [==============================] - 0s 3us/step - loss: 0.4098 - accuracy: 0.8401 - val_loss: 0.3949 - val_accuracy: 0.8433\n",
      "Epoch 16/20\n",
      "133724/133724 [==============================] - 0s 3us/step - loss: 0.3878 - accuracy: 0.8401 - val_loss: 0.3634 - val_accuracy: 0.8433\n",
      "Epoch 17/20\n",
      "133724/133724 [==============================] - 0s 3us/step - loss: 0.3447 - accuracy: 0.8401 - val_loss: 0.3051 - val_accuracy: 0.8433\n",
      "Epoch 18/20\n",
      "133724/133724 [==============================] - 0s 3us/step - loss: 0.2762 - accuracy: 0.8401 - val_loss: 0.2350 - val_accuracy: 0.8433\n",
      "Epoch 19/20\n",
      "133724/133724 [==============================] - 0s 3us/step - loss: 0.2184 - accuracy: 0.8772 - val_loss: 0.1990 - val_accuracy: 0.9014\n",
      "Epoch 20/20\n",
      "133724/133724 [==============================] - 0s 3us/step - loss: 0.1956 - accuracy: 0.8975 - val_loss: 0.1880 - val_accuracy: 0.8988\n"
     ]
    }
   ],
   "source": [
    "# Setup some training parameters\n",
    "batch_size = 10000\n",
    "epochs = 20\n",
    "input_shape = 92\n",
    "\n",
    "# Build and train model\n",
    "model3 = build_DNN(input_shape=input_shape, n_layers=4, n_nodes=20, act_fun='sigmoid', optimizer='sgd', learning_rate=0.1, \n",
    "              use_bn=False, use_dropout=False, use_custom_dropout=False)\n",
    "\n",
    "history3 = model3.fit(Xtrain,Ytrain, epochs=epochs, batch_size=batch_size, verbose=1, validation_data=(Xval,Yval),class_weight=class_weights)\n"
   ]
  },
  {
   "cell_type": "code",
   "execution_count": 431,
   "metadata": {},
   "outputs": [
    {
     "name": "stdout",
     "output_type": "stream",
     "text": [
      "28656/28656 [==============================] - 0s 16us/step\n",
      "Test loss: 0.1898\n",
      "Test accuracy: 0.8975\n"
     ]
    }
   ],
   "source": [
    "# Evaluate model on test data\n",
    "score = model3.evaluate(Xtest,Ytest)\n",
    "\n",
    "print('Test loss: %.4f' % score[0])\n",
    "print('Test accuracy: %.4f' % score[1])"
   ]
  },
  {
   "cell_type": "code",
   "execution_count": 432,
   "metadata": {},
   "outputs": [
    {
     "data": {
      "image/png": "[encoded data removed]",
      "text/plain": [
       "<Figure size 720x288 with 1 Axes>"
      ]
     },
     "metadata": {
      "needs_background": "light"
     },
     "output_type": "display_data"
    },
    {
     "data": {
      "image/png": "[encoded data removed]",
      "text/plain": [
       "<Figure size 720x288 with 1 Axes>"
      ]
     },
     "metadata": {
      "needs_background": "light"
     },
     "output_type": "display_data"
    }
   ],
   "source": [
    "plot_results(history3)"
   ]
  },
  {
   "cell_type": "markdown",
   "metadata": {},
   "source": [
    "### 2 layers, 50 nodes, class weights"
   ]
  },
  {
   "cell_type": "code",
   "execution_count": 433,
   "metadata": {
    "scrolled": false
   },
   "outputs": [
    {
     "name": "stdout",
     "output_type": "stream",
     "text": [
      "Train on 133724 samples, validate on 28655 samples\n",
      "Epoch 1/20\n",
      "133724/133724 [==============================] - 1s 5us/step - loss: 0.7677 - accuracy: 0.5354 - val_loss: 0.4335 - val_accuracy: 0.8433\n",
      "Epoch 2/20\n",
      "133724/133724 [==============================] - 0s 3us/step - loss: 0.4625 - accuracy: 0.8401 - val_loss: 0.4333 - val_accuracy: 0.8433\n",
      "Epoch 3/20\n",
      "133724/133724 [==============================] - 0s 3us/step - loss: 0.4094 - accuracy: 0.8401 - val_loss: 0.3835 - val_accuracy: 0.8433\n",
      "Epoch 4/20\n",
      "133724/133724 [==============================] - 0s 3us/step - loss: 0.3837 - accuracy: 0.8401 - val_loss: 0.3705 - val_accuracy: 0.8433\n",
      "Epoch 5/20\n",
      "133724/133724 [==============================] - 0s 3us/step - loss: 0.3674 - accuracy: 0.8401 - val_loss: 0.3537 - val_accuracy: 0.8433\n",
      "Epoch 6/20\n",
      "133724/133724 [==============================] - 0s 3us/step - loss: 0.3513 - accuracy: 0.8401 - val_loss: 0.3375 - val_accuracy: 0.8433\n",
      "Epoch 7/20\n",
      "133724/133724 [==============================] - 0s 3us/step - loss: 0.3346 - accuracy: 0.8401 - val_loss: 0.3208 - val_accuracy: 0.8433\n",
      "Epoch 8/20\n",
      "133724/133724 [==============================] - 0s 3us/step - loss: 0.3175 - accuracy: 0.8401 - val_loss: 0.3038 - val_accuracy: 0.8433\n",
      "Epoch 9/20\n",
      "133724/133724 [==============================] - 0s 3us/step - loss: 0.3004 - accuracy: 0.8401 - val_loss: 0.2872 - val_accuracy: 0.8434\n",
      "Epoch 10/20\n",
      "133724/133724 [==============================] - 0s 3us/step - loss: 0.2841 - accuracy: 0.8419 - val_loss: 0.2716 - val_accuracy: 0.8479\n",
      "Epoch 11/20\n",
      "133724/133724 [==============================] - 0s 3us/step - loss: 0.2690 - accuracy: 0.8492 - val_loss: 0.2577 - val_accuracy: 0.8545\n",
      "Epoch 12/20\n",
      "133724/133724 [==============================] - 0s 3us/step - loss: 0.2557 - accuracy: 0.8525 - val_loss: 0.2455 - val_accuracy: 0.8567\n",
      "Epoch 13/20\n",
      "133724/133724 [==============================] - 0s 3us/step - loss: 0.2442 - accuracy: 0.8544 - val_loss: 0.2352 - val_accuracy: 0.8579\n",
      "Epoch 14/20\n",
      "133724/133724 [==============================] - 0s 3us/step - loss: 0.2347 - accuracy: 0.8588 - val_loss: 0.2268 - val_accuracy: 0.8686\n",
      "Epoch 15/20\n",
      "133724/133724 [==============================] - 0s 3us/step - loss: 0.2269 - accuracy: 0.8688 - val_loss: 0.2200 - val_accuracy: 0.8745\n",
      "Epoch 16/20\n",
      "133724/133724 [==============================] - 0s 3us/step - loss: 0.2206 - accuracy: 0.8742 - val_loss: 0.2144 - val_accuracy: 0.8806\n",
      "Epoch 17/20\n",
      "133724/133724 [==============================] - 0s 3us/step - loss: 0.2154 - accuracy: 0.8824 - val_loss: 0.2099 - val_accuracy: 0.8892\n",
      "Epoch 18/20\n",
      "133724/133724 [==============================] - 0s 3us/step - loss: 0.2113 - accuracy: 0.8894 - val_loss: 0.2063 - val_accuracy: 0.8944\n",
      "Epoch 19/20\n",
      "133724/133724 [==============================] - 0s 3us/step - loss: 0.2078 - accuracy: 0.8926 - val_loss: 0.2032 - val_accuracy: 0.8973\n",
      "Epoch 20/20\n",
      "133724/133724 [==============================] - 0s 3us/step - loss: 0.2050 - accuracy: 0.8957 - val_loss: 0.2007 - val_accuracy: 0.8981\n"
     ]
    }
   ],
   "source": [
    "# Setup some training parameters\n",
    "batch_size = 10000\n",
    "epochs = 20\n",
    "input_shape = 92\n",
    "\n",
    "\n",
    "# Build and train model\n",
    "model4 = build_DNN(input_shape=input_shape, n_layers=2, n_nodes=50, act_fun='sigmoid', optimizer='sgd', learning_rate=0.01, \n",
    "              use_bn=False, use_dropout=False, use_custom_dropout=False)\n",
    "\n",
    "history4 = model4.fit(Xtrain,Ytrain, epochs=epochs, batch_size=batch_size, verbose=1, validation_data=(Xval,Yval),class_weight=class_weights)\n",
    "\n",
    "\n"
   ]
  },
  {
   "cell_type": "code",
   "execution_count": 434,
   "metadata": {},
   "outputs": [
    {
     "name": "stdout",
     "output_type": "stream",
     "text": [
      "28656/28656 [==============================] - 1s 29us/step\n",
      "Test loss: 0.2010\n",
      "Test accuracy: 0.8965\n"
     ]
    }
   ],
   "source": [
    "# Evaluate model on test data\n",
    "score = model4.evaluate(Xtest,Ytest)\n",
    "\n",
    "print('Test loss: %.4f' % score[0])\n",
    "print('Test accuracy: %.4f' % score[1])"
   ]
  },
  {
   "cell_type": "code",
   "execution_count": 435,
   "metadata": {},
   "outputs": [
    {
     "data": {
      "image/png": "[encoded data removed]",
      "text/plain": [
       "<Figure size 720x288 with 1 Axes>"
      ]
     },
     "metadata": {
      "needs_background": "light"
     },
     "output_type": "display_data"
    },
    {
     "data": {
      "image/png": "[encoded data removed]",
      "text/plain": [
       "<Figure size 720x288 with 1 Axes>"
      ]
     },
     "metadata": {
      "needs_background": "light"
     },
     "output_type": "display_data"
    }
   ],
   "source": [
    "plot_results(history4)"
   ]
  },
  {
   "cell_type": "markdown",
   "metadata": {},
   "source": [
    "### 4 layers, 50 nodes, class weights"
   ]
  },
  {
   "cell_type": "code",
   "execution_count": 436,
   "metadata": {
    "scrolled": true
   },
   "outputs": [
    {
     "name": "stdout",
     "output_type": "stream",
     "text": [
      "Train on 133724 samples, validate on 28655 samples\n",
      "Epoch 1/20\n",
      "133724/133724 [==============================] - 0s 3us/step - loss: 0.2026 - accuracy: 0.8967 - val_loss: 0.1985 - val_accuracy: 0.8995\n",
      "Epoch 2/20\n",
      "133724/133724 [==============================] - 0s 3us/step - loss: 0.2005 - accuracy: 0.8976 - val_loss: 0.1966 - val_accuracy: 0.9004\n",
      "Epoch 3/20\n",
      "133724/133724 [==============================] - 0s 3us/step - loss: 0.1987 - accuracy: 0.8984 - val_loss: 0.1950 - val_accuracy: 0.9013\n",
      "Epoch 4/20\n",
      "133724/133724 [==============================] - 0s 3us/step - loss: 0.1971 - accuracy: 0.8997 - val_loss: 0.1936 - val_accuracy: 0.9030\n",
      "Epoch 5/20\n",
      "133724/133724 [==============================] - 0s 3us/step - loss: 0.1957 - accuracy: 0.9016 - val_loss: 0.1923 - val_accuracy: 0.9041\n",
      "Epoch 6/20\n",
      "133724/133724 [==============================] - 0s 3us/step - loss: 0.1945 - accuracy: 0.9027 - val_loss: 0.1911 - val_accuracy: 0.9051\n",
      "Epoch 7/20\n",
      "133724/133724 [==============================] - 0s 3us/step - loss: 0.1933 - accuracy: 0.9032 - val_loss: 0.1901 - val_accuracy: 0.9060\n",
      "Epoch 8/20\n",
      "133724/133724 [==============================] - 0s 3us/step - loss: 0.1923 - accuracy: 0.9043 - val_loss: 0.1891 - val_accuracy: 0.9068\n",
      "Epoch 9/20\n",
      "133724/133724 [==============================] - 0s 3us/step - loss: 0.1913 - accuracy: 0.9046 - val_loss: 0.1882 - val_accuracy: 0.9069\n",
      "Epoch 10/20\n",
      "133724/133724 [==============================] - 0s 3us/step - loss: 0.1904 - accuracy: 0.9047 - val_loss: 0.1874 - val_accuracy: 0.9069\n",
      "Epoch 11/20\n",
      "133724/133724 [==============================] - 0s 3us/step - loss: 0.1896 - accuracy: 0.9049 - val_loss: 0.1866 - val_accuracy: 0.9068\n",
      "Epoch 12/20\n",
      "133724/133724 [==============================] - 0s 3us/step - loss: 0.1888 - accuracy: 0.9049 - val_loss: 0.1859 - val_accuracy: 0.9068\n",
      "Epoch 13/20\n",
      "133724/133724 [==============================] - 0s 3us/step - loss: 0.1880 - accuracy: 0.9048 - val_loss: 0.1852 - val_accuracy: 0.9070\n",
      "Epoch 14/20\n",
      "133724/133724 [==============================] - 0s 3us/step - loss: 0.1873 - accuracy: 0.9049 - val_loss: 0.1845 - val_accuracy: 0.9069\n",
      "Epoch 15/20\n",
      "133724/133724 [==============================] - 0s 3us/step - loss: 0.1866 - accuracy: 0.9049 - val_loss: 0.1839 - val_accuracy: 0.9069\n",
      "Epoch 16/20\n",
      "133724/133724 [==============================] - 0s 3us/step - loss: 0.1860 - accuracy: 0.9050 - val_loss: 0.1833 - val_accuracy: 0.9069\n",
      "Epoch 17/20\n",
      "133724/133724 [==============================] - 0s 3us/step - loss: 0.1854 - accuracy: 0.9051 - val_loss: 0.1827 - val_accuracy: 0.9069\n",
      "Epoch 18/20\n",
      "133724/133724 [==============================] - 0s 3us/step - loss: 0.1848 - accuracy: 0.9052 - val_loss: 0.1822 - val_accuracy: 0.9070\n",
      "Epoch 19/20\n",
      "133724/133724 [==============================] - 0s 3us/step - loss: 0.1842 - accuracy: 0.9051 - val_loss: 0.1817 - val_accuracy: 0.9070\n",
      "Epoch 20/20\n",
      "133724/133724 [==============================] - 0s 3us/step - loss: 0.1837 - accuracy: 0.9051 - val_loss: 0.1812 - val_accuracy: 0.9070\n"
     ]
    }
   ],
   "source": [
    "# Setup some training parameters\n",
    "batch_size = 10000\n",
    "epochs = 20\n",
    "input_shape = 92\n",
    "\n",
    "# Build and train model\n",
    "model5 = build_DNN(input_shape=input_shape, n_layers=4, n_nodes=50, act_fun='sigmoid', optimizer='sgd', learning_rate=0.01, \n",
    "              use_bn=False, use_dropout=False, use_custom_dropout=False)\n",
    "\n",
    "history5 = model4.fit(Xtrain, Ytrain, epochs=epochs, batch_size=batch_size, verbose=1, validation_data=(Xval,Yval), class_weight=class_weights)\n",
    "\n"
   ]
  },
  {
   "cell_type": "code",
   "execution_count": 437,
   "metadata": {},
   "outputs": [
    {
     "name": "stdout",
     "output_type": "stream",
     "text": [
      "28656/28656 [==============================] - 2s 56us/step\n",
      "Test loss: 0.8746\n",
      "Test accuracy: 0.1581\n"
     ]
    }
   ],
   "source": [
    "# Evaluate model on test data\n",
    "score = model5.evaluate(Xtest,Ytest)\n",
    "\n",
    "print('Test loss: %.4f' % score[0])\n",
    "print('Test accuracy: %.4f' % score[1])"
   ]
  },
  {
   "cell_type": "code",
   "execution_count": 438,
   "metadata": {},
   "outputs": [
    {
     "data": {
      "image/png": "[encoded data removed]",
      "text/plain": [
       "<Figure size 720x288 with 1 Axes>"
      ]
     },
     "metadata": {
      "needs_background": "light"
     },
     "output_type": "display_data"
    },
    {
     "data": {
      "image/png": "[encoded data removed]",
      "text/plain": [
       "<Figure size 720x288 with 1 Axes>"
      ]
     },
     "metadata": {
      "needs_background": "light"
     },
     "output_type": "display_data"
    }
   ],
   "source": [
    "plot_results(history5)"
   ]
  },
  {
   "cell_type": "markdown",
   "metadata": {},
   "source": [
    "# Part 15: Batch normalization\n",
    "\n",
    "Now add batch normalization after each dense layer in `build_DNN`. Remember to import BatchNormalization from keras.layers. \n",
    "\n",
    "See https://keras.io/layers/normalization/ for information about how to call the function.\n",
    "\n",
    "Question 14: Why is batch normalization important when training deep networks?"
   ]
  },
  {
   "cell_type": "markdown",
   "metadata": {},
   "source": [
    "Answer 14:Because by normalizing the outputs after each layer, batch normalization makes optimization of weight matrix in the after layer easier and therefore reduces the training time."
   ]
  },
  {
   "cell_type": "markdown",
   "metadata": {},
   "source": [
    "### 2 layers, 20 nodes, class weights, batch normalization"
   ]
  },
  {
   "cell_type": "code",
   "execution_count": 447,
   "metadata": {
    "scrolled": true
   },
   "outputs": [
    {
     "name": "stdout",
     "output_type": "stream",
     "text": [
      "Train on 133724 samples, validate on 28655 samples\n",
      "Epoch 1/20\n",
      "133724/133724 [==============================] - 1s 8us/step - loss: 0.5353 - accuracy: 0.8268 - val_loss: 0.8822 - val_accuracy: 0.1567\n",
      "Epoch 2/20\n",
      "133724/133724 [==============================] - 0s 3us/step - loss: 0.3201 - accuracy: 0.8939 - val_loss: 0.5805 - val_accuracy: 0.8444\n",
      "Epoch 3/20\n",
      "133724/133724 [==============================] - 0s 3us/step - loss: 0.2362 - accuracy: 0.9032 - val_loss: 0.4472 - val_accuracy: 0.8433\n",
      "Epoch 4/20\n",
      "133724/133724 [==============================] - 0s 3us/step - loss: 0.2069 - accuracy: 0.9064 - val_loss: 0.4053 - val_accuracy: 0.8433\n",
      "Epoch 5/20\n",
      "133724/133724 [==============================] - 0s 3us/step - loss: 0.1945 - accuracy: 0.9071 - val_loss: 0.3899 - val_accuracy: 0.8433\n",
      "Epoch 6/20\n",
      "133724/133724 [==============================] - 0s 3us/step - loss: 0.1877 - accuracy: 0.9081 - val_loss: 0.3854 - val_accuracy: 0.8433\n",
      "Epoch 7/20\n",
      "133724/133724 [==============================] - 0s 3us/step - loss: 0.1833 - accuracy: 0.9091 - val_loss: 0.3855 - val_accuracy: 0.8433\n",
      "Epoch 8/20\n",
      "133724/133724 [==============================] - 0s 3us/step - loss: 0.1800 - accuracy: 0.9100 - val_loss: 0.3881 - val_accuracy: 0.8433\n",
      "Epoch 9/20\n",
      "133724/133724 [==============================] - 0s 3us/step - loss: 0.1776 - accuracy: 0.9102 - val_loss: 0.3913 - val_accuracy: 0.8433\n",
      "Epoch 10/20\n",
      "133724/133724 [==============================] - 0s 3us/step - loss: 0.1757 - accuracy: 0.9106 - val_loss: 0.3955 - val_accuracy: 0.8433\n",
      "Epoch 11/20\n",
      "133724/133724 [==============================] - 0s 3us/step - loss: 0.1740 - accuracy: 0.9106 - val_loss: 0.3986 - val_accuracy: 0.8433\n",
      "Epoch 12/20\n",
      "133724/133724 [==============================] - 0s 3us/step - loss: 0.1727 - accuracy: 0.9112 - val_loss: 0.4021 - val_accuracy: 0.8433\n",
      "Epoch 13/20\n",
      "133724/133724 [==============================] - 0s 3us/step - loss: 0.1715 - accuracy: 0.9113 - val_loss: 0.4043 - val_accuracy: 0.8433\n",
      "Epoch 14/20\n",
      "133724/133724 [==============================] - 0s 3us/step - loss: 0.1705 - accuracy: 0.9112 - val_loss: 0.4070 - val_accuracy: 0.8433\n",
      "Epoch 15/20\n",
      "133724/133724 [==============================] - 0s 3us/step - loss: 0.1695 - accuracy: 0.9117 - val_loss: 0.4080 - val_accuracy: 0.8433\n",
      "Epoch 16/20\n",
      "133724/133724 [==============================] - 0s 4us/step - loss: 0.1687 - accuracy: 0.9120 - val_loss: 0.4086 - val_accuracy: 0.8433\n",
      "Epoch 17/20\n",
      "133724/133724 [==============================] - 0s 3us/step - loss: 0.1680 - accuracy: 0.9122 - val_loss: 0.4075 - val_accuracy: 0.8433\n",
      "Epoch 18/20\n",
      "133724/133724 [==============================] - 0s 3us/step - loss: 0.1674 - accuracy: 0.9125 - val_loss: 0.4065 - val_accuracy: 0.8433\n",
      "Epoch 19/20\n",
      "133724/133724 [==============================] - 0s 3us/step - loss: 0.1668 - accuracy: 0.9125 - val_loss: 0.4035 - val_accuracy: 0.8433\n",
      "Epoch 20/20\n",
      "133724/133724 [==============================] - 0s 3us/step - loss: 0.1661 - accuracy: 0.9127 - val_loss: 0.4001 - val_accuracy: 0.8433\n"
     ]
    }
   ],
   "source": [
    "# Setup some training parameters\n",
    "batch_size = 10000\n",
    "epochs = 20\n",
    "input_shape = 92\n",
    "\n",
    "# Build and train model\n",
    "model6 =  build_DNN(input_shape=input_shape, n_layers=2, n_nodes=20, act_fun='sigmoid', optimizer='sgd', learning_rate=0.01, \n",
    "              use_bn=True, use_dropout=False, use_custom_dropout=False)\n",
    "\n",
    "history6 = model6.fit(Xtrain, Ytrain, epochs=epochs, batch_size=batch_size, verbose=1, validation_data=(Xval,Yval), class_weight=class_weights)\n",
    "\n"
   ]
  },
  {
   "cell_type": "code",
   "execution_count": 448,
   "metadata": {},
   "outputs": [
    {
     "name": "stdout",
     "output_type": "stream",
     "text": [
      "28656/28656 [==============================] - 0s 17us/step\n",
      "Test loss: 0.4034\n",
      "Test accuracy: 0.8419\n"
     ]
    }
   ],
   "source": [
    "# Evaluate model on test data\n",
    "score = model6.evaluate(Xtest,Ytest)\n",
    "\n",
    "print('Test loss: %.4f' % score[0])\n",
    "print('Test accuracy: %.4f' % score[1])"
   ]
  },
  {
   "cell_type": "code",
   "execution_count": 449,
   "metadata": {},
   "outputs": [
    {
     "data": {
      "image/png": "[encoded data removed]",
      "text/plain": [
       "<Figure size 720x288 with 1 Axes>"
      ]
     },
     "metadata": {
      "needs_background": "light"
     },
     "output_type": "display_data"
    },
    {
     "data": {
      "image/png": "[encoded data removed]",
      "text/plain": [
       "<Figure size 720x288 with 1 Axes>"
      ]
     },
     "metadata": {
      "needs_background": "light"
     },
     "output_type": "display_data"
    }
   ],
   "source": [
    "plot_results(history6)"
   ]
  },
  {
   "cell_type": "markdown",
   "metadata": {},
   "source": [
    "# Part 16: Activation function\n",
    "\n",
    "Try changing the activation function in each layer from sigmoid to ReLU, write down the test accuracy.\n",
    "\n",
    "Note: the last layer should still have a sigmoid activation function.\n",
    "\n",
    "https://keras.io/api/layers/activations/"
   ]
  },
  {
   "cell_type": "markdown",
   "metadata": {},
   "source": [
    "### 2 layers, 20 nodes, class weights, ReLU, no batch normalization"
   ]
  },
  {
   "cell_type": "code",
   "execution_count": 450,
   "metadata": {
    "scrolled": true
   },
   "outputs": [
    {
     "name": "stdout",
     "output_type": "stream",
     "text": [
      "Train on 133724 samples, validate on 28655 samples\n",
      "Epoch 1/20\n",
      "133724/133724 [==============================] - 0s 4us/step - loss: 0.5281 - accuracy: 0.8441 - val_loss: 0.3593 - val_accuracy: 0.8484\n",
      "Epoch 2/20\n",
      "133724/133724 [==============================] - 0s 2us/step - loss: 0.2848 - accuracy: 0.8527 - val_loss: 0.2282 - val_accuracy: 0.8588\n",
      "Epoch 3/20\n",
      "133724/133724 [==============================] - 0s 2us/step - loss: 0.2157 - accuracy: 0.8682 - val_loss: 0.2028 - val_accuracy: 0.8890\n",
      "Epoch 4/20\n",
      "133724/133724 [==============================] - 0s 2us/step - loss: 0.1989 - accuracy: 0.8940 - val_loss: 0.1937 - val_accuracy: 0.8959\n",
      "Epoch 5/20\n",
      "133724/133724 [==============================] - 0s 2us/step - loss: 0.1919 - accuracy: 0.8998 - val_loss: 0.1891 - val_accuracy: 0.9009\n",
      "Epoch 6/20\n",
      "133724/133724 [==============================] - 0s 2us/step - loss: 0.1879 - accuracy: 0.9028 - val_loss: 0.1859 - val_accuracy: 0.9025\n",
      "Epoch 7/20\n",
      "133724/133724 [==============================] - 0s 2us/step - loss: 0.1849 - accuracy: 0.9045 - val_loss: 0.1833 - val_accuracy: 0.9033\n",
      "Epoch 8/20\n",
      "133724/133724 [==============================] - 0s 2us/step - loss: 0.1826 - accuracy: 0.9052 - val_loss: 0.1810 - val_accuracy: 0.9039\n",
      "Epoch 9/20\n",
      "133724/133724 [==============================] - 0s 2us/step - loss: 0.1805 - accuracy: 0.9062 - val_loss: 0.1790 - val_accuracy: 0.9050\n",
      "Epoch 10/20\n",
      "133724/133724 [==============================] - 0s 2us/step - loss: 0.1786 - accuracy: 0.9069 - val_loss: 0.1773 - val_accuracy: 0.9063\n",
      "Epoch 11/20\n",
      "133724/133724 [==============================] - 0s 2us/step - loss: 0.1770 - accuracy: 0.9078 - val_loss: 0.1757 - val_accuracy: 0.9072\n",
      "Epoch 12/20\n",
      "133724/133724 [==============================] - 0s 2us/step - loss: 0.1756 - accuracy: 0.9086 - val_loss: 0.1743 - val_accuracy: 0.9079\n",
      "Epoch 13/20\n",
      "133724/133724 [==============================] - 0s 2us/step - loss: 0.1744 - accuracy: 0.9096 - val_loss: 0.1730 - val_accuracy: 0.9081\n",
      "Epoch 14/20\n",
      "133724/133724 [==============================] - 0s 2us/step - loss: 0.1732 - accuracy: 0.9102 - val_loss: 0.1719 - val_accuracy: 0.9092\n",
      "Epoch 15/20\n",
      "133724/133724 [==============================] - 0s 2us/step - loss: 0.1721 - accuracy: 0.9110 - val_loss: 0.1708 - val_accuracy: 0.9104\n",
      "Epoch 16/20\n",
      "133724/133724 [==============================] - 0s 2us/step - loss: 0.1711 - accuracy: 0.9115 - val_loss: 0.1698 - val_accuracy: 0.9110\n",
      "Epoch 17/20\n",
      "133724/133724 [==============================] - 0s 2us/step - loss: 0.1702 - accuracy: 0.9119 - val_loss: 0.1689 - val_accuracy: 0.9110\n",
      "Epoch 18/20\n",
      "133724/133724 [==============================] - 0s 2us/step - loss: 0.1693 - accuracy: 0.9122 - val_loss: 0.1680 - val_accuracy: 0.9109\n",
      "Epoch 19/20\n",
      "133724/133724 [==============================] - 0s 2us/step - loss: 0.1685 - accuracy: 0.9123 - val_loss: 0.1672 - val_accuracy: 0.9112\n",
      "Epoch 20/20\n",
      "133724/133724 [==============================] - 0s 2us/step - loss: 0.1677 - accuracy: 0.9124 - val_loss: 0.1665 - val_accuracy: 0.9115\n"
     ]
    }
   ],
   "source": [
    "# Setup some training parameters\n",
    "batch_size = 10000\n",
    "epochs = 20\n",
    "input_shape = 92\n",
    "\n",
    "# Build and train model\n",
    "model7 = build_DNN(input_shape=input_shape, n_layers=2, n_nodes=20, act_fun='relu', optimizer='sgd', learning_rate=0.01, \n",
    "              use_bn=False, use_dropout=False, use_custom_dropout=False)\n",
    "\n",
    "history7 = model7.fit(Xtrain,Ytrain, epochs=epochs, batch_size=batch_size, verbose=1, validation_data=(Xval,Yval),class_weight=class_weights)\n",
    "\n"
   ]
  },
  {
   "cell_type": "code",
   "execution_count": 451,
   "metadata": {},
   "outputs": [
    {
     "name": "stdout",
     "output_type": "stream",
     "text": [
      "28656/28656 [==============================] - 0s 13us/step\n",
      "Test loss: 0.1677\n",
      "Test accuracy: 0.9120\n"
     ]
    }
   ],
   "source": [
    "# Evaluate model on test data\n",
    "score = model7.evaluate(Xtest,Ytest)\n",
    "\n",
    "print('Test loss: %.4f' % score[0])\n",
    "print('Test accuracy: %.4f' % score[1])"
   ]
  },
  {
   "cell_type": "code",
   "execution_count": 452,
   "metadata": {},
   "outputs": [
    {
     "data": {
      "image/png": "[encoded data removed]",
      "text/plain": [
       "<Figure size 720x288 with 1 Axes>"
      ]
     },
     "metadata": {
      "needs_background": "light"
     },
     "output_type": "display_data"
    },
    {
     "data": {
      "image/png": "[encoded data removed]",
      "text/plain": [
       "<Figure size 720x288 with 1 Axes>"
      ]
     },
     "metadata": {
      "needs_background": "light"
     },
     "output_type": "display_data"
    }
   ],
   "source": [
    "plot_results(history7)"
   ]
  },
  {
   "cell_type": "markdown",
   "metadata": {},
   "source": [
    "# Part 17: Optimizer\n",
    "\n",
    "Try changing the optimizer from SGD to Adam (with learning rate 0.1 as before). Remember to import the Adam optimizer from keras.optimizers. \n",
    "\n",
    "https://keras.io/optimizers/\n"
   ]
  },
  {
   "cell_type": "markdown",
   "metadata": {},
   "source": [
    "### 2 layers, 20 nodes, class weights, Adam optimizer, no batch normalization, sigmoid activations"
   ]
  },
  {
   "cell_type": "code",
   "execution_count": 453,
   "metadata": {
    "scrolled": true
   },
   "outputs": [
    {
     "name": "stdout",
     "output_type": "stream",
     "text": [
      "Train on 133724 samples, validate on 28655 samples\n",
      "Epoch 1/20\n",
      "133724/133724 [==============================] - 1s 4us/step - loss: 0.2879 - accuracy: 0.8682 - val_loss: 0.1817 - val_accuracy: 0.9010\n",
      "Epoch 2/20\n",
      "133724/133724 [==============================] - 0s 2us/step - loss: 0.1744 - accuracy: 0.9043 - val_loss: 0.1636 - val_accuracy: 0.9111\n",
      "Epoch 3/20\n",
      "133724/133724 [==============================] - 0s 2us/step - loss: 0.1622 - accuracy: 0.9136 - val_loss: 0.1587 - val_accuracy: 0.9144\n",
      "Epoch 4/20\n",
      "133724/133724 [==============================] - 0s 2us/step - loss: 0.1587 - accuracy: 0.9159 - val_loss: 0.1566 - val_accuracy: 0.9161\n",
      "Epoch 5/20\n",
      "133724/133724 [==============================] - 0s 2us/step - loss: 0.1569 - accuracy: 0.9170 - val_loss: 0.1552 - val_accuracy: 0.9178\n",
      "Epoch 6/20\n",
      "133724/133724 [==============================] - 0s 2us/step - loss: 0.1554 - accuracy: 0.9183 - val_loss: 0.1539 - val_accuracy: 0.9180\n",
      "Epoch 7/20\n",
      "133724/133724 [==============================] - 0s 2us/step - loss: 0.1540 - accuracy: 0.9188 - val_loss: 0.1531 - val_accuracy: 0.9169\n",
      "Epoch 8/20\n",
      "133724/133724 [==============================] - 0s 2us/step - loss: 0.1523 - accuracy: 0.9188 - val_loss: 0.1503 - val_accuracy: 0.9185\n",
      "Epoch 9/20\n",
      "133724/133724 [==============================] - 0s 2us/step - loss: 0.1512 - accuracy: 0.9191 - val_loss: 0.1499 - val_accuracy: 0.9187\n",
      "Epoch 10/20\n",
      "133724/133724 [==============================] - 0s 2us/step - loss: 0.1493 - accuracy: 0.9199 - val_loss: 0.1475 - val_accuracy: 0.9188\n",
      "Epoch 11/20\n",
      "133724/133724 [==============================] - 0s 2us/step - loss: 0.1476 - accuracy: 0.9203 - val_loss: 0.1481 - val_accuracy: 0.9191\n",
      "Epoch 12/20\n",
      "133724/133724 [==============================] - 0s 2us/step - loss: 0.1479 - accuracy: 0.9200 - val_loss: 0.1452 - val_accuracy: 0.9199\n",
      "Epoch 13/20\n",
      "133724/133724 [==============================] - 0s 2us/step - loss: 0.1457 - accuracy: 0.9220 - val_loss: 0.1450 - val_accuracy: 0.9218\n",
      "Epoch 14/20\n",
      "133724/133724 [==============================] - 0s 2us/step - loss: 0.1449 - accuracy: 0.9214 - val_loss: 0.1446 - val_accuracy: 0.9189\n",
      "Epoch 15/20\n",
      "133724/133724 [==============================] - 0s 2us/step - loss: 0.1444 - accuracy: 0.9225 - val_loss: 0.1432 - val_accuracy: 0.9229\n",
      "Epoch 16/20\n",
      "133724/133724 [==============================] - 0s 2us/step - loss: 0.1433 - accuracy: 0.9228 - val_loss: 0.1417 - val_accuracy: 0.9228\n",
      "Epoch 17/20\n",
      "133724/133724 [==============================] - 0s 2us/step - loss: 0.1411 - accuracy: 0.9237 - val_loss: 0.1403 - val_accuracy: 0.9231\n",
      "Epoch 18/20\n",
      "133724/133724 [==============================] - 0s 2us/step - loss: 0.1400 - accuracy: 0.9242 - val_loss: 0.1434 - val_accuracy: 0.9217\n",
      "Epoch 19/20\n",
      "133724/133724 [==============================] - 0s 2us/step - loss: 0.1394 - accuracy: 0.9249 - val_loss: 0.1371 - val_accuracy: 0.9262\n",
      "Epoch 20/20\n",
      "133724/133724 [==============================] - 0s 2us/step - loss: 0.1378 - accuracy: 0.9255 - val_loss: 0.1364 - val_accuracy: 0.9254\n"
     ]
    }
   ],
   "source": [
    "# Setup some training parameters\n",
    "batch_size = 10000\n",
    "epochs = 20\n",
    "input_shape = 92\n",
    "\n",
    "\n",
    "# Build and train model\n",
    "model8 = build_DNN(input_shape=input_shape, n_layers=2, n_nodes=20, act_fun='sigmoid', optimizer='Adam', learning_rate=0.1, \n",
    "              use_bn=False, use_dropout=False, use_custom_dropout=False)\n",
    "\n",
    "history8 = model8.fit(Xtrain,Ytrain, epochs=epochs, batch_size=batch_size, verbose=1, validation_data=(Xval,Yval),class_weight=class_weights)\n",
    "\n"
   ]
  },
  {
   "cell_type": "code",
   "execution_count": 454,
   "metadata": {},
   "outputs": [
    {
     "name": "stdout",
     "output_type": "stream",
     "text": [
      "28656/28656 [==============================] - 0s 14us/step\n",
      "Test loss: 0.1371\n",
      "Test accuracy: 0.9233\n"
     ]
    }
   ],
   "source": [
    "# Evaluate model on test data\n",
    "score = model8.evaluate(Xtest,Ytest)\n",
    "\n",
    "print('Test loss: %.4f' % score[0])\n",
    "print('Test accuracy: %.4f' % score[1])"
   ]
  },
  {
   "cell_type": "code",
   "execution_count": 455,
   "metadata": {},
   "outputs": [
    {
     "data": {
      "image/png": "[encoded data removed]",
      "text/plain": [
       "<Figure size 720x288 with 1 Axes>"
      ]
     },
     "metadata": {
      "needs_background": "light"
     },
     "output_type": "display_data"
    },
    {
     "data": {
      "image/png": "[encoded data removed]",
      "text/plain": [
       "<Figure size 720x288 with 1 Axes>"
      ]
     },
     "metadata": {
      "needs_background": "light"
     },
     "output_type": "display_data"
    }
   ],
   "source": [
    "plot_results(history8)"
   ]
  },
  {
   "cell_type": "markdown",
   "metadata": {},
   "source": [
    "# Part 18: Dropout regularization\n",
    "\n",
    "Dropout is a type of regularization that can improve accuracy for validation and test data. \n",
    "\n",
    "Add a Dropout layer after each Dense layer (but not after the final dense layer) in `build_DNN`, with a dropout probability of 50%. Remember to first import the Dropout layer from keras.layers\n",
    "\n",
    "See https://keras.io/api/layers/regularization_layers/dropout/ for how the Dropout layer works.\n",
    "\n",
    "---\n",
    "\n",
    "Question 15: How does the validation accuracy change when adding dropout?\n",
    "\n",
    "Question 16: How does the test accuracy change when adding dropout?"
   ]
  },
  {
   "cell_type": "markdown",
   "metadata": {},
   "source": [
    "Answer 15: The validation accuracy decreased compared to the output of network without adding dropout.\n",
    "\n",
    "Answer 16: The test accuracy increased."
   ]
  },
  {
   "cell_type": "markdown",
   "metadata": {},
   "source": [
    "### 2 layers, 20 nodes, class weights, dropout, SGD optimizer, no batch normalization, sigmoid activations"
   ]
  },
  {
   "cell_type": "code",
   "execution_count": 457,
   "metadata": {
    "scrolled": true
   },
   "outputs": [
    {
     "name": "stdout",
     "output_type": "stream",
     "text": [
      "Train on 133724 samples, validate on 28655 samples\n",
      "Epoch 1/20\n",
      "133724/133724 [==============================] - 1s 5us/step - loss: 0.5069 - accuracy: 0.7885 - val_loss: 0.4140 - val_accuracy: 0.8433\n",
      "Epoch 2/20\n",
      "133724/133724 [==============================] - 0s 3us/step - loss: 0.3898 - accuracy: 0.8401 - val_loss: 0.3252 - val_accuracy: 0.8433\n",
      "Epoch 3/20\n",
      "133724/133724 [==============================] - 0s 3us/step - loss: 0.3024 - accuracy: 0.8425 - val_loss: 0.2371 - val_accuracy: 0.8440\n",
      "Epoch 4/20\n",
      "133724/133724 [==============================] - 0s 2us/step - loss: 0.2369 - accuracy: 0.8681 - val_loss: 0.1985 - val_accuracy: 0.9013\n",
      "Epoch 5/20\n",
      "133724/133724 [==============================] - 0s 2us/step - loss: 0.2108 - accuracy: 0.8781 - val_loss: 0.1884 - val_accuracy: 0.9027\n",
      "Epoch 6/20\n",
      "133724/133724 [==============================] - 0s 3us/step - loss: 0.2022 - accuracy: 0.8815 - val_loss: 0.1842 - val_accuracy: 0.9031\n",
      "Epoch 7/20\n",
      "133724/133724 [==============================] - 0s 3us/step - loss: 0.1979 - accuracy: 0.8833 - val_loss: 0.1813 - val_accuracy: 0.9019\n",
      "Epoch 8/20\n",
      "133724/133724 [==============================] - 0s 3us/step - loss: 0.1938 - accuracy: 0.8869 - val_loss: 0.1788 - val_accuracy: 0.9027\n",
      "Epoch 9/20\n",
      "133724/133724 [==============================] - 0s 3us/step - loss: 0.1904 - accuracy: 0.8897 - val_loss: 0.1767 - val_accuracy: 0.9044\n",
      "Epoch 10/20\n",
      "133724/133724 [==============================] - 0s 2us/step - loss: 0.1872 - accuracy: 0.8921 - val_loss: 0.1748 - val_accuracy: 0.9054\n",
      "Epoch 11/20\n",
      "133724/133724 [==============================] - 0s 3us/step - loss: 0.1849 - accuracy: 0.8946 - val_loss: 0.1730 - val_accuracy: 0.9056\n",
      "Epoch 12/20\n",
      "133724/133724 [==============================] - 0s 2us/step - loss: 0.1827 - accuracy: 0.8968 - val_loss: 0.1715 - val_accuracy: 0.9060\n",
      "Epoch 13/20\n",
      "133724/133724 [==============================] - 0s 2us/step - loss: 0.1816 - accuracy: 0.8972 - val_loss: 0.1702 - val_accuracy: 0.9073\n",
      "Epoch 14/20\n",
      "133724/133724 [==============================] - 0s 2us/step - loss: 0.1791 - accuracy: 0.9000 - val_loss: 0.1691 - val_accuracy: 0.9084\n",
      "Epoch 15/20\n",
      "133724/133724 [==============================] - 0s 3us/step - loss: 0.1782 - accuracy: 0.9002 - val_loss: 0.1681 - val_accuracy: 0.9098\n",
      "Epoch 16/20\n",
      "133724/133724 [==============================] - 0s 2us/step - loss: 0.1767 - accuracy: 0.9015 - val_loss: 0.1672 - val_accuracy: 0.9098\n",
      "Epoch 17/20\n",
      "133724/133724 [==============================] - 0s 3us/step - loss: 0.1755 - accuracy: 0.9028 - val_loss: 0.1665 - val_accuracy: 0.9100\n",
      "Epoch 18/20\n",
      "133724/133724 [==============================] - 0s 3us/step - loss: 0.1747 - accuracy: 0.9035 - val_loss: 0.1658 - val_accuracy: 0.9100\n",
      "Epoch 19/20\n",
      "133724/133724 [==============================] - 0s 3us/step - loss: 0.1737 - accuracy: 0.9036 - val_loss: 0.1652 - val_accuracy: 0.9103\n",
      "Epoch 20/20\n",
      "133724/133724 [==============================] - 0s 3us/step - loss: 0.1729 - accuracy: 0.9053 - val_loss: 0.1646 - val_accuracy: 0.9105\n"
     ]
    }
   ],
   "source": [
    "# Setup some training parameters\n",
    "batch_size = 10000\n",
    "epochs = 20\n",
    "input_shape = 92\n",
    "\n",
    "# Build and train model\n",
    "model9 = build_DNN(input_shape=input_shape, n_layers=2, n_nodes=20, act_fun='sigmoid', optimizer='sgd', learning_rate=0.1, \n",
    "              use_bn=False, use_dropout=True, use_custom_dropout=False)\n",
    "\n",
    "history9 = model9.fit(Xtrain,Ytrain, epochs=epochs, batch_size=batch_size, verbose=1, validation_data=(Xval,Yval),class_weight=class_weights)\n",
    "\n"
   ]
  },
  {
   "cell_type": "code",
   "execution_count": 458,
   "metadata": {},
   "outputs": [
    {
     "name": "stdout",
     "output_type": "stream",
     "text": [
      "28656/28656 [==============================] - 0s 14us/step\n",
      "Test loss: 0.1371\n",
      "Test accuracy: 0.9233\n"
     ]
    }
   ],
   "source": [
    "# Evaluate model on test data\n",
    "score = model8.evaluate(Xtest,Ytest)\n",
    "\n",
    "print('Test loss: %.4f' % score[0])\n",
    "print('Test accuracy: %.4f' % score[1])"
   ]
  },
  {
   "cell_type": "code",
   "execution_count": 459,
   "metadata": {},
   "outputs": [
    {
     "data": {
      "image/png": "[encoded data removed]",
      "text/plain": [
       "<Figure size 720x288 with 1 Axes>"
      ]
     },
     "metadata": {
      "needs_background": "light"
     },
     "output_type": "display_data"
    },
    {
     "data": {
      "image/png": "[encoded data removed]",
      "text/plain": [
       "<Figure size 720x288 with 1 Axes>"
      ]
     },
     "metadata": {
      "needs_background": "light"
     },
     "output_type": "display_data"
    }
   ],
   "source": [
    "plot_results(history9)"
   ]
  },
  {
   "cell_type": "markdown",
   "metadata": {},
   "source": [
    "# Part 19: Improving performance\n",
    "\n",
    "Spend some time (30 - 90 minutes) playing with the network architecture (number of layers, number of nodes per layer, activation function) and other hyper parameters (optimizer, learning rate, batch size, number of epochs, degree of regularization). For example, try a much deeper network. How much does the training time increase for a network with 10 layers?\n",
    "\n",
    "Question 17: How high classification accuracy can you achieve for the test data? What is your best configuration?"
   ]
  },
  {
   "cell_type": "markdown",
   "metadata": {},
   "source": [
    "Answer 17: The accuracy on test data is 0.9162 with configuration of 10000 batch size, 40 epochs, 2 layers with 10 nodes in each, learning rate 0.1 and using dropout."
   ]
  },
  {
   "cell_type": "code",
   "execution_count": 513,
   "metadata": {
    "scrolled": true
   },
   "outputs": [
    {
     "name": "stdout",
     "output_type": "stream",
     "text": [
      "Train on 133724 samples, validate on 28655 samples\n",
      "Epoch 1/40\n",
      "133724/133724 [==============================] - 1s 5us/step - loss: 0.4628 - accuracy: 0.8380 - val_loss: 0.4221 - val_accuracy: 0.8433\n",
      "Epoch 2/40\n",
      "133724/133724 [==============================] - 0s 2us/step - loss: 0.4254 - accuracy: 0.8400 - val_loss: 0.3841 - val_accuracy: 0.8433\n",
      "Epoch 3/40\n",
      "133724/133724 [==============================] - 0s 2us/step - loss: 0.3746 - accuracy: 0.8400 - val_loss: 0.3174 - val_accuracy: 0.8433\n",
      "Epoch 4/40\n",
      "133724/133724 [==============================] - 0s 2us/step - loss: 0.3029 - accuracy: 0.8428 - val_loss: 0.2414 - val_accuracy: 0.8433\n",
      "Epoch 5/40\n",
      "133724/133724 [==============================] - 0s 2us/step - loss: 0.2441 - accuracy: 0.8639 - val_loss: 0.2025 - val_accuracy: 0.8950\n",
      "Epoch 6/40\n",
      "133724/133724 [==============================] - 0s 2us/step - loss: 0.2189 - accuracy: 0.8727 - val_loss: 0.1904 - val_accuracy: 0.9008\n",
      "Epoch 7/40\n",
      "133724/133724 [==============================] - 0s 2us/step - loss: 0.2096 - accuracy: 0.8744 - val_loss: 0.1857 - val_accuracy: 0.9013\n",
      "Epoch 8/40\n",
      "133724/133724 [==============================] - 0s 2us/step - loss: 0.2026 - accuracy: 0.8776 - val_loss: 0.1827 - val_accuracy: 0.9016\n",
      "Epoch 9/40\n",
      "133724/133724 [==============================] - 0s 2us/step - loss: 0.1989 - accuracy: 0.8801 - val_loss: 0.1803 - val_accuracy: 0.9032\n",
      "Epoch 10/40\n",
      "133724/133724 [==============================] - 0s 2us/step - loss: 0.1948 - accuracy: 0.8827 - val_loss: 0.1782 - val_accuracy: 0.9052\n",
      "Epoch 11/40\n",
      "133724/133724 [==============================] - 0s 2us/step - loss: 0.1911 - accuracy: 0.8870 - val_loss: 0.1761 - val_accuracy: 0.9061\n",
      "Epoch 12/40\n",
      "133724/133724 [==============================] - 0s 2us/step - loss: 0.1887 - accuracy: 0.8883 - val_loss: 0.1743 - val_accuracy: 0.9064\n",
      "Epoch 13/40\n",
      "133724/133724 [==============================] - 0s 2us/step - loss: 0.1861 - accuracy: 0.8922 - val_loss: 0.1728 - val_accuracy: 0.9078\n",
      "Epoch 14/40\n",
      "133724/133724 [==============================] - 0s 2us/step - loss: 0.1845 - accuracy: 0.8938 - val_loss: 0.1714 - val_accuracy: 0.9090\n",
      "Epoch 15/40\n",
      "133724/133724 [==============================] - 0s 2us/step - loss: 0.1828 - accuracy: 0.8952 - val_loss: 0.1703 - val_accuracy: 0.9094\n",
      "Epoch 16/40\n",
      "133724/133724 [==============================] - 0s 2us/step - loss: 0.1803 - accuracy: 0.8980 - val_loss: 0.1692 - val_accuracy: 0.9099\n",
      "Epoch 17/40\n",
      "133724/133724 [==============================] - 0s 2us/step - loss: 0.1789 - accuracy: 0.8994 - val_loss: 0.1682 - val_accuracy: 0.9107\n",
      "Epoch 18/40\n",
      "133724/133724 [==============================] - 0s 2us/step - loss: 0.1776 - accuracy: 0.9003 - val_loss: 0.1673 - val_accuracy: 0.9114\n",
      "Epoch 19/40\n",
      "133724/133724 [==============================] - 0s 2us/step - loss: 0.1764 - accuracy: 0.9019 - val_loss: 0.1665 - val_accuracy: 0.9118\n",
      "Epoch 20/40\n",
      "133724/133724 [==============================] - 0s 2us/step - loss: 0.1753 - accuracy: 0.9026 - val_loss: 0.1658 - val_accuracy: 0.9121\n",
      "Epoch 21/40\n",
      "133724/133724 [==============================] - 0s 2us/step - loss: 0.1741 - accuracy: 0.9045 - val_loss: 0.1652 - val_accuracy: 0.9146\n",
      "Epoch 22/40\n",
      "133724/133724 [==============================] - 0s 2us/step - loss: 0.1735 - accuracy: 0.9049 - val_loss: 0.1646 - val_accuracy: 0.9154\n",
      "Epoch 23/40\n",
      "133724/133724 [==============================] - 0s 2us/step - loss: 0.1724 - accuracy: 0.9053 - val_loss: 0.1641 - val_accuracy: 0.9162\n",
      "Epoch 24/40\n",
      "133724/133724 [==============================] - 0s 2us/step - loss: 0.1718 - accuracy: 0.9066 - val_loss: 0.1637 - val_accuracy: 0.9166\n",
      "Epoch 25/40\n",
      "133724/133724 [==============================] - 0s 2us/step - loss: 0.1708 - accuracy: 0.9069 - val_loss: 0.1632 - val_accuracy: 0.9167\n",
      "Epoch 26/40\n",
      "133724/133724 [==============================] - 0s 2us/step - loss: 0.1704 - accuracy: 0.9076 - val_loss: 0.1628 - val_accuracy: 0.9164\n",
      "Epoch 27/40\n",
      "133724/133724 [==============================] - 0s 2us/step - loss: 0.1697 - accuracy: 0.9082 - val_loss: 0.1625 - val_accuracy: 0.9162\n",
      "Epoch 28/40\n",
      "133724/133724 [==============================] - 0s 2us/step - loss: 0.1694 - accuracy: 0.9078 - val_loss: 0.1621 - val_accuracy: 0.9160\n",
      "Epoch 29/40\n",
      "133724/133724 [==============================] - 0s 2us/step - loss: 0.1686 - accuracy: 0.9092 - val_loss: 0.1618 - val_accuracy: 0.9158\n",
      "Epoch 30/40\n",
      "133724/133724 [==============================] - 0s 2us/step - loss: 0.1680 - accuracy: 0.9092 - val_loss: 0.1615 - val_accuracy: 0.9159\n",
      "Epoch 31/40\n",
      "133724/133724 [==============================] - 0s 2us/step - loss: 0.1680 - accuracy: 0.9099 - val_loss: 0.1613 - val_accuracy: 0.9160\n",
      "Epoch 32/40\n",
      "133724/133724 [==============================] - 0s 2us/step - loss: 0.1673 - accuracy: 0.9105 - val_loss: 0.1610 - val_accuracy: 0.9158\n",
      "Epoch 33/40\n",
      "133724/133724 [==============================] - 0s 2us/step - loss: 0.1673 - accuracy: 0.9104 - val_loss: 0.1608 - val_accuracy: 0.9154\n",
      "Epoch 34/40\n",
      "133724/133724 [==============================] - 0s 2us/step - loss: 0.1665 - accuracy: 0.9107 - val_loss: 0.1606 - val_accuracy: 0.9153\n",
      "Epoch 35/40\n",
      "133724/133724 [==============================] - 0s 2us/step - loss: 0.1663 - accuracy: 0.9112 - val_loss: 0.1604 - val_accuracy: 0.9153\n",
      "Epoch 36/40\n",
      "133724/133724 [==============================] - 0s 2us/step - loss: 0.1663 - accuracy: 0.9115 - val_loss: 0.1602 - val_accuracy: 0.9153\n",
      "Epoch 37/40\n",
      "133724/133724 [==============================] - 0s 2us/step - loss: 0.1655 - accuracy: 0.9120 - val_loss: 0.1600 - val_accuracy: 0.9152\n",
      "Epoch 38/40\n",
      "133724/133724 [==============================] - 0s 2us/step - loss: 0.1653 - accuracy: 0.9119 - val_loss: 0.1598 - val_accuracy: 0.9153\n",
      "Epoch 39/40\n",
      "133724/133724 [==============================] - 0s 2us/step - loss: 0.1646 - accuracy: 0.9124 - val_loss: 0.1597 - val_accuracy: 0.9153\n",
      "Epoch 40/40\n",
      "133724/133724 [==============================] - 0s 2us/step - loss: 0.1644 - accuracy: 0.9130 - val_loss: 0.1595 - val_accuracy: 0.9155\n"
     ]
    }
   ],
   "source": [
    "# Find your best configuration for the DNN\n",
    "# Setup some training parameters\n",
    "batch_size = 10000\n",
    "epochs = 40\n",
    "\n",
    "input_shape = 92\n",
    "\n",
    "# Build and train DNN\n",
    "model10 = build_DNN(input_shape=input_shape, n_layers=2, n_nodes=10, act_fun='sigmoid', optimizer='sgd', learning_rate=0.1, \n",
    "              use_bn=False, use_dropout=True, use_custom_dropout=False)\n",
    "\n",
    "history10 = model10.fit(Xtrain,Ytrain, epochs=epochs, batch_size=batch_size, verbose=1, validation_data=(Xval,Yval),class_weight=class_weights)\n",
    "\n"
   ]
  },
  {
   "cell_type": "code",
   "execution_count": 514,
   "metadata": {},
   "outputs": [
    {
     "name": "stdout",
     "output_type": "stream",
     "text": [
      "28656/28656 [==============================] - 0s 12us/step\n",
      "Test loss: 0.1593\n",
      "Test accuracy: 0.9162\n"
     ]
    }
   ],
   "source": [
    "# Evaluate DNN on test data\n",
    "score = model10.evaluate(Xtest,Ytest)\n",
    "\n",
    "print('Test loss: %.4f' % score[0])\n",
    "print('Test accuracy: %.4f' % score[1])"
   ]
  },
  {
   "cell_type": "markdown",
   "metadata": {},
   "source": [
    "# Part 20: Dropout uncertainty\n",
    "\n",
    "Dropout can also be used during testing, to obtain an estimate of the model uncertainty. Since dropout will randomly remove connections, the network will produce different results every time the same (test) data is put into the network. This technique is called Monte Carlo dropout. For more information, see this paper http://proceedings.mlr.press/v48/gal16.pdf\n",
    "\n",
    "To achieve this, we need to redefine the Keras Dropout call by running the cell below, and use 'myDropout' in each call to Dropout, in the cell that defines the DNN. The `build_DNN` function takes two boolean arguments, use_dropout and use_custom_dropout, add a standard Dropout layer if use_dropout is true, add a myDropout layer if use_custom_dropout is true.\n",
    "\n",
    "Run the same test data through the trained network 100 times, with dropout turned on. \n",
    "\n",
    "Question 18: What is the mean and the standard deviation of the test accuracy?"
   ]
  },
  {
   "cell_type": "markdown",
   "metadata": {},
   "source": [
    "Answer 18: the mean and std of the test accuracy is 0.9128904932737351 and 0.0005926117487110591 respectively."
   ]
  },
  {
   "cell_type": "code",
   "execution_count": 515,
   "metadata": {},
   "outputs": [],
   "source": [
    "import keras.backend as K\n",
    "import keras\n",
    "\n",
    "class myDropout(keras.layers.Dropout):\n",
    "    \"\"\"Applies Dropout to the input.\n",
    "    Dropout consists in randomly setting\n",
    "    a fraction `rate` of input units to 0 at each update during training time,\n",
    "    which helps prevent overfitting.\n",
    "    # Arguments\n",
    "        rate: float between 0 and 1. Fraction of the input units to drop.\n",
    "        noise_shape: 1D integer tensor representing the shape of the\n",
    "            binary dropout mask that will be multiplied with the input.\n",
    "            For instance, if your inputs have shape\n",
    "            `(batch_size, timesteps, features)` and\n",
    "            you want the dropout mask to be the same for all timesteps,\n",
    "            you can use `noise_shape=(batch_size, 1, features)`.\n",
    "        seed: A Python integer to use as random seed.\n",
    "    # References\n",
    "        - [Dropout: A Simple Way to Prevent Neural Networks from Overfitting](\n",
    "           http://www.jmlr.org/papers/volume15/srivastava14a/srivastava14a.pdf)\n",
    "    \"\"\"\n",
    "    def __init__(self, rate, training=True, noise_shape=None, seed=None, **kwargs):\n",
    "        super(myDropout, self).__init__(rate, noise_shape=None, seed=None,**kwargs)\n",
    "        self.training = training\n",
    "\n",
    "        \n",
    "    def call(self, inputs, training=None):\n",
    "        if 0. < self.rate < 1.:\n",
    "            noise_shape = self._get_noise_shape(inputs)\n",
    "\n",
    "            def dropped_inputs():\n",
    "                return K.dropout(inputs, self.rate, noise_shape,\n",
    "                                 seed=self.seed)\n",
    "            if not training: \n",
    "                return K.in_train_phase(dropped_inputs, inputs, training=self.training)\n",
    "            return K.in_train_phase(dropped_inputs, inputs, training=training)\n",
    "        return inputs"
   ]
  },
  {
   "cell_type": "markdown",
   "metadata": {},
   "source": [
    "### Your best config, custom dropout"
   ]
  },
  {
   "cell_type": "code",
   "execution_count": 525,
   "metadata": {
    "scrolled": true
   },
   "outputs": [
    {
     "name": "stdout",
     "output_type": "stream",
     "text": [
      "Train on 133724 samples, validate on 28655 samples\n",
      "Epoch 1/50\n",
      "133724/133724 [==============================] - 1s 4us/step - loss: 0.5565 - accuracy: 0.7384 - val_loss: 0.4730 - val_accuracy: 0.8433\n",
      "Epoch 2/50\n",
      "133724/133724 [==============================] - 0s 2us/step - loss: 0.4321 - accuracy: 0.8401 - val_loss: 0.4004 - val_accuracy: 0.8433\n",
      "Epoch 3/50\n",
      "133724/133724 [==============================] - 0s 2us/step - loss: 0.3824 - accuracy: 0.8401 - val_loss: 0.3485 - val_accuracy: 0.8433\n",
      "Epoch 4/50\n",
      "133724/133724 [==============================] - 0s 2us/step - loss: 0.3284 - accuracy: 0.8401 - val_loss: 0.2910 - val_accuracy: 0.8449\n",
      "Epoch 5/50\n",
      "133724/133724 [==============================] - 0s 2us/step - loss: 0.2721 - accuracy: 0.8473 - val_loss: 0.2454 - val_accuracy: 0.8642\n",
      "Epoch 6/50\n",
      "133724/133724 [==============================] - 0s 2us/step - loss: 0.2364 - accuracy: 0.8678 - val_loss: 0.2222 - val_accuracy: 0.8783\n",
      "Epoch 7/50\n",
      "133724/133724 [==============================] - 0s 2us/step - loss: 0.2186 - accuracy: 0.8778 - val_loss: 0.2120 - val_accuracy: 0.8790\n",
      "Epoch 8/50\n",
      "133724/133724 [==============================] - 0s 2us/step - loss: 0.2093 - accuracy: 0.8807 - val_loss: 0.2044 - val_accuracy: 0.8826\n",
      "Epoch 9/50\n",
      "133724/133724 [==============================] - 0s 2us/step - loss: 0.2036 - accuracy: 0.8822 - val_loss: 0.1971 - val_accuracy: 0.8862\n",
      "Epoch 10/50\n",
      "133724/133724 [==============================] - 0s 2us/step - loss: 0.1995 - accuracy: 0.8836 - val_loss: 0.1957 - val_accuracy: 0.8858\n",
      "Epoch 11/50\n",
      "133724/133724 [==============================] - 0s 2us/step - loss: 0.1961 - accuracy: 0.8849 - val_loss: 0.1910 - val_accuracy: 0.8873\n",
      "Epoch 12/50\n",
      "133724/133724 [==============================] - 0s 2us/step - loss: 0.1929 - accuracy: 0.8875 - val_loss: 0.1882 - val_accuracy: 0.8918\n",
      "Epoch 13/50\n",
      "133724/133724 [==============================] - 0s 2us/step - loss: 0.1904 - accuracy: 0.8894 - val_loss: 0.1875 - val_accuracy: 0.8910\n",
      "Epoch 14/50\n",
      "133724/133724 [==============================] - 0s 2us/step - loss: 0.1881 - accuracy: 0.8912 - val_loss: 0.1850 - val_accuracy: 0.8932\n",
      "Epoch 15/50\n",
      "133724/133724 [==============================] - 0s 2us/step - loss: 0.1866 - accuracy: 0.8921 - val_loss: 0.1833 - val_accuracy: 0.8943\n",
      "Epoch 16/50\n",
      "133724/133724 [==============================] - 0s 2us/step - loss: 0.1846 - accuracy: 0.8941 - val_loss: 0.1817 - val_accuracy: 0.8964\n",
      "Epoch 17/50\n",
      "133724/133724 [==============================] - 0s 2us/step - loss: 0.1835 - accuracy: 0.8951 - val_loss: 0.1801 - val_accuracy: 0.8973\n",
      "Epoch 18/50\n",
      "133724/133724 [==============================] - 0s 2us/step - loss: 0.1817 - accuracy: 0.8966 - val_loss: 0.1795 - val_accuracy: 0.8991\n",
      "Epoch 19/50\n",
      "133724/133724 [==============================] - 0s 2us/step - loss: 0.1805 - accuracy: 0.8969 - val_loss: 0.1795 - val_accuracy: 0.8986\n",
      "Epoch 20/50\n",
      "133724/133724 [==============================] - 0s 2us/step - loss: 0.1796 - accuracy: 0.8982 - val_loss: 0.1781 - val_accuracy: 0.8985\n",
      "Epoch 21/50\n",
      "133724/133724 [==============================] - 0s 2us/step - loss: 0.1783 - accuracy: 0.8997 - val_loss: 0.1752 - val_accuracy: 0.9010\n",
      "Epoch 22/50\n",
      "133724/133724 [==============================] - 0s 2us/step - loss: 0.1776 - accuracy: 0.8999 - val_loss: 0.1757 - val_accuracy: 0.8998\n",
      "Epoch 23/50\n",
      "133724/133724 [==============================] - 0s 2us/step - loss: 0.1765 - accuracy: 0.9007 - val_loss: 0.1751 - val_accuracy: 0.9010\n",
      "Epoch 24/50\n",
      "133724/133724 [==============================] - 0s 2us/step - loss: 0.1757 - accuracy: 0.9022 - val_loss: 0.1728 - val_accuracy: 0.9040\n",
      "Epoch 25/50\n",
      "133724/133724 [==============================] - 0s 2us/step - loss: 0.1747 - accuracy: 0.9021 - val_loss: 0.1734 - val_accuracy: 0.9041\n",
      "Epoch 26/50\n",
      "133724/133724 [==============================] - 0s 2us/step - loss: 0.1742 - accuracy: 0.9034 - val_loss: 0.1733 - val_accuracy: 0.9036\n",
      "Epoch 27/50\n",
      "133724/133724 [==============================] - 0s 2us/step - loss: 0.1730 - accuracy: 0.9046 - val_loss: 0.1721 - val_accuracy: 0.9041\n",
      "Epoch 28/50\n",
      "133724/133724 [==============================] - 0s 2us/step - loss: 0.1727 - accuracy: 0.9049 - val_loss: 0.1711 - val_accuracy: 0.9060\n",
      "Epoch 29/50\n",
      "133724/133724 [==============================] - 0s 2us/step - loss: 0.1718 - accuracy: 0.9053 - val_loss: 0.1701 - val_accuracy: 0.9074\n",
      "Epoch 30/50\n",
      "133724/133724 [==============================] - 0s 2us/step - loss: 0.1715 - accuracy: 0.9060 - val_loss: 0.1692 - val_accuracy: 0.9071\n",
      "Epoch 31/50\n",
      "133724/133724 [==============================] - 0s 2us/step - loss: 0.1705 - accuracy: 0.9063 - val_loss: 0.1687 - val_accuracy: 0.9075\n",
      "Epoch 32/50\n",
      "133724/133724 [==============================] - 0s 2us/step - loss: 0.1708 - accuracy: 0.9067 - val_loss: 0.1685 - val_accuracy: 0.9088\n",
      "Epoch 33/50\n",
      "133724/133724 [==============================] - 0s 2us/step - loss: 0.1698 - accuracy: 0.9080 - val_loss: 0.1693 - val_accuracy: 0.9085\n",
      "Epoch 34/50\n",
      "133724/133724 [==============================] - 0s 2us/step - loss: 0.1696 - accuracy: 0.9089 - val_loss: 0.1683 - val_accuracy: 0.9075\n",
      "Epoch 35/50\n",
      "133724/133724 [==============================] - 0s 2us/step - loss: 0.1689 - accuracy: 0.9086 - val_loss: 0.1673 - val_accuracy: 0.9088\n",
      "Epoch 36/50\n",
      "133724/133724 [==============================] - 0s 2us/step - loss: 0.1688 - accuracy: 0.9087 - val_loss: 0.1675 - val_accuracy: 0.9090\n",
      "Epoch 37/50\n",
      "133724/133724 [==============================] - 0s 2us/step - loss: 0.1680 - accuracy: 0.9099 - val_loss: 0.1673 - val_accuracy: 0.9090\n",
      "Epoch 38/50\n",
      "133724/133724 [==============================] - 0s 2us/step - loss: 0.1681 - accuracy: 0.9094 - val_loss: 0.1662 - val_accuracy: 0.9105\n",
      "Epoch 39/50\n",
      "133724/133724 [==============================] - 0s 2us/step - loss: 0.1674 - accuracy: 0.9106 - val_loss: 0.1664 - val_accuracy: 0.9102\n",
      "Epoch 40/50\n",
      "133724/133724 [==============================] - 0s 2us/step - loss: 0.1674 - accuracy: 0.9101 - val_loss: 0.1666 - val_accuracy: 0.9106\n",
      "Epoch 41/50\n",
      "133724/133724 [==============================] - 0s 2us/step - loss: 0.1672 - accuracy: 0.9103 - val_loss: 0.1655 - val_accuracy: 0.9117\n",
      "Epoch 42/50\n",
      "133724/133724 [==============================] - 0s 2us/step - loss: 0.1672 - accuracy: 0.9100 - val_loss: 0.1650 - val_accuracy: 0.9108\n",
      "Epoch 43/50\n",
      "133724/133724 [==============================] - 0s 2us/step - loss: 0.1664 - accuracy: 0.9113 - val_loss: 0.1652 - val_accuracy: 0.9119\n",
      "Epoch 44/50\n",
      "133724/133724 [==============================] - 0s 2us/step - loss: 0.1659 - accuracy: 0.9113 - val_loss: 0.1650 - val_accuracy: 0.9111\n",
      "Epoch 45/50\n",
      "133724/133724 [==============================] - 0s 2us/step - loss: 0.1659 - accuracy: 0.9116 - val_loss: 0.1655 - val_accuracy: 0.9113\n",
      "Epoch 46/50\n",
      "133724/133724 [==============================] - 0s 2us/step - loss: 0.1657 - accuracy: 0.9117 - val_loss: 0.1640 - val_accuracy: 0.9126\n",
      "Epoch 47/50\n",
      "133724/133724 [==============================] - 0s 2us/step - loss: 0.1657 - accuracy: 0.9117 - val_loss: 0.1646 - val_accuracy: 0.9116\n",
      "Epoch 48/50\n",
      "133724/133724 [==============================] - 0s 2us/step - loss: 0.1654 - accuracy: 0.9124 - val_loss: 0.1636 - val_accuracy: 0.9116\n",
      "Epoch 49/50\n",
      "133724/133724 [==============================] - 0s 2us/step - loss: 0.1652 - accuracy: 0.9120 - val_loss: 0.1639 - val_accuracy: 0.9115\n",
      "Epoch 50/50\n",
      "133724/133724 [==============================] - 0s 2us/step - loss: 0.1651 - accuracy: 0.9122 - val_loss: 0.1635 - val_accuracy: 0.9127\n"
     ]
    }
   ],
   "source": [
    "# Your best training parameters\n",
    "\n",
    "# Build and train DNN\n",
    "model11 = build_DNN(input_shape=input_shape, n_layers=2, n_nodes=10, act_fun='sigmoid', optimizer='sgd', learning_rate=0.1, \n",
    "              use_bn=False, use_dropout=False, use_custom_dropout=True)\n",
    "\n",
    "history11 = model11.fit(Xtrain,Ytrain, epochs=epochs+10, batch_size=batch_size, verbose=1, validation_data=(Xval,Yval),class_weight=class_weights)\n",
    "\n"
   ]
  },
  {
   "cell_type": "code",
   "execution_count": 526,
   "metadata": {},
   "outputs": [
    {
     "name": "stdout",
     "output_type": "stream",
     "text": [
      "28656/28656 [==============================] - 0s 15us/step\n",
      "Test loss: 0.1643\n",
      "Test accuracy: 0.9112\n"
     ]
    }
   ],
   "source": [
    "# Run this cell a few times to evalute the model on test data, \n",
    "# if you get slightly different test accuracy every time, Dropout during testing is working\n",
    "\n",
    "# Evaluate model on test data\n",
    "score = model11.evaluate(Xtest,Ytest)\n",
    "\n",
    "print('Test loss: %.4f' % score[0])\n",
    "print('Test accuracy: %.4f' % score[1])\n",
    "                       "
   ]
  },
  {
   "cell_type": "code",
   "execution_count": 527,
   "metadata": {},
   "outputs": [
    {
     "name": "stdout",
     "output_type": "stream",
     "text": [
      "28656/28656 [==============================] - 0s 14us/step\n",
      "28656/28656 [==============================] - 0s 14us/step\n",
      "28656/28656 [==============================] - 0s 14us/step\n",
      "28656/28656 [==============================] - 0s 14us/step\n",
      "28656/28656 [==============================] - 0s 14us/step\n",
      "28656/28656 [==============================] - 0s 15us/step\n",
      "28656/28656 [==============================] - 0s 15us/step\n",
      "28656/28656 [==============================] - 0s 14us/step\n",
      "28656/28656 [==============================] - 0s 14us/step\n",
      "28656/28656 [==============================] - 0s 14us/step\n",
      "28656/28656 [==============================] - 0s 14us/step\n",
      "28656/28656 [==============================] - 0s 14us/step\n",
      "28656/28656 [==============================] - 0s 15us/step\n",
      "28656/28656 [==============================] - 0s 14us/step\n",
      "28656/28656 [==============================] - 0s 14us/step\n",
      "28656/28656 [==============================] - 0s 14us/step\n",
      "28656/28656 [==============================] - 0s 14us/step\n",
      "28656/28656 [==============================] - 0s 14us/step\n",
      "28656/28656 [==============================] - 0s 14us/step\n",
      "28656/28656 [==============================] - 0s 14us/step\n",
      "28656/28656 [==============================] - 0s 15us/step\n",
      "28656/28656 [==============================] - 0s 14us/step\n",
      "28656/28656 [==============================] - 0s 14us/step\n",
      "28656/28656 [==============================] - 0s 14us/step\n",
      "28656/28656 [==============================] - 0s 14us/step\n",
      "28656/28656 [==============================] - 0s 14us/step\n",
      "28656/28656 [==============================] - 0s 14us/step\n",
      "28656/28656 [==============================] - 0s 14us/step\n",
      "28656/28656 [==============================] - 0s 14us/step\n",
      "28656/28656 [==============================] - 0s 14us/step\n",
      "28656/28656 [==============================] - 0s 15us/step\n",
      "28656/28656 [==============================] - 0s 15us/step\n",
      "28656/28656 [==============================] - 0s 14us/step\n",
      "28656/28656 [==============================] - 0s 14us/step\n",
      "28656/28656 [==============================] - 0s 14us/step\n",
      "28656/28656 [==============================] - 0s 14us/step\n",
      "28656/28656 [==============================] - 0s 14us/step\n",
      "28656/28656 [==============================] - 0s 14us/step\n",
      "28656/28656 [==============================] - 0s 14us/step\n",
      "28656/28656 [==============================] - 0s 14us/step\n",
      "28656/28656 [==============================] - 0s 13us/step\n",
      "28656/28656 [==============================] - 0s 14us/step\n",
      "28656/28656 [==============================] - 0s 14us/step\n",
      "28656/28656 [==============================] - 0s 13us/step\n",
      "28656/28656 [==============================] - 0s 14us/step\n",
      "28656/28656 [==============================] - 0s 13us/step\n",
      "28656/28656 [==============================] - 0s 14us/step\n",
      "28656/28656 [==============================] - 0s 14us/step\n",
      "28656/28656 [==============================] - 0s 14us/step\n",
      "28656/28656 [==============================] - 0s 14us/step\n",
      "28656/28656 [==============================] - 0s 14us/step\n",
      "28656/28656 [==============================] - 0s 16us/step\n",
      "28656/28656 [==============================] - 0s 14us/step\n",
      "28656/28656 [==============================] - 0s 13us/step\n",
      "28656/28656 [==============================] - 0s 14us/step\n",
      "28656/28656 [==============================] - 0s 14us/step\n",
      "28656/28656 [==============================] - 0s 14us/step\n",
      "28656/28656 [==============================] - 0s 14us/step\n",
      "28656/28656 [==============================] - 0s 14us/step\n",
      "28656/28656 [==============================] - 0s 14us/step\n",
      "28656/28656 [==============================] - 0s 15us/step\n",
      "28656/28656 [==============================] - 0s 14us/step\n",
      "28656/28656 [==============================] - 0s 14us/step\n",
      "28656/28656 [==============================] - 0s 14us/step\n",
      "28656/28656 [==============================] - 0s 14us/step\n",
      "28656/28656 [==============================] - 0s 15us/step\n",
      "28656/28656 [==============================] - 0s 15us/step\n",
      "28656/28656 [==============================] - 0s 14us/step\n",
      "28656/28656 [==============================] - 0s 14us/step\n",
      "28656/28656 [==============================] - 0s 14us/step\n",
      "28656/28656 [==============================] - 0s 14us/step\n",
      "28656/28656 [==============================] - 0s 14us/step\n",
      "28656/28656 [==============================] - 0s 15us/step\n",
      "28656/28656 [==============================] - 0s 14us/step\n",
      "28656/28656 [==============================] - 0s 15us/step\n",
      "28656/28656 [==============================] - 0s 14us/step\n",
      "28656/28656 [==============================] - 0s 14us/step\n",
      "28656/28656 [==============================] - 0s 14us/step\n",
      "28656/28656 [==============================] - 0s 14us/step\n",
      "28656/28656 [==============================] - 0s 15us/step\n",
      "28656/28656 [==============================] - 0s 15us/step\n",
      "28656/28656 [==============================] - 0s 15us/step\n",
      "28656/28656 [==============================] - 0s 14us/step\n",
      "28656/28656 [==============================] - 0s 14us/step\n",
      "28656/28656 [==============================] - 0s 15us/step\n",
      "28656/28656 [==============================] - 0s 14us/step\n",
      "28656/28656 [==============================] - 0s 14us/step\n",
      "28656/28656 [==============================] - 0s 14us/step\n",
      "28656/28656 [==============================] - 0s 14us/step\n",
      "28656/28656 [==============================] - 0s 14us/step\n",
      "28656/28656 [==============================] - 0s 14us/step\n",
      "28656/28656 [==============================] - 0s 14us/step\n",
      "28656/28656 [==============================] - 0s 14us/step\n",
      "28656/28656 [==============================] - 0s 14us/step\n",
      "28656/28656 [==============================] - 0s 15us/step\n",
      "28656/28656 [==============================] - 0s 15us/step\n",
      "28656/28656 [==============================] - 0s 14us/step\n",
      "28656/28656 [==============================] - 0s 14us/step\n",
      "28656/28656 [==============================] - 0s 14us/step\n",
      "28656/28656 [==============================] - 0s 15us/step\n",
      "0.9128904932737351\n",
      "0.0005926117487110591\n"
     ]
    }
   ],
   "source": [
    "# Run the testing 100 times, and save the accuracies in an array\n",
    "accuracy_array = np.empty(100)\n",
    "for i in range(100):\n",
    "    score = model11.evaluate(Xtest,Ytest)\n",
    "    accuracy_array[i] = score[1]\n",
    "    \n",
    "# Calculate and print mean and std of accuracies\n",
    "print(np.mean(accuracy_array))\n",
    "print(np.std(accuracy_array))\n"
   ]
  },
  {
   "cell_type": "markdown",
   "metadata": {},
   "source": [
    "# Part 21: Cross validation uncertainty\n",
    "\n",
    "Cross validation (CV) is often used to evaluate a model, by training and testing using different subsets of the data it is possible to get the uncertainty as the standard deviation over folds. We here use a help function from scikit-learn to setup the CV, see https://scikit-learn.org/stable/modules/generated/sklearn.model_selection.StratifiedKFold.html . Use 10 folds with shuffling, random state 1234. \n",
    "\n",
    "Note: We here assume that you have found the best hyper parameters, so here the data are only split into training and testing, no validation.\n",
    "\n",
    "---\n",
    "\n",
    "Question 19: What is the mean and the standard deviation of the test accuracy?\n",
    "\n",
    "Question 20: What is the main advantage of dropout compared to CV for estimating test uncertainty? The difference may not be so large in this notebook, but imagine that you have a network that takes 24 hours to train."
   ]
  },
  {
   "cell_type": "markdown",
   "metadata": {},
   "source": [
    "Answer 19: The mean and std of the test accuracy is 0.915277773141861, 0.0019313836857346655 respectively.\n",
    "\n",
    "Answer 20: The main advantage of dropout is saving time because the dropout trains one network and estimates accuracy on the test dataset, but the CV needs to train several times on different subsets and estimate the average accuracy after all networks are done."
   ]
  },
  {
   "cell_type": "code",
   "execution_count": 10,
   "metadata": {},
   "outputs": [
    {
     "name": "stderr",
     "output_type": "stream",
     "text": [
      "/opt/liu/course-venv-732a78/1/lib/python3.8/site-packages/keras/optimizer_v2/gradient_descent.py:102: UserWarning: The `lr` argument is deprecated, use `learning_rate` instead.\n",
      "  super(SGD, self).__init__(name, **kwargs)\n"
     ]
    }
   ],
   "source": [
    "from sklearn.model_selection import StratifiedKFold\n",
    "batch_size = 10000\n",
    "epochs = 40\n",
    "\n",
    "# Define 10-fold cross validation\n",
    "skf = StratifiedKFold(n_splits=10)\n",
    "i=0\n",
    "new_accuracy = []\n",
    "# Loop over cross validation folds\n",
    "for train_index, test_index in skf.split(X, Y):\n",
    "    X_train, X_test = X[train_index], X[test_index]\n",
    "    Y_train, Y_test = Y[train_index], Y[test_index]\n",
    "    \n",
    "    # Calculate class weights for current split\n",
    "    class_weights = class_weight.compute_class_weight(\"balanced\", classes=np.unique(Y_train), y=Y_train)\n",
    "    class_weights = {0: class_weights[0], 1: class_weights[1]}\n",
    "    input_shape = 92\n",
    "    # Rebuild the DNN model, to not continue training on the previously trained model\n",
    "    model_new = build_DNN(input_shape=input_shape, n_layers=2, n_nodes=10, act_fun='sigmoid', optimizer='sgd', learning_rate=0.1, \n",
    "              use_bn=False, use_dropout=True, use_custom_dropout=False)\n",
    "\n",
    "    \n",
    "    # Fit the model with training set and class weights for this fold\n",
    "    history_new = model_new.fit(X_train,Y_train, epochs=epochs+10, batch_size=batch_size, verbose=0, validation_data=(X_test,Y_test),class_weight=class_weights)\n",
    "\n",
    "    # Evaluate the model using the test set for this fold\n",
    "    score = model_new.evaluate(Xtest,Ytest,verbose = 0)\n",
    "\n",
    "    # Save the test accuracy in an array\n",
    "    new_accuracy.append(score[1])\n",
    "    i = i + 1\n",
    "\n"
   ]
  },
  {
   "cell_type": "code",
   "execution_count": 11,
   "metadata": {},
   "outputs": [
    {
     "name": "stdout",
     "output_type": "stream",
     "text": [
      "0.915277773141861\n",
      "0.0019313836857346655\n"
     ]
    }
   ],
   "source": [
    "# Calculate and print mean and std of accuracies\n",
    "print(np.mean(new_accuracy))\n",
    "print(np.std(new_accuracy))"
   ]
  },
  {
   "cell_type": "markdown",
   "metadata": {},
   "source": [
    "# Part 22: DNN regression\n",
    "\n",
    "A similar DNN can be used for regression, instead of classification.\n",
    "\n",
    "Question 21: How would you change the DNN in order to use it for regression instead?"
   ]
  },
  {
   "cell_type": "markdown",
   "metadata": {},
   "source": [
    "Answer 21: For regression we need to change the loss function to regression losses such as MeanSquareError."
   ]
  },
  {
   "cell_type": "markdown",
   "metadata": {},
   "source": [
    "## Report\n",
    "\n",
    "Send in this jupyter notebook, with answers to all questions."
   ]
  }
 ],
 "metadata": {
  "kernelspec": {
   "display_name": "Python 3 (ipykernel)",
   "language": "python",
   "name": "python3"
  },
  "language_info": {
   "codemirror_mode": {
    "name": "ipython",
    "version": 3
   },
   "file_extension": ".py",
   "mimetype": "text/x-python",
   "name": "python",
   "nbconvert_exporter": "python",
   "pygments_lexer": "ipython3",
   "version": "3.8.10"
  }
 },
 "nbformat": 4,
 "nbformat_minor": 4
}
